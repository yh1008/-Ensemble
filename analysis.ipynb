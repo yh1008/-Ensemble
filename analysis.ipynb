{
  {
   "cell_type": "markdown",
   "metadata": {},
   "source": [
    "# Step0 - Import Libraries, Load Data [0 points]\n",
    "\n",
    "This is the basic step where you can load the data and create train and test sets for internal validation as per your convinience."
   ]
  },
  {
   "cell_type": "code",
   "execution_count": 80,
   "metadata": {
    "collapsed": true
   },
   "outputs": [],
   "source": [
    "import pandas as pd \n",
    "df = pd.read_csv(\"./data/data.csv\", na_values=\"unknown\")"
   ]
  },
  {
   "cell_type": "code",
   "execution_count": 81,
   "metadata": {
    "collapsed": false
   },
   "outputs": [
    {
     "name": "stdout",
     "output_type": "stream",
     "text": [
      "(8238, 21)\n"
     ]
    }
   ],
   "source": [
    "df_holdout = pd.read_csv(\"./data/holdout.csv\", na_values=\"unknown\")\n",
    "print (df_holdout.shape)"
   ]
  },
  {
   "cell_type": "code",
   "execution_count": 82,
   "metadata": {
    "collapsed": true
   },
   "outputs": [],
   "source": [
    "import matplotlib.pyplot as plt\n",
    "%matplotlib inline"
   ]
  },
  {
   "cell_type": "code",
   "execution_count": 83,
   "metadata": {
    "collapsed": false,
    "scrolled": true
   },
   "outputs": [
    {
     "data": {
      "text/html": [
       "<div>\n",
       "<table border=\"1\" class=\"dataframe\">\n",
       "  <thead>\n",
       "    <tr style=\"text-align: right;\">\n",
       "      <th></th>\n",
       "      <th>age</th>\n",
       "      <th>job</th>\n",
       "      <th>marital_status</th>\n",
       "      <th>education</th>\n",
       "      <th>credit_default</th>\n",
       "      <th>housing</th>\n",
       "      <th>loan</th>\n",
       "      <th>contact</th>\n",
       "      <th>month</th>\n",
       "      <th>day_of_week</th>\n",
       "      <th>...</th>\n",
       "      <th>campaign</th>\n",
       "      <th>prev_days</th>\n",
       "      <th>prev_contacts</th>\n",
       "      <th>prev_outcomes</th>\n",
       "      <th>emp_var_rate</th>\n",
       "      <th>cons_price_idx</th>\n",
       "      <th>cons_conf_idx</th>\n",
       "      <th>euribor3m</th>\n",
       "      <th>nr_employed</th>\n",
       "      <th>subscribed</th>\n",
       "    </tr>\n",
       "  </thead>\n",
       "  <tbody>\n",
       "    <tr>\n",
       "      <th>0</th>\n",
       "      <td>41.0</td>\n",
       "      <td>blue-collar</td>\n",
       "      <td>married</td>\n",
       "      <td>basic.9y</td>\n",
       "      <td>no</td>\n",
       "      <td>yes</td>\n",
       "      <td>no</td>\n",
       "      <td>cellular</td>\n",
       "      <td>apr</td>\n",
       "      <td>mon</td>\n",
       "      <td>...</td>\n",
       "      <td>2.0</td>\n",
       "      <td>999</td>\n",
       "      <td>0</td>\n",
       "      <td>nonexistent</td>\n",
       "      <td>-1.695118</td>\n",
       "      <td>92.698705</td>\n",
       "      <td>-46.727552</td>\n",
       "      <td>1.345160</td>\n",
       "      <td>5097.0</td>\n",
       "      <td>no</td>\n",
       "    </tr>\n",
       "    <tr>\n",
       "      <th>1</th>\n",
       "      <td>46.0</td>\n",
       "      <td>entrepreneur</td>\n",
       "      <td>married</td>\n",
       "      <td>NaN</td>\n",
       "      <td>no</td>\n",
       "      <td>no</td>\n",
       "      <td>no</td>\n",
       "      <td>cellular</td>\n",
       "      <td>may</td>\n",
       "      <td>wed</td>\n",
       "      <td>...</td>\n",
       "      <td>2.0</td>\n",
       "      <td>999</td>\n",
       "      <td>0</td>\n",
       "      <td>nonexistent</td>\n",
       "      <td>-1.767159</td>\n",
       "      <td>92.914878</td>\n",
       "      <td>-46.313088</td>\n",
       "      <td>1.314499</td>\n",
       "      <td>5100.0</td>\n",
       "      <td>no</td>\n",
       "    </tr>\n",
       "    <tr>\n",
       "      <th>2</th>\n",
       "      <td>56.0</td>\n",
       "      <td>unemployed</td>\n",
       "      <td>married</td>\n",
       "      <td>basic.9y</td>\n",
       "      <td>no</td>\n",
       "      <td>yes</td>\n",
       "      <td>yes</td>\n",
       "      <td>cellular</td>\n",
       "      <td>nov</td>\n",
       "      <td>fri</td>\n",
       "      <td>...</td>\n",
       "      <td>1.0</td>\n",
       "      <td>999</td>\n",
       "      <td>0</td>\n",
       "      <td>nonexistent</td>\n",
       "      <td>-0.100365</td>\n",
       "      <td>93.423076</td>\n",
       "      <td>-41.904559</td>\n",
       "      <td>4.003471</td>\n",
       "      <td>5193.0</td>\n",
       "      <td>no</td>\n",
       "    </tr>\n",
       "    <tr>\n",
       "      <th>3</th>\n",
       "      <td>89.0</td>\n",
       "      <td>retired</td>\n",
       "      <td>divorced</td>\n",
       "      <td>basic.4y</td>\n",
       "      <td>no</td>\n",
       "      <td>yes</td>\n",
       "      <td>no</td>\n",
       "      <td>cellular</td>\n",
       "      <td>may</td>\n",
       "      <td>wed</td>\n",
       "      <td>...</td>\n",
       "      <td>4.0</td>\n",
       "      <td>999</td>\n",
       "      <td>0</td>\n",
       "      <td>nonexistent</td>\n",
       "      <td>-1.771314</td>\n",
       "      <td>93.672814</td>\n",
       "      <td>-46.045500</td>\n",
       "      <td>1.261668</td>\n",
       "      <td>5100.0</td>\n",
       "      <td>no</td>\n",
       "    </tr>\n",
       "    <tr>\n",
       "      <th>4</th>\n",
       "      <td>34.0</td>\n",
       "      <td>entrepreneur</td>\n",
       "      <td>married</td>\n",
       "      <td>university.degree</td>\n",
       "      <td>NaN</td>\n",
       "      <td>yes</td>\n",
       "      <td>no</td>\n",
       "      <td>cellular</td>\n",
       "      <td>jul</td>\n",
       "      <td>thu</td>\n",
       "      <td>...</td>\n",
       "      <td>8.0</td>\n",
       "      <td>999</td>\n",
       "      <td>0</td>\n",
       "      <td>nonexistent</td>\n",
       "      <td>1.458103</td>\n",
       "      <td>94.296285</td>\n",
       "      <td>-42.455877</td>\n",
       "      <td>5.152077</td>\n",
       "      <td>5233.0</td>\n",
       "      <td>no</td>\n",
       "    </tr>\n",
       "  </tbody>\n",
       "</table>\n",
       "<p>5 rows × 21 columns</p>\n",
       "</div>"
      ],
      "text/plain": [
       "    age           job marital_status          education credit_default  \\\n",
       "0  41.0   blue-collar        married           basic.9y             no   \n",
       "1  46.0  entrepreneur        married                NaN             no   \n",
       "2  56.0    unemployed        married           basic.9y             no   \n",
       "3  89.0       retired       divorced           basic.4y             no   \n",
       "4  34.0  entrepreneur        married  university.degree            NaN   \n",
       "\n",
       "  housing loan   contact month day_of_week     ...      campaign  prev_days  \\\n",
       "0     yes   no  cellular   apr         mon     ...           2.0        999   \n",
       "1      no   no  cellular   may         wed     ...           2.0        999   \n",
       "2     yes  yes  cellular   nov         fri     ...           1.0        999   \n",
       "3     yes   no  cellular   may         wed     ...           4.0        999   \n",
       "4     yes   no  cellular   jul         thu     ...           8.0        999   \n",
       "\n",
       "   prev_contacts  prev_outcomes emp_var_rate  cons_price_idx  cons_conf_idx  \\\n",
       "0              0    nonexistent    -1.695118       92.698705     -46.727552   \n",
       "1              0    nonexistent    -1.767159       92.914878     -46.313088   \n",
       "2              0    nonexistent    -0.100365       93.423076     -41.904559   \n",
       "3              0    nonexistent    -1.771314       93.672814     -46.045500   \n",
       "4              0    nonexistent     1.458103       94.296285     -42.455877   \n",
       "\n",
       "   euribor3m  nr_employed  subscribed  \n",
       "0   1.345160       5097.0          no  \n",
       "1   1.314499       5100.0          no  \n",
       "2   4.003471       5193.0          no  \n",
       "3   1.261668       5100.0          no  \n",
       "4   5.152077       5233.0          no  \n",
       "\n",
       "[5 rows x 21 columns]"
      ]
     },
     "execution_count": 83,
     "metadata": {},
     "output_type": "execute_result"
    }
   ],
   "source": [
    "df.head()"
   ]
  },
  {
   "cell_type": "code",
   "execution_count": 84,
   "metadata": {
    "collapsed": false
   },
   "outputs": [
    {
     "data": {
      "text/html": [
       "<div>\n",
       "<table border=\"1\" class=\"dataframe\">\n",
       "  <thead>\n",
       "    <tr style=\"text-align: right;\">\n",
       "      <th></th>\n",
       "      <th>ID</th>\n",
       "      <th>age</th>\n",
       "      <th>job</th>\n",
       "      <th>marital_status</th>\n",
       "      <th>education</th>\n",
       "      <th>credit_default</th>\n",
       "      <th>housing</th>\n",
       "      <th>loan</th>\n",
       "      <th>contact</th>\n",
       "      <th>month</th>\n",
       "      <th>...</th>\n",
       "      <th>duration</th>\n",
       "      <th>campaign</th>\n",
       "      <th>prev_days</th>\n",
       "      <th>prev_contacts</th>\n",
       "      <th>prev_outcomes</th>\n",
       "      <th>emp_var_rate</th>\n",
       "      <th>cons_price_idx</th>\n",
       "      <th>cons_conf_idx</th>\n",
       "      <th>euribor3m</th>\n",
       "      <th>nr_employed</th>\n",
       "    </tr>\n",
       "  </thead>\n",
       "  <tbody>\n",
       "    <tr>\n",
       "      <th>0</th>\n",
       "      <td>2866</td>\n",
       "      <td>47.0</td>\n",
       "      <td>admin.</td>\n",
       "      <td>divorced</td>\n",
       "      <td>university.degree</td>\n",
       "      <td>NaN</td>\n",
       "      <td>no</td>\n",
       "      <td>no</td>\n",
       "      <td>telephone</td>\n",
       "      <td>may</td>\n",
       "      <td>...</td>\n",
       "      <td>239.0</td>\n",
       "      <td>2.0</td>\n",
       "      <td>999</td>\n",
       "      <td>0</td>\n",
       "      <td>nonexistent</td>\n",
       "      <td>1.247123</td>\n",
       "      <td>92.972198</td>\n",
       "      <td>-35.612530</td>\n",
       "      <td>4.932103</td>\n",
       "      <td>5190.0</td>\n",
       "    </tr>\n",
       "    <tr>\n",
       "      <th>1</th>\n",
       "      <td>1957</td>\n",
       "      <td>40.0</td>\n",
       "      <td>blue-collar</td>\n",
       "      <td>married</td>\n",
       "      <td>basic.4y</td>\n",
       "      <td>NaN</td>\n",
       "      <td>no</td>\n",
       "      <td>no</td>\n",
       "      <td>telephone</td>\n",
       "      <td>jun</td>\n",
       "      <td>...</td>\n",
       "      <td>297.0</td>\n",
       "      <td>5.0</td>\n",
       "      <td>999</td>\n",
       "      <td>0</td>\n",
       "      <td>nonexistent</td>\n",
       "      <td>1.336096</td>\n",
       "      <td>95.085866</td>\n",
       "      <td>-40.841331</td>\n",
       "      <td>5.082825</td>\n",
       "      <td>5225.0</td>\n",
       "    </tr>\n",
       "    <tr>\n",
       "      <th>2</th>\n",
       "      <td>768</td>\n",
       "      <td>42.0</td>\n",
       "      <td>technician</td>\n",
       "      <td>married</td>\n",
       "      <td>professional.course</td>\n",
       "      <td>no</td>\n",
       "      <td>yes</td>\n",
       "      <td>no</td>\n",
       "      <td>cellular</td>\n",
       "      <td>jul</td>\n",
       "      <td>...</td>\n",
       "      <td>415.0</td>\n",
       "      <td>3.0</td>\n",
       "      <td>999</td>\n",
       "      <td>0</td>\n",
       "      <td>nonexistent</td>\n",
       "      <td>1.388607</td>\n",
       "      <td>93.705043</td>\n",
       "      <td>-42.039772</td>\n",
       "      <td>4.941916</td>\n",
       "      <td>5232.0</td>\n",
       "    </tr>\n",
       "    <tr>\n",
       "      <th>3</th>\n",
       "      <td>4510</td>\n",
       "      <td>53.0</td>\n",
       "      <td>blue-collar</td>\n",
       "      <td>divorced</td>\n",
       "      <td>basic.4y</td>\n",
       "      <td>NaN</td>\n",
       "      <td>yes</td>\n",
       "      <td>no</td>\n",
       "      <td>telephone</td>\n",
       "      <td>may</td>\n",
       "      <td>...</td>\n",
       "      <td>386.0</td>\n",
       "      <td>1.0</td>\n",
       "      <td>999</td>\n",
       "      <td>0</td>\n",
       "      <td>nonexistent</td>\n",
       "      <td>1.146340</td>\n",
       "      <td>92.826786</td>\n",
       "      <td>-36.824117</td>\n",
       "      <td>4.916084</td>\n",
       "      <td>5205.0</td>\n",
       "    </tr>\n",
       "    <tr>\n",
       "      <th>4</th>\n",
       "      <td>7893</td>\n",
       "      <td>54.0</td>\n",
       "      <td>self-employed</td>\n",
       "      <td>married</td>\n",
       "      <td>high.school</td>\n",
       "      <td>no</td>\n",
       "      <td>yes</td>\n",
       "      <td>no</td>\n",
       "      <td>cellular</td>\n",
       "      <td>aug</td>\n",
       "      <td>...</td>\n",
       "      <td>2.0</td>\n",
       "      <td>6.0</td>\n",
       "      <td>999</td>\n",
       "      <td>0</td>\n",
       "      <td>nonexistent</td>\n",
       "      <td>1.490160</td>\n",
       "      <td>94.392184</td>\n",
       "      <td>-36.710934</td>\n",
       "      <td>4.999765</td>\n",
       "      <td>5226.0</td>\n",
       "    </tr>\n",
       "  </tbody>\n",
       "</table>\n",
       "<p>5 rows × 21 columns</p>\n",
       "</div>"
      ],
      "text/plain": [
       "     ID   age            job marital_status            education  \\\n",
       "0  2866  47.0         admin.       divorced    university.degree   \n",
       "1  1957  40.0    blue-collar        married             basic.4y   \n",
       "2   768  42.0     technician        married  professional.course   \n",
       "3  4510  53.0    blue-collar       divorced             basic.4y   \n",
       "4  7893  54.0  self-employed        married          high.school   \n",
       "\n",
       "  credit_default housing loan    contact month     ...      duration  \\\n",
       "0            NaN      no   no  telephone   may     ...         239.0   \n",
       "1            NaN      no   no  telephone   jun     ...         297.0   \n",
       "2             no     yes   no   cellular   jul     ...         415.0   \n",
       "3            NaN     yes   no  telephone   may     ...         386.0   \n",
       "4             no     yes   no   cellular   aug     ...           2.0   \n",
       "\n",
       "   campaign  prev_days  prev_contacts  prev_outcomes emp_var_rate  \\\n",
       "0       2.0        999              0    nonexistent     1.247123   \n",
       "1       5.0        999              0    nonexistent     1.336096   \n",
       "2       3.0        999              0    nonexistent     1.388607   \n",
       "3       1.0        999              0    nonexistent     1.146340   \n",
       "4       6.0        999              0    nonexistent     1.490160   \n",
       "\n",
       "   cons_price_idx  cons_conf_idx  euribor3m  nr_employed  \n",
       "0       92.972198     -35.612530   4.932103       5190.0  \n",
       "1       95.085866     -40.841331   5.082825       5225.0  \n",
       "2       93.705043     -42.039772   4.941916       5232.0  \n",
       "3       92.826786     -36.824117   4.916084       5205.0  \n",
       "4       94.392184     -36.710934   4.999765       5226.0  \n",
       "\n",
       "[5 rows x 21 columns]"
      ]
     },
     "execution_count": 84,
     "metadata": {},
     "output_type": "execute_result"
    }
   ],
   "source": [
    "df_holdout.head()"
   ]
  },
  {
   "cell_type": "markdown",
   "metadata": {},
   "source": [
    "Variable Descriptions:  \n",
    "1 - age (numeric)\n",
    "\n",
    "2 - job : type of job (categorical: \"admin.\",\"blue-collar\",\"entrepreneur\",\"housemaid\",\"management\",\"retired\",\"self-employed\",\"services\",\"student\",\"technician\",\"unemployed\",\"unknown\")\n",
    "   \n",
    "3 - marital_status : marital status (categorical: \"divorced\",\"married\",\"single\",\"unknown\"; note: \"divorced\" means divorced or widowed)\n",
    "   \n",
    "4 - education (categorical: \"basic.4y\",\"basic.6y\",\"basic.9y\",\"high.school\",\"illiterate\",\"professional.course\",\"university.degree\",\"unknown\")\n",
    "   \n",
    "5 - credit_default: has credit in default? (categorical: \"no\",\"yes\",\"unknown\")\n",
    "   \n",
    "6 - housing: has housing loan? (categorical: \"no\",\"yes\",\"unknown\")\n",
    "   \n",
    "7 - loan: has personal loan? (categorical: \"no\",\"yes\",\"unknown\")\n",
    "   \n",
    "8 - contact: contact communication type (categorical: \"cellular\",\"telephone\") \n",
    "   \n",
    "9 - month: last contact month of year (categorical: \"jan\", \"feb\", \"mar\", ..., \"nov\", \"dec\")\n",
    "  \n",
    "10 - day_of_week: last contact day of the week (categorical: \"mon\",\"tue\",\"wed\",\"thu\",\"fri\")\n",
    "  \n",
    "11 - duration: last contact duration, in seconds (numeric).\n",
    "\n",
    "12 - campaign: number of contacts performed during this campaign and for this client (numeric, includes last contact)\n",
    "  \n",
    "13 - prev_days: number of days that passed by after the client was last contacted from a previous campaign (numeric; 999 means client was not previously contacted)\n",
    "  \n",
    "14 - prev_contacts: number of contacts performed before this campaign and for this client (numeric)\n",
    "  \n",
    "15 - prev_outcomes: outcome of the previous marketing campaign (categorical: \"failure\",\"nonexistent\",\"success\")\n",
    "  \n",
    "16 - emp_var_rate: employment variation rate - quarterly indicator (numeric)\n",
    "  \n",
    "17 - cons_price_idx: consumer price index - monthly indicator (numeric)     \n",
    "  \n",
    "18 - cons_conf_idx: consumer confidence index - monthly indicator (numeric)     \n",
    "  \n",
    "19 - euribor3m: euribor 3 month rate - daily indicator (numeric)\n",
    "  \n",
    "20 - nr_employed: number of employees - quarterly indicator (numeric)\n",
    "\n",
    "Output variable (desired target):\n",
    "21 - subscribed - has the client subscribed a term deposit? (binary: \"yes\",\"no\")"
   ]
  },
  {
   "cell_type": "markdown",
   "metadata": {},
   "source": [
    "##### Task: if someone will subscribe to the term deposit or not based on the given information."
   ]
  },
  {
   "cell_type": "markdown",
   "metadata": {},
   "source": [
    "# Step1 - Exploration and Preparation [10 points]\n",
    "\n",
    "In this step, we expect you to look into the data and try to understand it before modeling. This understanding may lead to some basic data preparation steps which are common across the two model sets required."
   ]
  },
  {
   "cell_type": "code",
   "execution_count": 85,
   "metadata": {
    "collapsed": false
   },
   "outputs": [
    {
     "name": "stdout",
     "output_type": "stream",
     "text": [
      "raw data shape (32950, 21)\n"
     ]
    }
   ],
   "source": [
    "import numpy as np\n",
    "print (\"raw data shape {}\".format(df.shape))"
   ]
  },
  {
   "cell_type": "code",
   "execution_count": 86,
   "metadata": {
    "collapsed": false
   },
   "outputs": [
    {
     "name": "stdout",
     "output_type": "stream",
     "text": [
      "class counts are [29238  3712]\n"
     ]
    }
   ],
   "source": [
    "classes = [1 if x == \"yes\" else 0 for x in list(df[\"subscribed\"])]\n",
    "print (\"class counts are {}\".format(np.bincount(classes)))"
   ]
  },
  {
   "cell_type": "code",
   "execution_count": 87,
   "metadata": {
    "collapsed": false,
    "scrolled": false
   },
   "outputs": [
    {
     "name": "stdout",
     "output_type": "stream",
     "text": [
      "data shape (32950, 20)\n"
     ]
    },
    {
     "data": {
      "text/html": [
       "<div>\n",
       "<table border=\"1\" class=\"dataframe\">\n",
       "  <thead>\n",
       "    <tr style=\"text-align: right;\">\n",
       "      <th></th>\n",
       "      <th>age</th>\n",
       "      <th>job</th>\n",
       "      <th>marital_status</th>\n",
       "      <th>education</th>\n",
       "      <th>credit_default</th>\n",
       "      <th>housing</th>\n",
       "      <th>loan</th>\n",
       "      <th>contact</th>\n",
       "      <th>month</th>\n",
       "      <th>day_of_week</th>\n",
       "      <th>duration</th>\n",
       "      <th>campaign</th>\n",
       "      <th>prev_days</th>\n",
       "      <th>prev_contacts</th>\n",
       "      <th>prev_outcomes</th>\n",
       "      <th>emp_var_rate</th>\n",
       "      <th>cons_price_idx</th>\n",
       "      <th>cons_conf_idx</th>\n",
       "      <th>euribor3m</th>\n",
       "      <th>nr_employed</th>\n",
       "    </tr>\n",
       "  </thead>\n",
       "  <tbody>\n",
       "    <tr>\n",
       "      <th>0</th>\n",
       "      <td>41.0</td>\n",
       "      <td>blue-collar</td>\n",
       "      <td>married</td>\n",
       "      <td>basic.9y</td>\n",
       "      <td>no</td>\n",
       "      <td>yes</td>\n",
       "      <td>no</td>\n",
       "      <td>cellular</td>\n",
       "      <td>apr</td>\n",
       "      <td>mon</td>\n",
       "      <td>152.0</td>\n",
       "      <td>2.0</td>\n",
       "      <td>999</td>\n",
       "      <td>0</td>\n",
       "      <td>nonexistent</td>\n",
       "      <td>-1.695118</td>\n",
       "      <td>92.698705</td>\n",
       "      <td>-46.727552</td>\n",
       "      <td>1.345160</td>\n",
       "      <td>5097.0</td>\n",
       "    </tr>\n",
       "    <tr>\n",
       "      <th>1</th>\n",
       "      <td>46.0</td>\n",
       "      <td>entrepreneur</td>\n",
       "      <td>married</td>\n",
       "      <td>NaN</td>\n",
       "      <td>no</td>\n",
       "      <td>no</td>\n",
       "      <td>no</td>\n",
       "      <td>cellular</td>\n",
       "      <td>may</td>\n",
       "      <td>wed</td>\n",
       "      <td>78.0</td>\n",
       "      <td>2.0</td>\n",
       "      <td>999</td>\n",
       "      <td>0</td>\n",
       "      <td>nonexistent</td>\n",
       "      <td>-1.767159</td>\n",
       "      <td>92.914878</td>\n",
       "      <td>-46.313088</td>\n",
       "      <td>1.314499</td>\n",
       "      <td>5100.0</td>\n",
       "    </tr>\n",
       "    <tr>\n",
       "      <th>2</th>\n",
       "      <td>56.0</td>\n",
       "      <td>unemployed</td>\n",
       "      <td>married</td>\n",
       "      <td>basic.9y</td>\n",
       "      <td>no</td>\n",
       "      <td>yes</td>\n",
       "      <td>yes</td>\n",
       "      <td>cellular</td>\n",
       "      <td>nov</td>\n",
       "      <td>fri</td>\n",
       "      <td>324.0</td>\n",
       "      <td>1.0</td>\n",
       "      <td>999</td>\n",
       "      <td>0</td>\n",
       "      <td>nonexistent</td>\n",
       "      <td>-0.100365</td>\n",
       "      <td>93.423076</td>\n",
       "      <td>-41.904559</td>\n",
       "      <td>4.003471</td>\n",
       "      <td>5193.0</td>\n",
       "    </tr>\n",
       "    <tr>\n",
       "      <th>3</th>\n",
       "      <td>89.0</td>\n",
       "      <td>retired</td>\n",
       "      <td>divorced</td>\n",
       "      <td>basic.4y</td>\n",
       "      <td>no</td>\n",
       "      <td>yes</td>\n",
       "      <td>no</td>\n",
       "      <td>cellular</td>\n",
       "      <td>may</td>\n",
       "      <td>wed</td>\n",
       "      <td>130.0</td>\n",
       "      <td>4.0</td>\n",
       "      <td>999</td>\n",
       "      <td>0</td>\n",
       "      <td>nonexistent</td>\n",
       "      <td>-1.771314</td>\n",
       "      <td>93.672814</td>\n",
       "      <td>-46.045500</td>\n",
       "      <td>1.261668</td>\n",
       "      <td>5100.0</td>\n",
       "    </tr>\n",
       "    <tr>\n",
       "      <th>4</th>\n",
       "      <td>34.0</td>\n",
       "      <td>entrepreneur</td>\n",
       "      <td>married</td>\n",
       "      <td>university.degree</td>\n",
       "      <td>NaN</td>\n",
       "      <td>yes</td>\n",
       "      <td>no</td>\n",
       "      <td>cellular</td>\n",
       "      <td>jul</td>\n",
       "      <td>thu</td>\n",
       "      <td>62.0</td>\n",
       "      <td>8.0</td>\n",
       "      <td>999</td>\n",
       "      <td>0</td>\n",
       "      <td>nonexistent</td>\n",
       "      <td>1.458103</td>\n",
       "      <td>94.296285</td>\n",
       "      <td>-42.455877</td>\n",
       "      <td>5.152077</td>\n",
       "      <td>5233.0</td>\n",
       "    </tr>\n",
       "  </tbody>\n",
       "</table>\n",
       "</div>"
      ],
      "text/plain": [
       "    age           job marital_status          education credit_default  \\\n",
       "0  41.0   blue-collar        married           basic.9y             no   \n",
       "1  46.0  entrepreneur        married                NaN             no   \n",
       "2  56.0    unemployed        married           basic.9y             no   \n",
       "3  89.0       retired       divorced           basic.4y             no   \n",
       "4  34.0  entrepreneur        married  university.degree            NaN   \n",
       "\n",
       "  housing loan   contact month day_of_week  duration  campaign  prev_days  \\\n",
       "0     yes   no  cellular   apr         mon     152.0       2.0        999   \n",
       "1      no   no  cellular   may         wed      78.0       2.0        999   \n",
       "2     yes  yes  cellular   nov         fri     324.0       1.0        999   \n",
       "3     yes   no  cellular   may         wed     130.0       4.0        999   \n",
       "4     yes   no  cellular   jul         thu      62.0       8.0        999   \n",
       "\n",
       "   prev_contacts prev_outcomes  emp_var_rate  cons_price_idx  cons_conf_idx  \\\n",
       "0              0   nonexistent     -1.695118       92.698705     -46.727552   \n",
       "1              0   nonexistent     -1.767159       92.914878     -46.313088   \n",
       "2              0   nonexistent     -0.100365       93.423076     -41.904559   \n",
       "3              0   nonexistent     -1.771314       93.672814     -46.045500   \n",
       "4              0   nonexistent      1.458103       94.296285     -42.455877   \n",
       "\n",
       "   euribor3m  nr_employed  \n",
       "0   1.345160       5097.0  \n",
       "1   1.314499       5100.0  \n",
       "2   4.003471       5193.0  \n",
       "3   1.261668       5100.0  \n",
       "4   5.152077       5233.0  "
      ]
     },
     "execution_count": 87,
     "metadata": {},
     "output_type": "execute_result"
    }
   ],
   "source": [
    "data = df.drop(\"subscribed\", axis=1)\n",
    "print (\"data shape {}\".format(data.shape))\n",
    "data.head()"
   ]
  },
  {
   "cell_type": "code",
   "execution_count": 88,
   "metadata": {
    "collapsed": false,
    "scrolled": true
   },
   "outputs": [
    {
     "data": {
      "text/plain": [
       "age                 117.740023\n",
       "duration          67013.458864\n",
       "campaign              7.858098\n",
       "prev_days         35800.392672\n",
       "prev_contacts         0.248990\n",
       "emp_var_rate          2.474896\n",
       "cons_price_idx        1.351784\n",
       "cons_conf_idx        21.578823\n",
       "euribor3m             3.017687\n",
       "nr_employed        5247.478267\n",
       "dtype: float64"
      ]
     },
     "execution_count": 88,
     "metadata": {},
     "output_type": "execute_result"
    }
   ],
   "source": [
    "data.var(axis=0)"
   ]
  },
  {
   "cell_type": "code",
   "execution_count": 89,
   "metadata": {
    "collapsed": false
   },
   "outputs": [
    {
     "name": "stdout",
     "output_type": "stream",
     "text": [
      "there are 10 of categorical features\n",
      "there are 6 features with unknown values\n"
     ]
    }
   ],
   "source": [
    "# find me categorical features and features with unknowns\n",
    "import re\n",
    "des_path = \"./data/data_dictionary.txt\"\n",
    "counter = 1\n",
    "categorical_feats = []\n",
    "feats_with_na = []\n",
    "with open(des_path, 'r') as inputfile:\n",
    "    for line in inputfile:\n",
    "        phrase = \"(categorical:\"\n",
    "        if phrase in re.split(\" \", line):\n",
    "            categorical_feats.append(re.split(\" \", line)[2].replace(\":\",\"\"))\n",
    "        phrase = '\"unknown\")\\n'\n",
    "        if phrase in re.split(\",\", line):\n",
    "            feats_with_na.append(re.split(\" \", line)[2].replace(\":\",\"\"))\n",
    "feats_with_na += ['marital_status']\n",
    "print (\"there are {} of categorical features\".format(len(categorical_feats)))\n",
    "print (\"there are {} features with unknown values\".format(len(feats_with_na)))"
   ]
  },
  {
   "cell_type": "code",
   "execution_count": 90,
   "metadata": {
    "collapsed": false,
    "scrolled": true
   },
   "outputs": [
    {
     "data": {
      "text/plain": [
       "['job',\n",
       " 'marital_status',\n",
       " 'education',\n",
       " 'credit_default',\n",
       " 'housing',\n",
       " 'loan',\n",
       " 'contact',\n",
       " 'month',\n",
       " 'day_of_week',\n",
       " 'prev_outcomes']"
      ]
     },
     "execution_count": 90,
     "metadata": {},
     "output_type": "execute_result"
    }
   ],
   "source": [
    "categorical_feats"
   ]
  },
  {
   "cell_type": "code",
   "execution_count": 91,
   "metadata": {
    "collapsed": false
   },
   "outputs": [
    {
     "name": "stdout",
     "output_type": "stream",
     "text": [
      "there are 1243 number of clients out of 32950 who has prev_days, which is 3.77 percent\n"
     ]
    }
   ],
   "source": [
    "print (\"there are {} number of clients out of {} who has prev_days\\\n",
    ", which is {:.2f} percent\\\n",
    "\".format(len(data['prev_days'][data['prev_days'] != 999]),data.shape[0],(1243/32950)*100 ))"
   ]
  },
  {
   "cell_type": "code",
   "execution_count": 92,
   "metadata": {
    "collapsed": false
   },
   "outputs": [
    {
     "name": "stdout",
     "output_type": "stream",
     "text": [
      "there are 4527 number of clients out of 32950 who was previously contacted, which is 13.74 percent\n"
     ]
    }
   ],
   "source": [
    "print (\"there are {} number of clients out of {} who was previously \\\n",
    "contacted, which is {:.2f} percent\\\n",
    "\".format(len(data['prev_contacts'][data['prev_contacts'] != 0]),data.shape[0],(4527/32950)*100 ))"
   ]
  },
  {
   "cell_type": "code",
   "execution_count": 93,
   "metadata": {
    "collapsed": false,
    "scrolled": true
   },
   "outputs": [
    {
     "name": "stdout",
     "output_type": "stream",
     "text": [
      "there are 4527 number of clients out of 32950 who has previous campaign outcome, which is 13.74 percent\n"
     ]
    }
   ],
   "source": [
    "print (\"there are {} number of clients out of {} who has previous campaign outcome\\\n",
    ", which is {:.2f} percent\\\n",
    "\".format(len(data['prev_outcomes'][data['prev_outcomes'] != 'nonexistent']),data.shape[0],(4527/32950)*100 ))"
   ]
  },
  {
   "cell_type": "code",
   "execution_count": 94,
   "metadata": {
    "collapsed": false
   },
   "outputs": [
    {
     "name": "stdout",
     "output_type": "stream",
     "text": [
      "there are 0 number of clients out of 32950 who had no contact performed on this campagin, which is 0.0 percent\n"
     ]
    }
   ],
   "source": [
    "print (\"there are {} number of clients out of {} who had no contact performed on this campagin\\\n",
    ", which is {} percent\\\n",
    "\".format(len(data['campaign'][data['campaign'] == 0]),data.shape[0],(0/32950)*100 ))"
   ]
  },
  {
   "cell_type": "code",
   "execution_count": 95,
   "metadata": {
    "collapsed": false,
    "scrolled": false
   },
   "outputs": [
    {
     "name": "stdout",
     "output_type": "stream",
     "text": [
      "job has 261 missing values, takes up 0.79 percent\n",
      "education has 1394 missing values, takes up 4.23 percent\n",
      "credit_default has 6888 missing values, takes up 20.90 percent\n",
      "housing has 800 missing values, takes up 2.43 percent\n",
      "loan has 800 missing values, takes up 2.43 percent\n",
      "marital_status has 63 missing values, takes up 0.19 percent\n"
     ]
    }
   ],
   "source": [
    "# check how many missing values are there for each feature \n",
    "for feat in feats_with_na:\n",
    "    num = len(data[feat][data[feat].isnull()])\n",
    "    print (\"{} has {} missing values, takes up {:.2f} percent\".format(feat,num, num/32950*100))"
   ]
  },
  {
   "cell_type": "markdown",
   "metadata": {},
   "source": [
    "since creadit default has over 20% missing values, TRY TO keep it that way. don't inpute it, leave it as a categorical value "
   ]
  },
  {
   "cell_type": "markdown",
   "metadata": {},
   "source": [
    "#### imputation\n",
    "Imputation needs to happen before performing oneHot on the categorical data; otherwise, NaN will be treated as a class of a feature.   \n",
    "However, in the raw dataset, all categorical features are text based, which is not supported by sklearn imputation functions.  \n",
    "solution: impute categorical feature values myself-fill the missing values with most frequent ones.  "
   ]
  },
  {
   "cell_type": "code",
   "execution_count": 96,
   "metadata": {
    "collapsed": false,
    "scrolled": true
   },
   "outputs": [
    {
     "name": "stdout",
     "output_type": "stream",
     "text": [
      "(32950, 20)\n",
      "the most frequent value of job is admin.\n",
      "the most frequent value of marital_status is married\n",
      "the most frequent value of education is university.degree\n",
      "the most frequent value of housing is yes\n",
      "the most frequent value of loan is no\n",
      "the most frequent value of contact is cellular\n",
      "the most frequent value of month is may\n",
      "the most frequent value of day_of_week is thu\n",
      "the most frequent value of prev_outcomes is nonexistent\n"
     ]
    }
   ],
   "source": [
    "# manually impute categorical with text with the most_frequent value \n",
    "from collections import defaultdict\n",
    "\n",
    "data_ = data.copy()\n",
    "print (data_.shape)\n",
    "imputed_content = defaultdict(str)\n",
    "for feat in categorical_feats:\n",
    "    if feat != 'credit_default':\n",
    "        print (\"the most frequent value of {} is {}\".format(feat, data[feat].mode()[0]))\n",
    "        imputed_content[feat] = data[feat].mode()[0]\n",
    "        data_[feat] = data[feat].fillna(data[feat].mode()[0])\n",
    "data_.credit_default.fillna('unknown', inplace=True)"
   ]
  },
  {
   "cell_type": "code",
   "execution_count": 97,
   "metadata": {
    "collapsed": false
   },
   "outputs": [
    {
     "data": {
      "text/plain": [
       "'admin.'"
      ]
     },
     "execution_count": 97,
     "metadata": {},
     "output_type": "execute_result"
    }
   ],
   "source": [
    "data_.job.mode()[0]"
   ]
  },
  {
   "cell_type": "code",
   "execution_count": 98,
   "metadata": {
    "collapsed": false
   },
   "outputs": [
    {
     "name": "stdout",
     "output_type": "stream",
     "text": [
      "(8238, 21)\n"
     ]
    }
   ],
   "source": [
    "df_holdout = pd.read_csv(\"./data/holdout.csv\", na_values=\"unknown\")\n",
    "print (df_holdout.shape)\n",
    "\n",
    "# let's impute the holdout set\n",
    "df_holdout_ = df_holdout.copy()\n",
    "for feat in categorical_feats:\n",
    "    if feat != 'credit_default':\n",
    "        df_holdout_[feat] = df_holdout[feat].fillna(imputed_content[feat])\n",
    "df_holdout_['credit_default'].fillna(\"unknown\", inplace=True)\n"
   ]
  },
  {
   "cell_type": "code",
   "execution_count": 99,
   "metadata": {
    "collapsed": false,
    "scrolled": false
   },
   "outputs": [
    {
     "data": {
      "text/plain": [
       "['job',\n",
       " 'marital_status',\n",
       " 'education',\n",
       " 'credit_default',\n",
       " 'housing',\n",
       " 'loan',\n",
       " 'contact',\n",
       " 'month',\n",
       " 'day_of_week',\n",
       " 'prev_outcomes']"
      ]
     },
     "execution_count": 99,
     "metadata": {},
     "output_type": "execute_result"
    }
   ],
   "source": [
    "categorical_feats"
   ]
  },
  {
   "cell_type": "markdown",
   "metadata": {},
   "source": [
    "#### oneHot on categorical features\n",
    "leave out binary features to avoid multicolinearity\n",
    "* not using sklearn OneHotEncoder because it doesn't operate on text based values, pandas get dummies does. "
   ]
  },
  {
   "cell_type": "code",
   "execution_count": 100,
   "metadata": {
    "collapsed": false,
    "scrolled": false
   },
   "outputs": [
    {
     "name": "stdout",
     "output_type": "stream",
     "text": [
      "original shape (32950, 20)\n",
      "job\n",
      "marital_status\n",
      "education\n",
      "credit_default\n",
      "month\n",
      "day_of_week\n",
      "prev_outcomes\n",
      "new shape (32950, 55)\n"
     ]
    }
   ],
   "source": [
    "# process categorical data to make the value non-text based; get_dummies\n",
    "# take out binary values \n",
    "binary_feats = ['housing', 'loan', 'contact']\n",
    "non_binary_cate_feats = [x  for x in categorical_feats if x not in binary_feats]\n",
    "data__ = data_.copy()\n",
    "print (\"original shape {}\".format(data__.shape))\n",
    "for feat in categorical_feats:\n",
    "    if feat not in binary_feats:\n",
    "        print (feat)\n",
    "        category = list(data__[feat].unique())\n",
    "        data__[feat] = data__[feat].astype(\"category\", categories=category)\n",
    "data_dummy = pd.get_dummies(data__, columns=non_binary_cate_feats)\n",
    "print (\"new shape {}\".format(data_dummy.shape))"
   ]
  },
  {
   "cell_type": "code",
   "execution_count": 101,
   "metadata": {
    "collapsed": false
   },
   "outputs": [],
   "source": [
    "# get_dummies on holdout set \n",
    "df_holdout__ = df_holdout_.copy()\n",
    "\n",
    "df_holdout__ = df_holdout__.drop('ID', axis=1)"
   ]
  },
  {
   "cell_type": "code",
   "execution_count": 102,
   "metadata": {
    "collapsed": false
   },
   "outputs": [
    {
     "name": "stdout",
     "output_type": "stream",
     "text": [
      "original shape (8238, 20)\n"
     ]
    }
   ],
   "source": [
    "print (\"original shape {}\".format(df_holdout__.shape))"
   ]
  },
  {
   "cell_type": "code",
   "execution_count": 103,
   "metadata": {
    "collapsed": false
   },
   "outputs": [
    {
     "name": "stdout",
     "output_type": "stream",
     "text": [
      "job\n",
      "marital_status\n",
      "education\n",
      "credit_default\n",
      "month\n",
      "day_of_week\n",
      "prev_outcomes\n",
      "new shape (8238, 54)\n"
     ]
    }
   ],
   "source": [
    "for feat in categorical_feats:\n",
    "    if feat not in binary_feats:\n",
    "        print (feat)\n",
    "        category = list(df_holdout__[feat].unique())\n",
    "        df_holdout__[feat] = df_holdout__[feat].astype(\"category\", categories=category)\n",
    "df_holdout__dummy = pd.get_dummies(df_holdout__, columns=non_binary_cate_feats)\n",
    "print (\"new shape {}\".format(df_holdout__dummy.shape))"
   ]
  },
  {
   "cell_type": "code",
   "execution_count": 104,
   "metadata": {
    "collapsed": false
   },
   "outputs": [
    {
     "data": {
      "text/plain": [
       "Index(['age', 'housing', 'loan', 'contact', 'duration', 'campaign',\n",
       "       'prev_days', 'prev_contacts', 'emp_var_rate', 'cons_price_idx',\n",
       "       'cons_conf_idx', 'euribor3m', 'nr_employed', 'job_admin.',\n",
       "       'job_blue-collar', 'job_technician', 'job_self-employed',\n",
       "       'job_management', 'job_housemaid', 'job_unemployed', 'job_retired',\n",
       "       'job_entrepreneur', 'job_services', 'job_student',\n",
       "       'marital_status_divorced', 'marital_status_married',\n",
       "       'marital_status_single', 'education_university.degree',\n",
       "       'education_basic.4y', 'education_professional.course',\n",
       "       'education_high.school', 'education_basic.6y', 'education_basic.9y',\n",
       "       'education_illiterate', 'credit_default_unknown', 'credit_default_no',\n",
       "       'month_may', 'month_jun', 'month_jul', 'month_aug', 'month_apr',\n",
       "       'month_sep', 'month_oct', 'month_nov', 'month_mar', 'month_dec',\n",
       "       'day_of_week_tue', 'day_of_week_mon', 'day_of_week_thu',\n",
       "       'day_of_week_fri', 'day_of_week_wed', 'prev_outcomes_nonexistent',\n",
       "       'prev_outcomes_failure', 'prev_outcomes_success'],\n",
       "      dtype='object')"
      ]
     },
     "execution_count": 104,
     "metadata": {},
     "output_type": "execute_result"
    }
   ],
   "source": [
    "df_holdout__dummy.columns"
   ]
  },
  {
   "cell_type": "code",
   "execution_count": 105,
   "metadata": {
    "collapsed": false,
    "scrolled": true
   },
   "outputs": [
    {
     "data": {
      "text/plain": [
       "Index(['age', 'housing', 'loan', 'contact', 'duration', 'campaign',\n",
       "       'prev_days', 'prev_contacts', 'emp_var_rate', 'cons_price_idx',\n",
       "       'cons_conf_idx', 'euribor3m', 'nr_employed', 'job_blue-collar',\n",
       "       'job_entrepreneur', 'job_unemployed', 'job_retired', 'job_technician',\n",
       "       'job_services', 'job_management', 'job_admin.', 'job_self-employed',\n",
       "       'job_housemaid', 'job_student', 'marital_status_married',\n",
       "       'marital_status_divorced', 'marital_status_single',\n",
       "       'education_basic.9y', 'education_university.degree',\n",
       "       'education_basic.4y', 'education_basic.6y', 'education_high.school',\n",
       "       'education_professional.course', 'education_illiterate',\n",
       "       'credit_default_no', 'credit_default_unknown', 'credit_default_yes',\n",
       "       'month_apr', 'month_may', 'month_nov', 'month_jul', 'month_jun',\n",
       "       'month_aug', 'month_oct', 'month_sep', 'month_mar', 'month_dec',\n",
       "       'day_of_week_mon', 'day_of_week_wed', 'day_of_week_fri',\n",
       "       'day_of_week_thu', 'day_of_week_tue', 'prev_outcomes_nonexistent',\n",
       "       'prev_outcomes_failure', 'prev_outcomes_success'],\n",
       "      dtype='object')"
      ]
     },
     "execution_count": 105,
     "metadata": {},
     "output_type": "execute_result"
    }
   ],
   "source": [
    "data_dummy.columns"
   ]
  },
  {
   "cell_type": "code",
   "execution_count": 106,
   "metadata": {
    "collapsed": false
   },
   "outputs": [],
   "source": [
    "# replace yes no with 1 0 for binary feature\n",
    "for feat in binary_feats:\n",
    "    if feat == 'contact':\n",
    "        data_dummy[feat] = data_dummy[feat].map({'cellular': 1, 'telephone': 0})\n",
    "    else: \n",
    "        data_dummy[feat] = data_dummy[feat].map({'yes': 1, 'no': 0})"
   ]
  },
  {
   "cell_type": "code",
   "execution_count": 107,
   "metadata": {
    "collapsed": true
   },
   "outputs": [],
   "source": [
    "# (holdout) replace yes no with 1 0 for binary feature\n",
    "for feat in binary_feats:\n",
    "    if feat == 'contact':\n",
    "        df_holdout__dummy[feat] = df_holdout__dummy[feat].map({'cellular': 1, 'telephone': 0})\n",
    "    else: \n",
    "        df_holdout__dummy[feat] = df_holdout__dummy[feat].map({'yes': 1, 'no': 0})"
   ]
  },
  {
   "cell_type": "code",
   "execution_count": 108,
   "metadata": {
    "collapsed": false
   },
   "outputs": [
    {
     "data": {
      "text/html": [
       "<div>\n",
       "<table border=\"1\" class=\"dataframe\">\n",
       "  <thead>\n",
       "    <tr style=\"text-align: right;\">\n",
       "      <th></th>\n",
       "      <th>age</th>\n",
       "      <th>housing</th>\n",
       "      <th>loan</th>\n",
       "      <th>contact</th>\n",
       "      <th>duration</th>\n",
       "      <th>campaign</th>\n",
       "      <th>prev_days</th>\n",
       "      <th>prev_contacts</th>\n",
       "      <th>emp_var_rate</th>\n",
       "      <th>cons_price_idx</th>\n",
       "      <th>...</th>\n",
       "      <th>month_mar</th>\n",
       "      <th>month_dec</th>\n",
       "      <th>day_of_week_tue</th>\n",
       "      <th>day_of_week_mon</th>\n",
       "      <th>day_of_week_thu</th>\n",
       "      <th>day_of_week_fri</th>\n",
       "      <th>day_of_week_wed</th>\n",
       "      <th>prev_outcomes_nonexistent</th>\n",
       "      <th>prev_outcomes_failure</th>\n",
       "      <th>prev_outcomes_success</th>\n",
       "    </tr>\n",
       "  </thead>\n",
       "  <tbody>\n",
       "    <tr>\n",
       "      <th>0</th>\n",
       "      <td>47.0</td>\n",
       "      <td>0</td>\n",
       "      <td>0</td>\n",
       "      <td>0</td>\n",
       "      <td>239.0</td>\n",
       "      <td>2.0</td>\n",
       "      <td>999</td>\n",
       "      <td>0</td>\n",
       "      <td>1.247123</td>\n",
       "      <td>92.972198</td>\n",
       "      <td>...</td>\n",
       "      <td>0.0</td>\n",
       "      <td>0.0</td>\n",
       "      <td>1.0</td>\n",
       "      <td>0.0</td>\n",
       "      <td>0.0</td>\n",
       "      <td>0.0</td>\n",
       "      <td>0.0</td>\n",
       "      <td>1.0</td>\n",
       "      <td>0.0</td>\n",
       "      <td>0.0</td>\n",
       "    </tr>\n",
       "    <tr>\n",
       "      <th>1</th>\n",
       "      <td>40.0</td>\n",
       "      <td>0</td>\n",
       "      <td>0</td>\n",
       "      <td>0</td>\n",
       "      <td>297.0</td>\n",
       "      <td>5.0</td>\n",
       "      <td>999</td>\n",
       "      <td>0</td>\n",
       "      <td>1.336096</td>\n",
       "      <td>95.085866</td>\n",
       "      <td>...</td>\n",
       "      <td>0.0</td>\n",
       "      <td>0.0</td>\n",
       "      <td>0.0</td>\n",
       "      <td>1.0</td>\n",
       "      <td>0.0</td>\n",
       "      <td>0.0</td>\n",
       "      <td>0.0</td>\n",
       "      <td>1.0</td>\n",
       "      <td>0.0</td>\n",
       "      <td>0.0</td>\n",
       "    </tr>\n",
       "    <tr>\n",
       "      <th>2</th>\n",
       "      <td>42.0</td>\n",
       "      <td>1</td>\n",
       "      <td>0</td>\n",
       "      <td>1</td>\n",
       "      <td>415.0</td>\n",
       "      <td>3.0</td>\n",
       "      <td>999</td>\n",
       "      <td>0</td>\n",
       "      <td>1.388607</td>\n",
       "      <td>93.705043</td>\n",
       "      <td>...</td>\n",
       "      <td>0.0</td>\n",
       "      <td>0.0</td>\n",
       "      <td>0.0</td>\n",
       "      <td>0.0</td>\n",
       "      <td>1.0</td>\n",
       "      <td>0.0</td>\n",
       "      <td>0.0</td>\n",
       "      <td>1.0</td>\n",
       "      <td>0.0</td>\n",
       "      <td>0.0</td>\n",
       "    </tr>\n",
       "    <tr>\n",
       "      <th>3</th>\n",
       "      <td>53.0</td>\n",
       "      <td>1</td>\n",
       "      <td>0</td>\n",
       "      <td>0</td>\n",
       "      <td>386.0</td>\n",
       "      <td>1.0</td>\n",
       "      <td>999</td>\n",
       "      <td>0</td>\n",
       "      <td>1.146340</td>\n",
       "      <td>92.826786</td>\n",
       "      <td>...</td>\n",
       "      <td>0.0</td>\n",
       "      <td>0.0</td>\n",
       "      <td>0.0</td>\n",
       "      <td>0.0</td>\n",
       "      <td>0.0</td>\n",
       "      <td>1.0</td>\n",
       "      <td>0.0</td>\n",
       "      <td>1.0</td>\n",
       "      <td>0.0</td>\n",
       "      <td>0.0</td>\n",
       "    </tr>\n",
       "    <tr>\n",
       "      <th>4</th>\n",
       "      <td>54.0</td>\n",
       "      <td>1</td>\n",
       "      <td>0</td>\n",
       "      <td>1</td>\n",
       "      <td>2.0</td>\n",
       "      <td>6.0</td>\n",
       "      <td>999</td>\n",
       "      <td>0</td>\n",
       "      <td>1.490160</td>\n",
       "      <td>94.392184</td>\n",
       "      <td>...</td>\n",
       "      <td>0.0</td>\n",
       "      <td>0.0</td>\n",
       "      <td>0.0</td>\n",
       "      <td>0.0</td>\n",
       "      <td>0.0</td>\n",
       "      <td>1.0</td>\n",
       "      <td>0.0</td>\n",
       "      <td>1.0</td>\n",
       "      <td>0.0</td>\n",
       "      <td>0.0</td>\n",
       "    </tr>\n",
       "  </tbody>\n",
       "</table>\n",
       "<p>5 rows × 54 columns</p>\n",
       "</div>"
      ],
      "text/plain": [
       "    age  housing  loan  contact  duration  campaign  prev_days  prev_contacts  \\\n",
       "0  47.0        0     0        0     239.0       2.0        999              0   \n",
       "1  40.0        0     0        0     297.0       5.0        999              0   \n",
       "2  42.0        1     0        1     415.0       3.0        999              0   \n",
       "3  53.0        1     0        0     386.0       1.0        999              0   \n",
       "4  54.0        1     0        1       2.0       6.0        999              0   \n",
       "\n",
       "   emp_var_rate  cons_price_idx          ...            month_mar  month_dec  \\\n",
       "0      1.247123       92.972198          ...                  0.0        0.0   \n",
       "1      1.336096       95.085866          ...                  0.0        0.0   \n",
       "2      1.388607       93.705043          ...                  0.0        0.0   \n",
       "3      1.146340       92.826786          ...                  0.0        0.0   \n",
       "4      1.490160       94.392184          ...                  0.0        0.0   \n",
       "\n",
       "   day_of_week_tue  day_of_week_mon  day_of_week_thu  day_of_week_fri  \\\n",
       "0              1.0              0.0              0.0              0.0   \n",
       "1              0.0              1.0              0.0              0.0   \n",
       "2              0.0              0.0              1.0              0.0   \n",
       "3              0.0              0.0              0.0              1.0   \n",
       "4              0.0              0.0              0.0              1.0   \n",
       "\n",
       "   day_of_week_wed  prev_outcomes_nonexistent  prev_outcomes_failure  \\\n",
       "0              0.0                        1.0                    0.0   \n",
       "1              0.0                        1.0                    0.0   \n",
       "2              0.0                        1.0                    0.0   \n",
       "3              0.0                        1.0                    0.0   \n",
       "4              0.0                        1.0                    0.0   \n",
       "\n",
       "   prev_outcomes_success  \n",
       "0                    0.0  \n",
       "1                    0.0  \n",
       "2                    0.0  \n",
       "3                    0.0  \n",
       "4                    0.0  \n",
       "\n",
       "[5 rows x 54 columns]"
      ]
     },
     "execution_count": 108,
     "metadata": {},
     "output_type": "execute_result"
    }
   ],
   "source": [
    "df_holdout__dummy.head()"
   ]
  },
  {
   "cell_type": "markdown",
   "metadata": {},
   "source": [
    "#### thoughts regarding prev_days, prev_outcomes, and prev_contacts:\n",
    "this is pretty wierd, cause we have 4527 people being contacted for any previous campaign according to both prev_contacts and prev_outcomes, but there are only 1243 has prev_days values, meaning 3284 people (4527-1243) who has been contacted but was not being tracked for prev_day values.   \n",
    "\n",
    "Moreover, I don't think it makes any sense to impute 999 for prev_days. Cause for those who hasn't being contacted by previous campaign really shouldn't have any value on prev_day. I am very temping to drop this prev_day column... "
   ]
  },
  {
   "cell_type": "code",
   "execution_count": 109,
   "metadata": {
    "collapsed": false
   },
   "outputs": [
    {
     "name": "stdout",
     "output_type": "stream",
     "text": [
      "(32950, 55)\n",
      "(32950, 55)\n"
     ]
    }
   ],
   "source": [
    "print (data_dummy.shape)\n",
    "print (data_dummy.shape)"
   ]
  },
  {
   "cell_type": "code",
   "execution_count": 110,
   "metadata": {
    "collapsed": false
   },
   "outputs": [
    {
     "name": "stdout",
     "output_type": "stream",
     "text": [
      "(32950, 54)\n"
     ]
    }
   ],
   "source": [
    "# drop prev_days from data_dummy\n",
    "data_for_train1 = data_dummy.drop(\"prev_days\", axis=1)\n",
    "print (data_for_train1.shape)"
   ]
  },
  {
   "cell_type": "markdown",
   "metadata": {},
   "source": [
    "or let's impute prev_days' [999] missing values with median "
   ]
  },
  {
   "cell_type": "code",
   "execution_count": 111,
   "metadata": {
    "collapsed": false,
    "scrolled": true
   },
   "outputs": [
    {
     "data": {
      "text/plain": [
       "Index(['age', 'housing', 'loan', 'contact', 'duration', 'campaign',\n",
       "       'prev_days', 'prev_contacts', 'emp_var_rate', 'cons_price_idx',\n",
       "       'cons_conf_idx', 'euribor3m', 'nr_employed', 'job_blue-collar',\n",
       "       'job_entrepreneur', 'job_unemployed', 'job_retired', 'job_technician',\n",
       "       'job_services', 'job_management', 'job_admin.', 'job_self-employed',\n",
       "       'job_housemaid', 'job_student', 'marital_status_married',\n",
       "       'marital_status_divorced', 'marital_status_single',\n",
       "       'education_basic.9y', 'education_university.degree',\n",
       "       'education_basic.4y', 'education_basic.6y', 'education_high.school',\n",
       "       'education_professional.course', 'education_illiterate',\n",
       "       'credit_default_no', 'credit_default_unknown', 'credit_default_yes',\n",
       "       'month_apr', 'month_may', 'month_nov', 'month_jul', 'month_jun',\n",
       "       'month_aug', 'month_oct', 'month_sep', 'month_mar', 'month_dec',\n",
       "       'day_of_week_mon', 'day_of_week_wed', 'day_of_week_fri',\n",
       "       'day_of_week_thu', 'day_of_week_tue', 'prev_outcomes_nonexistent',\n",
       "       'prev_outcomes_failure', 'prev_outcomes_success'],\n",
       "      dtype='object')"
      ]
     },
     "execution_count": 111,
     "metadata": {},
     "output_type": "execute_result"
    }
   ],
   "source": [
    "data_dummy.columns"
   ]
  },
  {
   "cell_type": "code",
   "execution_count": 112,
   "metadata": {
    "collapsed": false
   },
   "outputs": [
    {
     "name": "stdout",
     "output_type": "stream",
     "text": [
      "credit_default_yes\n"
     ]
    }
   ],
   "source": [
    "# remove the feature has is not in holdout set\n",
    "\n",
    "for i in list(data_dummy.columns):\n",
    "    if i not in list(df_holdout__dummy.columns):\n",
    "        print ( i)\n",
    "        data_dummy = data_dummy.drop(i, axis=1)\n"
   ]
  },
  {
   "cell_type": "code",
   "execution_count": 113,
   "metadata": {
    "collapsed": false
   },
   "outputs": [],
   "source": [
    "# impute prev_days missing value with median \n",
    "# from sklearn.preprocessing import Imputer\n",
    "# imp = Imputer(missing_values=999, strategy=\"median\")\n",
    "# data_for_train2 = imp.fit_transform(data_dummy.values)\n",
    "# data_for_train2 = pd.DataFrame(data_for_train2, columns = data_dummy.columns)\n"
   ]
  },
  {
   "cell_type": "code",
   "execution_count": 114,
   "metadata": {
    "collapsed": false
   },
   "outputs": [
    {
     "name": "stdout",
     "output_type": "stream",
     "text": [
      "the median value of prev_days feature with 999 excluded is 6.0\n"
     ]
    }
   ],
   "source": [
    "print (\"the median value of prev_days feature with 999 excluded is {}\\\n",
    "\".format(data_dummy['prev_days'][data_dummy['prev_days'] != 999].median()))\n"
   ]
  },
  {
   "cell_type": "code",
   "execution_count": 115,
   "metadata": {
    "collapsed": false
   },
   "outputs": [],
   "source": [
    "# (holdout) impute prev_days missing values with median\n",
    "# from sklearn.preprocessing import Imputer\n",
    "# holdout = imp.transform(df_holdout__dummy.values)\n",
    "# holdout = pd.DataFrame(holdout, columns = df_holdout__dummy.columns)"
   ]
  },
  {
   "cell_type": "code",
   "execution_count": 116,
   "metadata": {
    "collapsed": true
   },
   "outputs": [],
   "source": [
    "holdout = pd.DataFrame(df_holdout__dummy, columns = df_holdout__dummy.columns)"
   ]
  },
  {
   "cell_type": "code",
   "execution_count": 117,
   "metadata": {
    "collapsed": false
   },
   "outputs": [
    {
     "data": {
      "text/html": [
       "<div>\n",
       "<table border=\"1\" class=\"dataframe\">\n",
       "  <thead>\n",
       "    <tr style=\"text-align: right;\">\n",
       "      <th></th>\n",
       "      <th>age</th>\n",
       "      <th>housing</th>\n",
       "      <th>loan</th>\n",
       "      <th>contact</th>\n",
       "      <th>duration</th>\n",
       "      <th>campaign</th>\n",
       "      <th>prev_days</th>\n",
       "      <th>prev_contacts</th>\n",
       "      <th>emp_var_rate</th>\n",
       "      <th>cons_price_idx</th>\n",
       "      <th>...</th>\n",
       "      <th>month_mar</th>\n",
       "      <th>month_dec</th>\n",
       "      <th>day_of_week_tue</th>\n",
       "      <th>day_of_week_mon</th>\n",
       "      <th>day_of_week_thu</th>\n",
       "      <th>day_of_week_fri</th>\n",
       "      <th>day_of_week_wed</th>\n",
       "      <th>prev_outcomes_nonexistent</th>\n",
       "      <th>prev_outcomes_failure</th>\n",
       "      <th>prev_outcomes_success</th>\n",
       "    </tr>\n",
       "  </thead>\n",
       "  <tbody>\n",
       "    <tr>\n",
       "      <th>0</th>\n",
       "      <td>47.0</td>\n",
       "      <td>0</td>\n",
       "      <td>0</td>\n",
       "      <td>0</td>\n",
       "      <td>239.0</td>\n",
       "      <td>2.0</td>\n",
       "      <td>999</td>\n",
       "      <td>0</td>\n",
       "      <td>1.247123</td>\n",
       "      <td>92.972198</td>\n",
       "      <td>...</td>\n",
       "      <td>0.0</td>\n",
       "      <td>0.0</td>\n",
       "      <td>1.0</td>\n",
       "      <td>0.0</td>\n",
       "      <td>0.0</td>\n",
       "      <td>0.0</td>\n",
       "      <td>0.0</td>\n",
       "      <td>1.0</td>\n",
       "      <td>0.0</td>\n",
       "      <td>0.0</td>\n",
       "    </tr>\n",
       "    <tr>\n",
       "      <th>1</th>\n",
       "      <td>40.0</td>\n",
       "      <td>0</td>\n",
       "      <td>0</td>\n",
       "      <td>0</td>\n",
       "      <td>297.0</td>\n",
       "      <td>5.0</td>\n",
       "      <td>999</td>\n",
       "      <td>0</td>\n",
       "      <td>1.336096</td>\n",
       "      <td>95.085866</td>\n",
       "      <td>...</td>\n",
       "      <td>0.0</td>\n",
       "      <td>0.0</td>\n",
       "      <td>0.0</td>\n",
       "      <td>1.0</td>\n",
       "      <td>0.0</td>\n",
       "      <td>0.0</td>\n",
       "      <td>0.0</td>\n",
       "      <td>1.0</td>\n",
       "      <td>0.0</td>\n",
       "      <td>0.0</td>\n",
       "    </tr>\n",
       "    <tr>\n",
       "      <th>2</th>\n",
       "      <td>42.0</td>\n",
       "      <td>1</td>\n",
       "      <td>0</td>\n",
       "      <td>1</td>\n",
       "      <td>415.0</td>\n",
       "      <td>3.0</td>\n",
       "      <td>999</td>\n",
       "      <td>0</td>\n",
       "      <td>1.388607</td>\n",
       "      <td>93.705043</td>\n",
       "      <td>...</td>\n",
       "      <td>0.0</td>\n",
       "      <td>0.0</td>\n",
       "      <td>0.0</td>\n",
       "      <td>0.0</td>\n",
       "      <td>1.0</td>\n",
       "      <td>0.0</td>\n",
       "      <td>0.0</td>\n",
       "      <td>1.0</td>\n",
       "      <td>0.0</td>\n",
       "      <td>0.0</td>\n",
       "    </tr>\n",
       "    <tr>\n",
       "      <th>3</th>\n",
       "      <td>53.0</td>\n",
       "      <td>1</td>\n",
       "      <td>0</td>\n",
       "      <td>0</td>\n",
       "      <td>386.0</td>\n",
       "      <td>1.0</td>\n",
       "      <td>999</td>\n",
       "      <td>0</td>\n",
       "      <td>1.146340</td>\n",
       "      <td>92.826786</td>\n",
       "      <td>...</td>\n",
       "      <td>0.0</td>\n",
       "      <td>0.0</td>\n",
       "      <td>0.0</td>\n",
       "      <td>0.0</td>\n",
       "      <td>0.0</td>\n",
       "      <td>1.0</td>\n",
       "      <td>0.0</td>\n",
       "      <td>1.0</td>\n",
       "      <td>0.0</td>\n",
       "      <td>0.0</td>\n",
       "    </tr>\n",
       "    <tr>\n",
       "      <th>4</th>\n",
       "      <td>54.0</td>\n",
       "      <td>1</td>\n",
       "      <td>0</td>\n",
       "      <td>1</td>\n",
       "      <td>2.0</td>\n",
       "      <td>6.0</td>\n",
       "      <td>999</td>\n",
       "      <td>0</td>\n",
       "      <td>1.490160</td>\n",
       "      <td>94.392184</td>\n",
       "      <td>...</td>\n",
       "      <td>0.0</td>\n",
       "      <td>0.0</td>\n",
       "      <td>0.0</td>\n",
       "      <td>0.0</td>\n",
       "      <td>0.0</td>\n",
       "      <td>1.0</td>\n",
       "      <td>0.0</td>\n",
       "      <td>1.0</td>\n",
       "      <td>0.0</td>\n",
       "      <td>0.0</td>\n",
       "    </tr>\n",
       "  </tbody>\n",
       "</table>\n",
       "<p>5 rows × 54 columns</p>\n",
       "</div>"
      ],
      "text/plain": [
       "    age  housing  loan  contact  duration  campaign  prev_days  prev_contacts  \\\n",
       "0  47.0        0     0        0     239.0       2.0        999              0   \n",
       "1  40.0        0     0        0     297.0       5.0        999              0   \n",
       "2  42.0        1     0        1     415.0       3.0        999              0   \n",
       "3  53.0        1     0        0     386.0       1.0        999              0   \n",
       "4  54.0        1     0        1       2.0       6.0        999              0   \n",
       "\n",
       "   emp_var_rate  cons_price_idx          ...            month_mar  month_dec  \\\n",
       "0      1.247123       92.972198          ...                  0.0        0.0   \n",
       "1      1.336096       95.085866          ...                  0.0        0.0   \n",
       "2      1.388607       93.705043          ...                  0.0        0.0   \n",
       "3      1.146340       92.826786          ...                  0.0        0.0   \n",
       "4      1.490160       94.392184          ...                  0.0        0.0   \n",
       "\n",
       "   day_of_week_tue  day_of_week_mon  day_of_week_thu  day_of_week_fri  \\\n",
       "0              1.0              0.0              0.0              0.0   \n",
       "1              0.0              1.0              0.0              0.0   \n",
       "2              0.0              0.0              1.0              0.0   \n",
       "3              0.0              0.0              0.0              1.0   \n",
       "4              0.0              0.0              0.0              1.0   \n",
       "\n",
       "   day_of_week_wed  prev_outcomes_nonexistent  prev_outcomes_failure  \\\n",
       "0              0.0                        1.0                    0.0   \n",
       "1              0.0                        1.0                    0.0   \n",
       "2              0.0                        1.0                    0.0   \n",
       "3              0.0                        1.0                    0.0   \n",
       "4              0.0                        1.0                    0.0   \n",
       "\n",
       "   prev_outcomes_success  \n",
       "0                    0.0  \n",
       "1                    0.0  \n",
       "2                    0.0  \n",
       "3                    0.0  \n",
       "4                    0.0  \n",
       "\n",
       "[5 rows x 54 columns]"
      ]
     },
     "execution_count": 117,
     "metadata": {},
     "output_type": "execute_result"
    }
   ],
   "source": [
    "holdout.head()"
   ]
  },
  {
   "cell_type": "code",
   "execution_count": 118,
   "metadata": {
    "collapsed": false,
    "scrolled": false
   },
   "outputs": [
    {
     "data": {
      "text/html": [
       "<div>\n",
       "<table border=\"1\" class=\"dataframe\">\n",
       "  <thead>\n",
       "    <tr style=\"text-align: right;\">\n",
       "      <th></th>\n",
       "      <th>age</th>\n",
       "      <th>housing</th>\n",
       "      <th>loan</th>\n",
       "      <th>contact</th>\n",
       "      <th>duration</th>\n",
       "      <th>campaign</th>\n",
       "      <th>prev_days</th>\n",
       "      <th>prev_contacts</th>\n",
       "      <th>emp_var_rate</th>\n",
       "      <th>cons_price_idx</th>\n",
       "      <th>...</th>\n",
       "      <th>month_mar</th>\n",
       "      <th>month_dec</th>\n",
       "      <th>day_of_week_mon</th>\n",
       "      <th>day_of_week_wed</th>\n",
       "      <th>day_of_week_fri</th>\n",
       "      <th>day_of_week_thu</th>\n",
       "      <th>day_of_week_tue</th>\n",
       "      <th>prev_outcomes_nonexistent</th>\n",
       "      <th>prev_outcomes_failure</th>\n",
       "      <th>prev_outcomes_success</th>\n",
       "    </tr>\n",
       "  </thead>\n",
       "  <tbody>\n",
       "    <tr>\n",
       "      <th>0</th>\n",
       "      <td>41.0</td>\n",
       "      <td>1</td>\n",
       "      <td>0</td>\n",
       "      <td>1</td>\n",
       "      <td>152.0</td>\n",
       "      <td>2.0</td>\n",
       "      <td>999</td>\n",
       "      <td>0</td>\n",
       "      <td>-1.695118</td>\n",
       "      <td>92.698705</td>\n",
       "      <td>...</td>\n",
       "      <td>0.0</td>\n",
       "      <td>0.0</td>\n",
       "      <td>1.0</td>\n",
       "      <td>0.0</td>\n",
       "      <td>0.0</td>\n",
       "      <td>0.0</td>\n",
       "      <td>0.0</td>\n",
       "      <td>1.0</td>\n",
       "      <td>0.0</td>\n",
       "      <td>0.0</td>\n",
       "    </tr>\n",
       "    <tr>\n",
       "      <th>1</th>\n",
       "      <td>46.0</td>\n",
       "      <td>0</td>\n",
       "      <td>0</td>\n",
       "      <td>1</td>\n",
       "      <td>78.0</td>\n",
       "      <td>2.0</td>\n",
       "      <td>999</td>\n",
       "      <td>0</td>\n",
       "      <td>-1.767159</td>\n",
       "      <td>92.914878</td>\n",
       "      <td>...</td>\n",
       "      <td>0.0</td>\n",
       "      <td>0.0</td>\n",
       "      <td>0.0</td>\n",
       "      <td>1.0</td>\n",
       "      <td>0.0</td>\n",
       "      <td>0.0</td>\n",
       "      <td>0.0</td>\n",
       "      <td>1.0</td>\n",
       "      <td>0.0</td>\n",
       "      <td>0.0</td>\n",
       "    </tr>\n",
       "    <tr>\n",
       "      <th>2</th>\n",
       "      <td>56.0</td>\n",
       "      <td>1</td>\n",
       "      <td>1</td>\n",
       "      <td>1</td>\n",
       "      <td>324.0</td>\n",
       "      <td>1.0</td>\n",
       "      <td>999</td>\n",
       "      <td>0</td>\n",
       "      <td>-0.100365</td>\n",
       "      <td>93.423076</td>\n",
       "      <td>...</td>\n",
       "      <td>0.0</td>\n",
       "      <td>0.0</td>\n",
       "      <td>0.0</td>\n",
       "      <td>0.0</td>\n",
       "      <td>1.0</td>\n",
       "      <td>0.0</td>\n",
       "      <td>0.0</td>\n",
       "      <td>1.0</td>\n",
       "      <td>0.0</td>\n",
       "      <td>0.0</td>\n",
       "    </tr>\n",
       "    <tr>\n",
       "      <th>3</th>\n",
       "      <td>89.0</td>\n",
       "      <td>1</td>\n",
       "      <td>0</td>\n",
       "      <td>1</td>\n",
       "      <td>130.0</td>\n",
       "      <td>4.0</td>\n",
       "      <td>999</td>\n",
       "      <td>0</td>\n",
       "      <td>-1.771314</td>\n",
       "      <td>93.672814</td>\n",
       "      <td>...</td>\n",
       "      <td>0.0</td>\n",
       "      <td>0.0</td>\n",
       "      <td>0.0</td>\n",
       "      <td>1.0</td>\n",
       "      <td>0.0</td>\n",
       "      <td>0.0</td>\n",
       "      <td>0.0</td>\n",
       "      <td>1.0</td>\n",
       "      <td>0.0</td>\n",
       "      <td>0.0</td>\n",
       "    </tr>\n",
       "    <tr>\n",
       "      <th>4</th>\n",
       "      <td>34.0</td>\n",
       "      <td>1</td>\n",
       "      <td>0</td>\n",
       "      <td>1</td>\n",
       "      <td>62.0</td>\n",
       "      <td>8.0</td>\n",
       "      <td>999</td>\n",
       "      <td>0</td>\n",
       "      <td>1.458103</td>\n",
       "      <td>94.296285</td>\n",
       "      <td>...</td>\n",
       "      <td>0.0</td>\n",
       "      <td>0.0</td>\n",
       "      <td>0.0</td>\n",
       "      <td>0.0</td>\n",
       "      <td>0.0</td>\n",
       "      <td>1.0</td>\n",
       "      <td>0.0</td>\n",
       "      <td>1.0</td>\n",
       "      <td>0.0</td>\n",
       "      <td>0.0</td>\n",
       "    </tr>\n",
       "  </tbody>\n",
       "</table>\n",
       "<p>5 rows × 54 columns</p>\n",
       "</div>"
      ],
      "text/plain": [
       "    age  housing  loan  contact  duration  campaign  prev_days  prev_contacts  \\\n",
       "0  41.0        1     0        1     152.0       2.0        999              0   \n",
       "1  46.0        0     0        1      78.0       2.0        999              0   \n",
       "2  56.0        1     1        1     324.0       1.0        999              0   \n",
       "3  89.0        1     0        1     130.0       4.0        999              0   \n",
       "4  34.0        1     0        1      62.0       8.0        999              0   \n",
       "\n",
       "   emp_var_rate  cons_price_idx          ...            month_mar  month_dec  \\\n",
       "0     -1.695118       92.698705          ...                  0.0        0.0   \n",
       "1     -1.767159       92.914878          ...                  0.0        0.0   \n",
       "2     -0.100365       93.423076          ...                  0.0        0.0   \n",
       "3     -1.771314       93.672814          ...                  0.0        0.0   \n",
       "4      1.458103       94.296285          ...                  0.0        0.0   \n",
       "\n",
       "   day_of_week_mon  day_of_week_wed  day_of_week_fri  day_of_week_thu  \\\n",
       "0              1.0              0.0              0.0              0.0   \n",
       "1              0.0              1.0              0.0              0.0   \n",
       "2              0.0              0.0              1.0              0.0   \n",
       "3              0.0              1.0              0.0              0.0   \n",
       "4              0.0              0.0              0.0              1.0   \n",
       "\n",
       "   day_of_week_tue  prev_outcomes_nonexistent  prev_outcomes_failure  \\\n",
       "0              0.0                        1.0                    0.0   \n",
       "1              0.0                        1.0                    0.0   \n",
       "2              0.0                        1.0                    0.0   \n",
       "3              0.0                        1.0                    0.0   \n",
       "4              0.0                        1.0                    0.0   \n",
       "\n",
       "   prev_outcomes_success  \n",
       "0                    0.0  \n",
       "1                    0.0  \n",
       "2                    0.0  \n",
       "3                    0.0  \n",
       "4                    0.0  \n",
       "\n",
       "[5 rows x 54 columns]"
      ]
     },
     "execution_count": 118,
     "metadata": {},
     "output_type": "execute_result"
    }
   ],
   "source": [
    "data_for_train2 = pd.DataFrame(data_dummy, columns = data_dummy.columns)\n",
    "data_for_train2.head()"
   ]
  },
  {
   "cell_type": "code",
   "execution_count": 119,
   "metadata": {
    "collapsed": false
   },
   "outputs": [],
   "source": [
    "# drop `duration` feature! \n",
    "data_for_train2 = data_for_train2.drop('duration', axis=1)\n",
    "holdout = holdout.drop('duration', axis=1)"
   ]
  },
  {
   "cell_type": "code",
   "execution_count": 120,
   "metadata": {
    "collapsed": false
   },
   "outputs": [
    {
     "data": {
      "text/plain": [
       "0.0"
      ]
     },
     "execution_count": 120,
     "metadata": {},
     "output_type": "execute_result"
    }
   ],
   "source": [
    "data['duration'].min()"
   ]
  },
  {
   "cell_type": "code",
   "execution_count": 121,
   "metadata": {
    "collapsed": false
   },
   "outputs": [
    {
     "data": {
      "text/plain": [
       "4924.0"
      ]
     },
     "execution_count": 121,
     "metadata": {},
     "output_type": "execute_result"
    }
   ],
   "source": [
    "data['duration'].max()"
   ]
  },
  {
   "cell_type": "code",
   "execution_count": 122,
   "metadata": {
    "collapsed": false
   },
   "outputs": [
    {
     "data": {
      "text/plain": [
       "67013.45886371689"
      ]
     },
     "execution_count": 122,
     "metadata": {},
     "output_type": "execute_result"
    }
   ],
   "source": [
    "data['duration'].var()"
   ]
  },
  {
   "cell_type": "code",
   "execution_count": 123,
   "metadata": {
    "collapsed": false
   },
   "outputs": [
    {
     "data": {
      "text/plain": [
       "257.768497723824"
      ]
     },
     "execution_count": 123,
     "metadata": {},
     "output_type": "execute_result"
    }
   ],
   "source": [
    "data['duration'].mean()"
   ]
  },
  {
   "cell_type": "markdown",
   "metadata": {},
   "source": [
    "#### some feature importance visualization \n",
    "sort by importance and print out top 20 features for data understanding"
   ]
  },
  {
   "cell_type": "code",
   "execution_count": 124,
   "metadata": {
    "collapsed": false
   },
   "outputs": [],
   "source": [
    "df['subscribed'] = df['subscribed'].map({\"yes\": 1, \"no\": 0})"
   ]
  },
  {
   "cell_type": "code",
   "execution_count": 125,
   "metadata": {
    "collapsed": true
   },
   "outputs": [],
   "source": [
    "def concatenate(a, b):\n",
    "    r\"\"\" concatenate two array (of shape e.g. (n,)) into one (n,2) matrix \n",
    "\n",
    "    Parameters\n",
    "    ----------\n",
    "    a : array\n",
    "       array to be transformed into 1-D vector\n",
    "    b : array\n",
    "       array to be transformed into 1-D vector \n",
    "\n",
    "    Returns\n",
    "    -------\n",
    "    cat : numpy.ndarray\n",
    "        a (n,2) shaped matrix \n",
    "    \"\"\"\n",
    "    oneDa = np.array([a]).astype(float) # 1xn\n",
    "    oneDaT = oneDa.T # nx1\n",
    "    oneDb = np.array([b])\n",
    "    oneDbT = oneDb.T\n",
    "    return np.concatenate((oneDaT, oneDbT), axis=1)\n",
    "\n"
   ]
  },
  {
   "cell_type": "code",
   "execution_count": 126,
   "metadata": {
    "collapsed": false
   },
   "outputs": [],
   "source": [
    "def topKfeatures(nparray, modeltype, k):\n",
    "    r\"\"\" return top k features regarding their feature importance\n",
    "\n",
    "    Parameters\n",
    "    ----------\n",
    "    nparray : numpy.nparray\n",
    "       a matrix with first column as feature importance and second column as feature name\n",
    "    modeltype : string\n",
    "       the type of model that generated this feature importance\n",
    "    k : int\n",
    "       number of features to return \n",
    "       \n",
    "    Returns\n",
    "    -------\n",
    "     : list\n",
    "       a nested list with inner list[0] as feature importance and inner list[1] as feature name\n",
    "    \"\"\"\n",
    "    print (\"{}'s top {} features:\".format(modeltype,k))\n",
    "    if modeltype == \"logistic\":\n",
    "        ret = sorted(nparray, key=lambda row: np.abs(row[0]))[::-1][:k]\n",
    "        return [[x[0], x[1]] for x in ret]\n",
    "    else:\n",
    "        ret = nparray[nparray[:,0].argsort()][::-1][:k]\n",
    "        return [[x[0], x[1]] for x in ret]"
   ]
  },
  {
   "cell_type": "code",
   "execution_count": 127,
   "metadata": {
    "collapsed": false
   },
   "outputs": [],
   "source": [
    "# split the dataset\n",
    "\n",
    "target = df['subscribed']\n",
    "from sklearn.model_selection import train_test_split\n",
    "X_trainval, X_val, y_trainval, y_val = train_test_split(data_for_train2, target, stratify=target, random_state=88)\n",
    "X_train, X_test, y_train, y_test = train_test_split(X_trainval, y_trainval, stratify=y_trainval, random_state=88)"
   ]
  },
  {
   "cell_type": "code",
   "execution_count": 128,
   "metadata": {
    "collapsed": false,
    "scrolled": true
   },
   "outputs": [
    {
     "data": {
      "image/png": "iVBORw0KGgoAAAANSUhEUgAAAtsAAANhCAYAAAA2VncPAAAABHNCSVQICAgIfAhkiAAAAAlwSFlz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\nEdEkSbYjIiIiIprkfwGcmDkdVz3FHgAAAABJRU5ErkJggg==\n",
      "text/plain": [
       "<matplotlib.figure.Figure at 0x10f3f6048>"
      ]
     },
     "metadata": {},
     "output_type": "display_data"
    }
   ],
   "source": [
    "from sklearn.feature_selection import f_classif\n",
    "F, p = f_classif(X_train, y_train)\n",
    "\n",
    "# plot by f score\n",
    "cat_f = concatenate(F, X_train.columns )\n",
    "cat_f_sorted = cat_f[cat_f[:,0].argsort()]\n",
    "feat_names = list(cat_f_sorted[:,1])\n",
    "F1 = cat_f_sorted[:,0].astype(float)\n",
    "plt.figure(figsize=(10, 15))\n",
    "plt.barh(np.arange(len(F1)), np.log(F1+1))\n",
    "plt.yticks(np.arange(len(F1)), feat_names);"
   ]
  },
  {
   "cell_type": "code",
   "execution_count": 129,
   "metadata": {
    "collapsed": false,
    "scrolled": false
   },
   "outputs": [
    {
     "name": "stdout",
     "output_type": "stream",
     "text": [
      "f_classif's top 20 features:\n"
     ]
    },
    {
     "data": {
      "text/plain": [
       "[[2689.17799851117, 'nr_employed'],\n",
       " [2185.8679378540314, 'prev_days'],\n",
       " [2050.1505988819536, 'prev_outcomes_success'],\n",
       " [1975.5192149491993, 'euribor3m'],\n",
       " [1851.6707738588364, 'emp_var_rate'],\n",
       " [1074.0125442637584, 'prev_contacts'],\n",
       " [693.2501516729693, 'prev_outcomes_nonexistent'],\n",
       " [394.74954086999077, 'contact'],\n",
       " [383.90496461625384, 'month_oct'],\n",
       " [372.09472230642353, 'month_mar'],\n",
       " [257.69372929294036, 'month_sep'],\n",
       " [217.0061534323134, 'job_student'],\n",
       " [204.97317620885713, 'credit_default_no'],\n",
       " [204.67708334535953, 'credit_default_unknown'],\n",
       " [194.09051493798805, 'month_may'],\n",
       " [154.71380413437717, 'job_retired'],\n",
       " [120.22422968151119, 'job_blue-collar'],\n",
       " [104.43730597244613, 'month_dec'],\n",
       " [91.19835736239561, 'cons_price_idx'],\n",
       " [90.68023572035906, 'campaign']]"
      ]
     },
     "execution_count": 129,
     "metadata": {},
     "output_type": "execute_result"
    }
   ],
   "source": [
    "topKfeatures(cat_f, \"f_classif\", 20)"
   ]
  },
  {
   "cell_type": "code",
   "execution_count": 130,
   "metadata": {
    "collapsed": false
   },
   "outputs": [],
   "source": [
    "from sklearn.feature_selection import mutual_info_classif\n",
    "mi = mutual_info_classif(X_train, y_train)"
   ]
  },
  {
   "cell_type": "code",
   "execution_count": 131,
   "metadata": {
    "collapsed": false,
    "scrolled": true
   },
   "outputs": [
    {
     "data": {
      "image/png": "iVBORw0KGgoAAAANSUhEUgAAAuMAAAR4CAYAAACsDNgeAAAABHNCSVQICAgIfAhkiAAAAAlwSFlz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\nhbEOHxJyMqEAAAAASUVORK5CYII=\n",
      "text/plain": [
       "<matplotlib.figure.Figure at 0x119a29048>"
      ]
     },
     "metadata": {},
     "output_type": "display_data"
    }
   ],
   "source": [
    "cat_mi = concatenate(mi, X_train.columns)\n",
    "cat_mi_sorted = cat_mi[cat_mi[:,0].argsort()]\n",
    "feat_names = cat_mi_sorted[:,1]\n",
    "mi_values = cat_mi_sorted[:,0].astype(float)\n",
    "plt.figure(figsize=(10, 20))\n",
    "plt.barh(np.arange(len(mi)), np.log(mi_values + 1))\n",
    "plt.yticks(np.arange(len(mi)), feat_names);"
   ]
  },
  {
   "cell_type": "code",
   "execution_count": 132,
   "metadata": {
    "collapsed": false,
    "scrolled": false
   },
   "outputs": [
    {
     "name": "stdout",
     "output_type": "stream",
     "text": [
      "mutual_info's top 20 features:\n"
     ]
    },
    {
     "data": {
      "text/plain": [
       "[[0.061750418831039156, 'nr_employed'],\n",
       " [0.05703024576448956, 'euribor3m'],\n",
       " [0.055303305954502724, 'cons_conf_idx'],\n",
       " [0.04839871757444669, 'emp_var_rate'],\n",
       " [0.029633464430687262, 'prev_days'],\n",
       " [0.029081748746540237, 'prev_outcomes_success'],\n",
       " [0.019906837947629485, 'prev_contacts'],\n",
       " [0.019379672839128892, 'prev_outcomes_nonexistent'],\n",
       " [0.012483028767895199, 'age'],\n",
       " [0.011840410112974542, 'contact'],\n",
       " [0.009664560781224019, 'credit_default_no'],\n",
       " [0.007487068037186573, 'month_oct'],\n",
       " [0.007231349069325876, 'job_blue-collar'],\n",
       " [0.00617614224902896, 'job_student'],\n",
       " [0.005899820373491682, 'credit_default_unknown'],\n",
       " [0.0052248723515484485, 'education_university.degree'],\n",
       " [0.0047907555887871656, 'month_may'],\n",
       " [0.004481726907217487, 'month_mar'],\n",
       " [0.004446254816826478, 'education_professional.course'],\n",
       " [0.004170353215189548, 'job_management']]"
      ]
     },
     "execution_count": 132,
     "metadata": {},
     "output_type": "execute_result"
    }
   ],
   "source": [
    "topKfeatures(cat_mi, \"mutual_info\", 20)"
   ]
  },
  {
   "cell_type": "markdown",
   "metadata": {},
   "source": [
    "# Step2 - ModelSet1 [35 points]\n",
    "\n",
    "In this step, we expect you to perform the following steps relevant to the models you choose for set1:\n",
    "\n",
    "* feature engineering\n",
    "* validation\n",
    "* feature selection\n",
    "* final model selection\n",
    "\n",
    "You may select up to 5 models in this step for the purpose of final ensemble. Any classification algorithm covered in class apart from tree-based models can be tested here."
   ]
  },
  {
   "cell_type": "markdown",
   "metadata": {},
   "source": [
    "#### I tried logistic regression and SVC with rbf (tuned hyperparamter using GridSearchCV) , polynomial feature enginnering, using mutual_info to perform feature selection, and changing threshold to increase recall.\n",
    "\n",
    "The evaluation method I used to pick best model is based on the averaged cross validation score on the X_trainval and y_trainval. I used averaged cv auc score as the final evaluation metrics to avoid overfitting on any particular X_test, y_test. \n",
    "\n",
    "The best model is mutual_info_classif, percentile=50), PolynomialFeatures(interaction_only=True), StandardScaler(), LogisticRegression(C=1) which has average auc cv score as 0.79127"
   ]
  },
  {
   "cell_type": "markdown",
   "metadata": {},
   "source": [
    "model set1 are models apart from tree-based models, like svm, logistic regression, etc. "
   ]
  },
  {
   "cell_type": "code",
   "execution_count": 133,
   "metadata": {
    "collapsed": false
   },
   "outputs": [
    {
     "name": "stdout",
     "output_type": "stream",
     "text": [
      "there are 6178 number of rows in X_trainval\n",
      "there are 18534 number of rows in X_train\n"
     ]
    }
   ],
   "source": [
    "print (\"there are {} number of rows in X_trainval\".format(X_test.shape[0]))\n",
    "print (\"there are {} number of rows in X_train\".format(X_train.shape[0]))"
   ]
  },
  {
   "cell_type": "code",
   "execution_count": 134,
   "metadata": {
    "collapsed": false
   },
   "outputs": [
    {
     "data": {
      "text/plain": [
       "0.7754002650261882"
      ]
     },
     "execution_count": 134,
     "metadata": {},
     "output_type": "execute_result"
    }
   ],
   "source": [
    "from sklearn.metrics import roc_auc_score\n",
    "\n",
    "from sklearn.linear_model import LogisticRegression\n",
    "lr = LogisticRegression()\n",
    "roc_auc_score(y_test, lr.fit(X_train, y_train).predict_proba(X_test)[:,1])"
   ]
  },
  {
   "cell_type": "code",
   "execution_count": 135,
   "metadata": {
    "collapsed": false,
    "scrolled": true
   },
   "outputs": [
    {
     "data": {
      "image/png": "iVBORw0KGgoAAAANSUhEUgAAAuAAAANhCAYAAACmRQ7AAAAABHNCSVQICAgIfAhkiAAAAAlwSFlz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\n6GjuAAAAAElFTkSuQmCC\n",
      "text/plain": [
       "<matplotlib.figure.Figure at 0x119a294a8>"
      ]
     },
     "metadata": {},
     "output_type": "display_data"
    }
   ],
   "source": [
    "# plot me logistic regression coefs (feature importance )\n",
    "cat_lg = concatenate(lr.coef_.flatten(), X_train.columns)\n",
    "cat_lg_sorted = cat_lg[cat_lg[:,0].argsort()]\n",
    "feat_names = list(cat_lg_sorted[:,1])\n",
    "feat_coefs = cat_lg_sorted[:,0].astype(float)\n",
    "plt.figure(figsize=(10, 15))\n",
    "plt.barh(np.arange(len(feat_coefs)), feat_coefs)\n",
    "plt.yticks(np.arange(len(feat_coefs)), feat_names);"
   ]
  },
  {
   "cell_type": "code",
   "execution_count": 136,
   "metadata": {
    "collapsed": false,
    "scrolled": false
   },
   "outputs": [
    {
     "name": "stdout",
     "output_type": "stream",
     "text": [
      "logistic's top 20 features:\n"
     ]
    },
    {
     "data": {
      "text/plain": [
       "[[-0.43737552548596415, 'month_may'],\n",
       " [-0.24885244280962793, 'euribor3m'],\n",
       " [0.1993592228873822, 'contact'],\n",
       " [-0.17814564501876098, 'emp_var_rate'],\n",
       " [0.17372851620404334, 'month_jul'],\n",
       " [-0.16518536880477164, 'prev_outcomes_failure'],\n",
       " [0.1513877154131868, 'prev_outcomes_nonexistent'],\n",
       " [-0.14895381910535427, 'job_blue-collar'],\n",
       " [0.1457375770266291, 'cons_price_idx'],\n",
       " [-0.1364962429589008, 'day_of_week_mon'],\n",
       " [0.13456271489512103, 'credit_default_no'],\n",
       " [-0.12832746341960113, 'credit_default_unknown'],\n",
       " [0.12517585835042244, 'month_mar'],\n",
       " [0.11372295172374258, 'education_university.degree'],\n",
       " [0.09436994421125623, 'marital_status_single'],\n",
       " [0.08685201610523158, 'month_jun'],\n",
       " [-0.08307302389720435, 'marital_status_married'],\n",
       " [0.0799125471111695, 'job_retired'],\n",
       " [-0.07493712875190991, 'education_basic.9y'],\n",
       " [-0.06998625735257803, 'prev_contacts']]"
      ]
     },
     "execution_count": 136,
     "metadata": {},
     "output_type": "execute_result"
    }
   ],
   "source": [
    "topKfeatures(cat_lg, \"logistic\", 20)"
   ]
  },
  {
   "cell_type": "code",
   "execution_count": 137,
   "metadata": {
    "collapsed": false
   },
   "outputs": [],
   "source": [
    "# feature selection \n",
    "from sklearn.feature_selection import mutual_info_classif\n",
    "from sklearn.feature_selection import SelectPercentile\n",
    "select = SelectPercentile(mutual_info_classif, percentile=70)\n",
    "X_train_selected = select.fit_transform(X_train, y_train)\n"
   ]
  },
  {
   "cell_type": "code",
   "execution_count": 138,
   "metadata": {
    "collapsed": false,
    "scrolled": true
   },
   "outputs": [
    {
     "name": "stdout",
     "output_type": "stream",
     "text": [
      "the following 37 features are selected by SelectPercentile:\n",
      " ['age', 'housing', 'contact', 'campaign', 'prev_days', 'prev_contacts', 'emp_var_rate', 'cons_price_idx', 'cons_conf_idx', 'euribor3m', 'nr_employed', 'job_blue-collar', 'job_entrepreneur', 'job_unemployed', 'job_retired', 'job_services', 'job_management', 'job_student', 'marital_status_married', 'marital_status_divorced', 'marital_status_single', 'education_basic.9y', 'education_university.degree', 'education_basic.4y', 'education_illiterate', 'credit_default_no', 'credit_default_unknown', 'month_apr', 'month_may', 'month_nov', 'month_oct', 'month_sep', 'month_mar', 'day_of_week_mon', 'prev_outcomes_nonexistent', 'prev_outcomes_failure', 'prev_outcomes_success']\n"
     ]
    }
   ],
   "source": [
    "selected_feature_names = [name for name in X_train.columns[select.get_support()]]\n",
    "print (\"the following {} features are selected by SelectPercentile:\\n {}\".format(len(selected_feature_names),selected_feature_names))"
   ]
  },
  {
   "cell_type": "code",
   "execution_count": 139,
   "metadata": {
    "collapsed": false,
    "scrolled": true
   },
   "outputs": [
    {
     "name": "stdout",
     "output_type": "stream",
     "text": [
      "(18534, 53)\n",
      "(18534, 1432)\n"
     ]
    }
   ],
   "source": [
    "# feature engineering\n",
    "from sklearn.preprocessing import PolynomialFeatures\n",
    "\n",
    "poly = PolynomialFeatures(interaction_only=True)\n",
    "X_train_poly = poly.fit_transform(X_train)\n",
    "X_test_poly = poly.transform(X_test)\n",
    "print (X_train.shape)\n",
    "print (X_train_poly.shape)"
   ]
  },
  {
   "cell_type": "code",
   "execution_count": 140,
   "metadata": {
    "collapsed": false
   },
   "outputs": [
    {
     "name": "stdout",
     "output_type": "stream",
     "text": [
      "after poly feature engineering the roc score is 0.7807128449638734\n",
      "original lr roc score 0.7787301282777073\n"
     ]
    }
   ],
   "source": [
    "from sklearn.metrics import roc_auc_score\n",
    "from sklearn.linear_model import LogisticRegression\n",
    "lr = LogisticRegression()\n",
    "lr = lr.fit(X_train_poly, y_train)\n",
    "print (\"after poly feature engineering the roc score is {}\".format(roc_auc_score(y_test, lr.predict_proba(X_test_poly)[:,1])))\n",
    "print (\"original lr roc score {}\".format(roc_auc_score(y_test, lr.fit(X_train, y_train).predict_proba(X_test)[:,1])))"
   ]
  },
  {
   "cell_type": "code",
   "execution_count": 141,
   "metadata": {
    "collapsed": false
   },
   "outputs": [
    {
     "name": "stdout",
     "output_type": "stream",
     "text": [
      "{'logisticregression__C': 10}\n",
      "0.779215782477\n"
     ]
    }
   ],
   "source": [
    "# lg + f_score + standard scaler\n",
    "from sklearn.model_selection import GridSearchCV\n",
    "from sklearn.pipeline import make_pipeline\n",
    "from sklearn.preprocessing import StandardScaler\n",
    "from sklearn.feature_selection import VarianceThreshold\n",
    "from sklearn.preprocessing import RobustScaler\n",
    "\n",
    "# lg_pipe = make_pipeline(VarianceThreshold(), SelectPercentile(f_classif, percentile=50), StandardScaler(), LogisticRegression())\n",
    "# param_grid={\"logisticregression__C\":[0.001, 0.01, 0.1, 1, 10, 100]}\n",
    "# grid = GridSearchCV(lg_pipe, param_grid, cv=5, scoring='roc_auc')\n",
    "# grid.fit(X_train, y_train)\n",
    "# print(grid.best_params_)\n",
    "# print(grid.score(X_test, y_test))"
   ]
  },
  {
   "cell_type": "code",
   "execution_count": 281,
   "metadata": {
    "collapsed": false
   },
   "outputs": [
    {
     "name": "stdout",
     "output_type": "stream",
     "text": [
      "{'logisticregression__C': 10} 0.779215782477\n"
     ]
    }
   ],
   "source": [
    "print (\n",
    "\"{'logisticregression__C': 10} 0.779215782477\"\n",
    ")"
   ]
  },
  {
   "cell_type": "code",
   "execution_count": 142,
   "metadata": {
    "collapsed": false
   },
   "outputs": [
    {
     "name": "stdout",
     "output_type": "stream",
     "text": [
      "{'logisticregression__C': 1}\n",
      "0.7987857623\n",
      "0.77933896514\n"
     ]
    }
   ],
   "source": [
    "# lg + f_score + robust\n",
    "from sklearn.model_selection import GridSearchCV\n",
    "from sklearn.pipeline import make_pipeline\n",
    "from sklearn.preprocessing import StandardScaler\n",
    "from sklearn.feature_selection import VarianceThreshold\n",
    "from sklearn.preprocessing import RobustScaler\n",
    "\n",
    "# lg_pipe = make_pipeline(VarianceThreshold(), SelectPercentile(f_classif, percentile=50), RobustScaler(), LogisticRegression())\n",
    "# param_grid={\"logisticregression__C\":[0.001, 0.01, 0.1, 1, 10, 100]}\n",
    "# grid = GridSearchCV(lg_pipe, param_grid, cv=5, scoring='roc_auc')\n",
    "# grid.fit(X_train, y_train)\n",
    "# print(grid.best_params_)\n",
    "# print (grid.score(X_val, y_val))\n",
    "# print(grid.score(X_test, y_test))"
   ]
  },
  {
   "cell_type": "code",
   "execution_count": 282,
   "metadata": {
    "collapsed": false
   },
   "outputs": [
    {
     "name": "stdout",
     "output_type": "stream",
     "text": [
      " {'logisticregression__C': 1} 0.7987857623 0.77933896514\n"
     ]
    }
   ],
   "source": [
    "print (\" {'logisticregression__C': 1} 0.7987857623 0.77933896514\")"
   ]
  },
  {
   "cell_type": "code",
   "execution_count": 292,
   "metadata": {
    "collapsed": false
   },
   "outputs": [
    {
     "name": "stdout",
     "output_type": "stream",
     "text": [
      "logisitc regression with robust scaler has average auc cv score as 0.7876115990531561\n"
     ]
    }
   ],
   "source": [
    "from sklearn.model_selection import cross_val_score\n",
    "\n",
    "lg_pipe0 = make_pipeline(VarianceThreshold(), SelectPercentile(f_classif, percentile=50), RobustScaler(), LogisticRegression(C=1))\n",
    "lg_mean = np.mean(cross_val_score(lg_pipe0, X_trainval, y_trainval, cv=10, scoring='roc_auc'))\n",
    "print (\"logisitc regression with robust scaler has average auc cv score as {}\".format(lg_mean))"
   ]
  },
  {
   "cell_type": "code",
   "execution_count": 154,
   "metadata": {
    "collapsed": false,
    "scrolled": true
   },
   "outputs": [
    {
     "name": "stdout",
     "output_type": "stream",
     "text": [
      "             precision    recall  f1-score   support\n",
      "\n",
      "          0       0.91      0.99      0.95      5482\n",
      "          1       0.69      0.20      0.31       696\n",
      "\n",
      "avg / total       0.88      0.90      0.87      6178\n",
      "\n"
     ]
    }
   ],
   "source": [
    "from sklearn.metrics import classification_report\n",
    "\n",
    "model_lr = LogisticRegression(C=1).fit(X_train, y_train)\n",
    "\n",
    "print (classification_report(y_test, model_lr.predict( X_test)))"
   ]
  },
  {
   "cell_type": "code",
   "execution_count": 155,
   "metadata": {
    "collapsed": false
   },
   "outputs": [
    {
     "name": "stdout",
     "output_type": "stream",
     "text": [
      "recall is pretty low, I think for this kind of task, we want to increase recall, make sure we contact as many potential customers as possible within the resouse limit\n"
     ]
    }
   ],
   "source": [
    "print (\"recall is pretty low, I think for this kind of task, we want to increase recall, make sure we contact as many potential customers as possible within the resouse limit\")"
   ]
  },
  {
   "cell_type": "code",
   "execution_count": 156,
   "metadata": {
    "collapsed": false
   },
   "outputs": [
    {
     "name": "stdout",
     "output_type": "stream",
     "text": [
      "             precision    recall  f1-score   support\n",
      "\n",
      "          0       0.95      0.78      0.86      5482\n",
      "          1       0.28      0.68      0.40       696\n",
      "\n",
      "avg / total       0.88      0.77      0.81      6178\n",
      "\n"
     ]
    }
   ],
   "source": [
    "model_lr = LogisticRegression(C=1).fit(X_train, y_train)\n",
    "lr_increased_recall = model_lr.predict_proba(X_test)[:,1] > 0.1\n",
    "\n",
    "print (classification_report(y_test, lr_increased_recall))"
   ]
  },
  {
   "cell_type": "code",
   "execution_count": 157,
   "metadata": {
    "collapsed": false
   },
   "outputs": [
    {
     "name": "stdout",
     "output_type": "stream",
     "text": [
      "{'logisticregression__C': 0.001}\n",
      "0.784053453937\n"
     ]
    }
   ],
   "source": [
    "# lg + poly + standard scaler \n",
    "from sklearn.model_selection import GridSearchCV\n",
    "from sklearn.pipeline import make_pipeline\n",
    "from sklearn.preprocessing import StandardScaler\n",
    "\n",
    "# lg_pipe = make_pipeline(SelectPercentile(mutual_info_classif, percentile=50), PolynomialFeatures(interaction_only=True), StandardScaler(), LogisticRegression())\n",
    "# param_grid={\"logisticregression__C\":[0.001, 0.01, 0.1, 1, 10, 100]}\n",
    "# grid = GridSearchCV(lg_pipe, param_grid, cv=5, scoring='roc_auc')\n",
    "# grid.fit(X_train, y_train)\n",
    "# print(grid.best_params_)\n",
    "# print(grid.score(X_test, y_test))"
   ]
  },
  {
   "cell_type": "code",
   "execution_count": 283,
   "metadata": {
    "collapsed": false
   },
   "outputs": [
    {
     "name": "stdout",
     "output_type": "stream",
     "text": [
      "{'logisticregression__C': 0.001} 0.784053453937\n"
     ]
    }
   ],
   "source": [
    "print (\"{'logisticregression__C': 0.001} 0.784053453937\")"
   ]
  },
  {
   "cell_type": "code",
   "execution_count": 158,
   "metadata": {
    "collapsed": false
   },
   "outputs": [
    {
     "name": "stdout",
     "output_type": "stream",
     "text": [
      "{'logisticregression__C': 0.1}\n",
      "0.758010018158\n"
     ]
    }
   ],
   "source": [
    "# lg + poly + robust scaler \n",
    "from sklearn.model_selection import GridSearchCV\n",
    "from sklearn.pipeline import make_pipeline\n",
    "from sklearn.preprocessing import StandardScaler\n",
    "\n",
    "# lg_pipe = make_pipeline(SelectPercentile(mutual_info_classif, percentile=50), PolynomialFeatures(interaction_only=True), RobustScaler(), LogisticRegression())\n",
    "# param_grid={\"logisticregression__C\":[0.001, 0.01, 0.1, 1, 10, 100]}\n",
    "# grid = GridSearchCV(lg_pipe, param_grid, cv=5, scoring='roc_auc')\n",
    "# grid.fit(X_train, y_train)\n",
    "# print(grid.best_params_)\n",
    "# print(grid.score(X_test, y_test))"
   ]
  },
  {
   "cell_type": "code",
   "execution_count": 284,
   "metadata": {
    "collapsed": false
   },
   "outputs": [
    {
     "name": "stdout",
     "output_type": "stream",
     "text": [
      "{'logisticregression__C': 0.1} 0.758010018158\n"
     ]
    }
   ],
   "source": [
    "print (\"{'logisticregression__C': 0.1} 0.758010018158\")"
   ]
  },
  {
   "cell_type": "code",
   "execution_count": 160,
   "metadata": {
    "collapsed": false
   },
   "outputs": [
    {
     "name": "stdout",
     "output_type": "stream",
     "text": [
      "polynomial feature with robust scaler has best cv score: 0.7750936758864225\n"
     ]
    }
   ],
   "source": [
    "# print (\"polynomial feature with robust scaler has best cv score: {}\".format(grid.best_score_))"
   ]
  },
  {
   "cell_type": "code",
   "execution_count": 163,
   "metadata": {
    "collapsed": false
   },
   "outputs": [
    {
     "name": "stdout",
     "output_type": "stream",
     "text": [
      "at least on the test set I created, logistic regression with polynomial feature + standard scaler outperforms polynomial features with robust scaler\n"
     ]
    }
   ],
   "source": [
    "print (\"at least on the test set I created, logistic regression with polynomial feature + standard scaler outperforms polynomial features with robust scaler\")"
   ]
  },
  {
   "cell_type": "code",
   "execution_count": 190,
   "metadata": {
    "collapsed": false
   },
   "outputs": [
    {
     "name": "stdout",
     "output_type": "stream",
     "text": [
      "logisitc regression with polynomial features and standard scaler has average auc cv score as 0.7912706549936591\n"
     ]
    }
   ],
   "source": [
    "lg_pipe1 = make_pipeline(SelectPercentile(mutual_info_classif, percentile=50), PolynomialFeatures(interaction_only=True), StandardScaler(), LogisticRegression(C=1))\n",
    "lg_poly_mean = np.mean(cross_val_score(lg_pipe1, X_trainval, y_trainval, cv=10, scoring='roc_auc'))\n",
    "print (\"logisitc regression with polynomial features and standard scaler has average auc cv score as {}\".format(lg_poly_mean))"
   ]
  },
  {
   "cell_type": "code",
   "execution_count": 302,
   "metadata": {
    "collapsed": false
   },
   "outputs": [
    {
     "data": {
      "text/plain": [
       "0.79929477805556859"
      ]
     },
     "execution_count": 302,
     "metadata": {},
     "output_type": "execute_result"
    }
   ],
   "source": [
    "make_lg_pipeline = make_pipeline(SelectPercentile(mutual_info_classif, percentile=50), VarianceThreshold(),  StandardScaler(), LogisticRegression(C=1))\n",
    "lg_final = make_lg_pipeline.fit(X_trainval, y_trainval)\n",
    "roc_auc_score(y_val, lg_final.predict_proba(X_val)[:,1])"
   ]
  },
  {
   "cell_type": "code",
   "execution_count": 303,
   "metadata": {
    "collapsed": false
   },
   "outputs": [
    {
     "data": {
      "text/plain": [
       "array([ 0.79348105,  0.80676215,  0.76913673,  0.7828346 ,  0.78837833,\n",
       "        0.80134634,  0.77278423,  0.77605986,  0.79187891,  0.78765655])"
      ]
     },
     "execution_count": 303,
     "metadata": {},
     "output_type": "execute_result"
    }
   ],
   "source": [
    "cross_val_score(make_lg_pipeline, X_trainval, y_trainval, cv=10, scoring=\"roc_auc\")"
   ]
  },
  {
   "cell_type": "code",
   "execution_count": 304,
   "metadata": {
    "collapsed": false
   },
   "outputs": [
    {
     "data": {
      "text/html": [
       "<div>\n",
       "<table border=\"1\" class=\"dataframe\">\n",
       "  <thead>\n",
       "    <tr style=\"text-align: right;\">\n",
       "      <th></th>\n",
       "      <th>ID</th>\n",
       "      <th>age</th>\n",
       "      <th>job</th>\n",
       "      <th>marital_status</th>\n",
       "      <th>education</th>\n",
       "      <th>credit_default</th>\n",
       "      <th>housing</th>\n",
       "      <th>loan</th>\n",
       "      <th>contact</th>\n",
       "      <th>month</th>\n",
       "      <th>...</th>\n",
       "      <th>duration</th>\n",
       "      <th>campaign</th>\n",
       "      <th>prev_days</th>\n",
       "      <th>prev_contacts</th>\n",
       "      <th>prev_outcomes</th>\n",
       "      <th>emp_var_rate</th>\n",
       "      <th>cons_price_idx</th>\n",
       "      <th>cons_conf_idx</th>\n",
       "      <th>euribor3m</th>\n",
       "      <th>nr_employed</th>\n",
       "    </tr>\n",
       "  </thead>\n",
       "  <tbody>\n",
       "    <tr>\n",
       "      <th>0</th>\n",
       "      <td>2866</td>\n",
       "      <td>47.0</td>\n",
       "      <td>admin.</td>\n",
       "      <td>divorced</td>\n",
       "      <td>university.degree</td>\n",
       "      <td>NaN</td>\n",
       "      <td>no</td>\n",
       "      <td>no</td>\n",
       "      <td>telephone</td>\n",
       "      <td>may</td>\n",
       "      <td>...</td>\n",
       "      <td>239.0</td>\n",
       "      <td>2.0</td>\n",
       "      <td>999</td>\n",
       "      <td>0</td>\n",
       "      <td>nonexistent</td>\n",
       "      <td>1.247123</td>\n",
       "      <td>92.972198</td>\n",
       "      <td>-35.612530</td>\n",
       "      <td>4.932103</td>\n",
       "      <td>5190.0</td>\n",
       "    </tr>\n",
       "    <tr>\n",
       "      <th>1</th>\n",
       "      <td>1957</td>\n",
       "      <td>40.0</td>\n",
       "      <td>blue-collar</td>\n",
       "      <td>married</td>\n",
       "      <td>basic.4y</td>\n",
       "      <td>NaN</td>\n",
       "      <td>no</td>\n",
       "      <td>no</td>\n",
       "      <td>telephone</td>\n",
       "      <td>jun</td>\n",
       "      <td>...</td>\n",
       "      <td>297.0</td>\n",
       "      <td>5.0</td>\n",
       "      <td>999</td>\n",
       "      <td>0</td>\n",
       "      <td>nonexistent</td>\n",
       "      <td>1.336096</td>\n",
       "      <td>95.085866</td>\n",
       "      <td>-40.841331</td>\n",
       "      <td>5.082825</td>\n",
       "      <td>5225.0</td>\n",
       "    </tr>\n",
       "    <tr>\n",
       "      <th>2</th>\n",
       "      <td>768</td>\n",
       "      <td>42.0</td>\n",
       "      <td>technician</td>\n",
       "      <td>married</td>\n",
       "      <td>professional.course</td>\n",
       "      <td>no</td>\n",
       "      <td>yes</td>\n",
       "      <td>no</td>\n",
       "      <td>cellular</td>\n",
       "      <td>jul</td>\n",
       "      <td>...</td>\n",
       "      <td>415.0</td>\n",
       "      <td>3.0</td>\n",
       "      <td>999</td>\n",
       "      <td>0</td>\n",
       "      <td>nonexistent</td>\n",
       "      <td>1.388607</td>\n",
       "      <td>93.705043</td>\n",
       "      <td>-42.039772</td>\n",
       "      <td>4.941916</td>\n",
       "      <td>5232.0</td>\n",
       "    </tr>\n",
       "    <tr>\n",
       "      <th>3</th>\n",
       "      <td>4510</td>\n",
       "      <td>53.0</td>\n",
       "      <td>blue-collar</td>\n",
       "      <td>divorced</td>\n",
       "      <td>basic.4y</td>\n",
       "      <td>NaN</td>\n",
       "      <td>yes</td>\n",
       "      <td>no</td>\n",
       "      <td>telephone</td>\n",
       "      <td>may</td>\n",
       "      <td>...</td>\n",
       "      <td>386.0</td>\n",
       "      <td>1.0</td>\n",
       "      <td>999</td>\n",
       "      <td>0</td>\n",
       "      <td>nonexistent</td>\n",
       "      <td>1.146340</td>\n",
       "      <td>92.826786</td>\n",
       "      <td>-36.824117</td>\n",
       "      <td>4.916084</td>\n",
       "      <td>5205.0</td>\n",
       "    </tr>\n",
       "    <tr>\n",
       "      <th>4</th>\n",
       "      <td>7893</td>\n",
       "      <td>54.0</td>\n",
       "      <td>self-employed</td>\n",
       "      <td>married</td>\n",
       "      <td>high.school</td>\n",
       "      <td>no</td>\n",
       "      <td>yes</td>\n",
       "      <td>no</td>\n",
       "      <td>cellular</td>\n",
       "      <td>aug</td>\n",
       "      <td>...</td>\n",
       "      <td>2.0</td>\n",
       "      <td>6.0</td>\n",
       "      <td>999</td>\n",
       "      <td>0</td>\n",
       "      <td>nonexistent</td>\n",
       "      <td>1.490160</td>\n",
       "      <td>94.392184</td>\n",
       "      <td>-36.710934</td>\n",
       "      <td>4.999765</td>\n",
       "      <td>5226.0</td>\n",
       "    </tr>\n",
       "    <tr>\n",
       "      <th>5</th>\n",
       "      <td>5540</td>\n",
       "      <td>34.0</td>\n",
       "      <td>admin.</td>\n",
       "      <td>single</td>\n",
       "      <td>university.degree</td>\n",
       "      <td>NaN</td>\n",
       "      <td>yes</td>\n",
       "      <td>no</td>\n",
       "      <td>cellular</td>\n",
       "      <td>jul</td>\n",
       "      <td>...</td>\n",
       "      <td>106.0</td>\n",
       "      <td>2.0</td>\n",
       "      <td>999</td>\n",
       "      <td>0</td>\n",
       "      <td>nonexistent</td>\n",
       "      <td>1.426098</td>\n",
       "      <td>93.677214</td>\n",
       "      <td>-42.131346</td>\n",
       "      <td>4.929474</td>\n",
       "      <td>5233.0</td>\n",
       "    </tr>\n",
       "  </tbody>\n",
       "</table>\n",
       "<p>6 rows × 21 columns</p>\n",
       "</div>"
      ],
      "text/plain": [
       "     ID   age            job marital_status            education  \\\n",
       "0  2866  47.0         admin.       divorced    university.degree   \n",
       "1  1957  40.0    blue-collar        married             basic.4y   \n",
       "2   768  42.0     technician        married  professional.course   \n",
       "3  4510  53.0    blue-collar       divorced             basic.4y   \n",
       "4  7893  54.0  self-employed        married          high.school   \n",
       "5  5540  34.0         admin.         single    university.degree   \n",
       "\n",
       "  credit_default housing loan    contact month     ...      duration  \\\n",
       "0            NaN      no   no  telephone   may     ...         239.0   \n",
       "1            NaN      no   no  telephone   jun     ...         297.0   \n",
       "2             no     yes   no   cellular   jul     ...         415.0   \n",
       "3            NaN     yes   no  telephone   may     ...         386.0   \n",
       "4             no     yes   no   cellular   aug     ...           2.0   \n",
       "5            NaN     yes   no   cellular   jul     ...         106.0   \n",
       "\n",
       "   campaign  prev_days  prev_contacts  prev_outcomes emp_var_rate  \\\n",
       "0       2.0        999              0    nonexistent     1.247123   \n",
       "1       5.0        999              0    nonexistent     1.336096   \n",
       "2       3.0        999              0    nonexistent     1.388607   \n",
       "3       1.0        999              0    nonexistent     1.146340   \n",
       "4       6.0        999              0    nonexistent     1.490160   \n",
       "5       2.0        999              0    nonexistent     1.426098   \n",
       "\n",
       "   cons_price_idx  cons_conf_idx  euribor3m  nr_employed  \n",
       "0       92.972198     -35.612530   4.932103       5190.0  \n",
       "1       95.085866     -40.841331   5.082825       5225.0  \n",
       "2       93.705043     -42.039772   4.941916       5232.0  \n",
       "3       92.826786     -36.824117   4.916084       5205.0  \n",
       "4       94.392184     -36.710934   4.999765       5226.0  \n",
       "5       93.677214     -42.131346   4.929474       5233.0  \n",
       "\n",
       "[6 rows x 21 columns]"
      ]
     },
     "execution_count": 304,
     "metadata": {},
     "output_type": "execute_result"
    }
   ],
   "source": [
    "df_holdout[:6]"
   ]
  },
  {
   "cell_type": "code",
   "execution_count": 311,
   "metadata": {
    "collapsed": false
   },
   "outputs": [],
   "source": [
    "holdout.to_csv(\"./holdout.csv\")"
   ]
  },
  {
   "cell_type": "code",
   "execution_count": 315,
   "metadata": {
    "collapsed": false
   },
   "outputs": [],
   "source": [
    "predicted_lg = make_lg_pipeline.predict(holdout)\n",
    "final_lg = concatenate(df_holdout.ID, predicted_lg)\n",
    "pd_final = pd.DataFrame(final_lg)\n",
    "pd_final.columns = ['ID', 'subscribed']\n",
    "pd_final.to_csv(\"./submission.csv\")"
   ]
  },
  {
   "cell_type": "code",
   "execution_count": 165,
   "metadata": {
    "collapsed": false,
    "scrolled": true
   },
   "outputs": [],
   "source": [
    "# len([i  for i in predictedlg if i ==1])"
   ]
  },
  {
   "cell_type": "code",
   "execution_count": 166,
   "metadata": {
    "collapsed": false
   },
   "outputs": [],
   "source": [
    "# len(predictedlg)"
   ]
  },
  {
   "cell_type": "code",
   "execution_count": 167,
   "metadata": {
    "collapsed": false
   },
   "outputs": [],
   "source": [
    "# warning: takes ~20 mins to return, its values is printed below\n",
    "# # lg_pipe.get_params().keys()\n",
    "# from sklearn import svm\n",
    "# from sklearn.model_selection import GridSearchCV\n",
    "# from sklearn.pipeline import make_pipeline\n",
    "# from sklearn.preprocessing import StandardScaler\n",
    "\n",
    "# svc_pipe = make_pipeline(VarianceThreshold(), SelectPercentile(f_classif, percentile=50), StandardScaler(), svm.SVC())\n",
    "\n",
    "# param_grid={\"svc__C\":np.logspace(-3,2,3), 'svc__gamma':np.logspace(-3,2,3)/X_train.shape[0]}\n",
    "# grid = GridSearchCV(svc_pipe, param_grid, cv=5, scoring='roc_auc')\n",
    "# grid.fit(X_train, y_train)\n",
    "# print(grid.best_params_)\n",
    "# print(grid.score(X_test, y_test))"
   ]
  },
  {
   "cell_type": "code",
   "execution_count": 168,
   "metadata": {
    "collapsed": false
   },
   "outputs": [
    {
     "name": "stdout",
     "output_type": "stream",
     "text": [
      "{'svc__gamma': 5.3954893708859393e-06, 'svc__C': 100.0}, 0.732344556674, took about 20mins to finish \n"
     ]
    }
   ],
   "source": [
    "print (\"{'svc__gamma': 5.3954893708859393e-06, 'svc__C': 100.0}, 0.732344556674, took about 20mins to finish \")"
   ]
  },
  {
   "cell_type": "code",
   "execution_count": 169,
   "metadata": {
    "collapsed": false
   },
   "outputs": [
    {
     "name": "stdout",
     "output_type": "stream",
     "text": [
      "the best model from modelset1 is logistic regression with robust scaler poly and c=1; it achieves 0.806 roc\n"
     ]
    }
   ],
   "source": [
    "print (\"the best model from modelset1 is logistic regression with robust scaler poly and c=1; it achieves 0.806 roc\")"
   ]
  },
  {
   "cell_type": "markdown",
   "metadata": {},
   "source": [
    "# Step3 - ModelSet2 [35 points]\n",
    "\n",
    "In this step, we expect you to perform the following steps relevant to the models you choose for set2:\n",
    "\n",
    "* feature engineering\n",
    "* validation\n",
    "* feature selection\n",
    "* final model selection\n",
    "\n",
    "You may select up to 5 models in this step for the purpose of final ensemble. We encourage you to try decition tree, random forest and gradient boosted tree methods here and pick the one which you think works best."
   ]
  },
  {
   "cell_type": "markdown",
   "metadata": {},
   "source": [
    "model set2 are tree-based models, like decision tree, random forest, gradient boosted trees, etc. "
   ]
  },
  {
   "cell_type": "code",
   "execution_count": 170,
   "metadata": {
    "collapsed": false,
    "scrolled": true
   },
   "outputs": [
    {
     "data": {
      "text/plain": [
       "0.76685099510624122"
      ]
     },
     "execution_count": 170,
     "metadata": {},
     "output_type": "execute_result"
    }
   ],
   "source": [
    "# a single tree try it once\n",
    "from sklearn.ensemble import RandomForestClassifier\n",
    "rf = RandomForestClassifier(n_estimators=100).fit(X_train, y_train)\n",
    "roc_auc_score(y_test, rf.predict_proba(X_test)[:,1])"
   ]
  },
  {
   "cell_type": "code",
   "execution_count": 173,
   "metadata": {
    "collapsed": false
   },
   "outputs": [
    {
     "data": {
      "text/plain": [
       "([<matplotlib.axis.YTick at 0x11601b978>,\n",
       "  <matplotlib.axis.YTick at 0x11601ba90>,\n",
       "  <matplotlib.axis.YTick at 0x1160250b8>,\n",
       "  <matplotlib.axis.YTick at 0x11768c128>,\n",
       "  <matplotlib.axis.YTick at 0x10f4425c0>,\n",
       "  <matplotlib.axis.YTick at 0x1176a1710>,\n",
       "  <matplotlib.axis.YTick at 0x117864240>,\n",
       "  <matplotlib.axis.YTick at 0x117864c18>,\n",
       "  <matplotlib.axis.YTick at 0x10f43c908>,\n",
       "  <matplotlib.axis.YTick at 0x10f43c518>,\n",
       "  <matplotlib.axis.YTick at 0x1176056d8>,\n",
       "  <matplotlib.axis.YTick at 0x11787cba8>,\n",
       "  <matplotlib.axis.YTick at 0x11787c358>,\n",
       "  <matplotlib.axis.YTick at 0x10f8d90f0>,\n",
       "  <matplotlib.axis.YTick at 0x117633160>,\n",
       "  <matplotlib.axis.YTick at 0x117633278>,\n",
       "  <matplotlib.axis.YTick at 0x11767dcc0>,\n",
       "  <matplotlib.axis.YTick at 0x1178504a8>,\n",
       "  <matplotlib.axis.YTick at 0x10f409f28>,\n",
       "  <matplotlib.axis.YTick at 0x10f409080>,\n",
       "  <matplotlib.axis.YTick at 0x114475ef0>,\n",
       "  <matplotlib.axis.YTick at 0x10f8caa20>,\n",
       "  <matplotlib.axis.YTick at 0x11459f3c8>,\n",
       "  <matplotlib.axis.YTick at 0x117634240>,\n",
       "  <matplotlib.axis.YTick at 0x119b01630>,\n",
       "  <matplotlib.axis.YTick at 0x119b01f28>,\n",
       "  <matplotlib.axis.YTick at 0x1176835c0>,\n",
       "  <matplotlib.axis.YTick at 0x10f8e7c18>,\n",
       "  <matplotlib.axis.YTick at 0x10f5f69e8>,\n",
       "  <matplotlib.axis.YTick at 0x10f5f6860>,\n",
       "  <matplotlib.axis.YTick at 0x119a1ef60>,\n",
       "  <matplotlib.axis.YTick at 0x10f5e2128>,\n",
       "  <matplotlib.axis.YTick at 0x11780f898>,\n",
       "  <matplotlib.axis.YTick at 0x11781da58>,\n",
       "  <matplotlib.axis.YTick at 0x11781d4e0>,\n",
       "  <matplotlib.axis.YTick at 0x1144d7898>,\n",
       "  <matplotlib.axis.YTick at 0x117a22400>,\n",
       "  <matplotlib.axis.YTick at 0x11788dfd0>,\n",
       "  <matplotlib.axis.YTick at 0x11788dac8>,\n",
       "  <matplotlib.axis.YTick at 0x1176b1898>,\n",
       "  <matplotlib.axis.YTick at 0x119adb390>,\n",
       "  <matplotlib.axis.YTick at 0x117868470>,\n",
       "  <matplotlib.axis.YTick at 0x117868cf8>,\n",
       "  <matplotlib.axis.YTick at 0x117608588>,\n",
       "  <matplotlib.axis.YTick at 0x10f4289b0>,\n",
       "  <matplotlib.axis.YTick at 0x10f428be0>,\n",
       "  <matplotlib.axis.YTick at 0x117a10a20>,\n",
       "  <matplotlib.axis.YTick at 0x10f431128>,\n",
       "  <matplotlib.axis.YTick at 0x10f431208>,\n",
       "  <matplotlib.axis.YTick at 0x11780ac50>,\n",
       "  <matplotlib.axis.YTick at 0x117d58470>,\n",
       "  <matplotlib.axis.YTick at 0x117d589e8>,\n",
       "  <matplotlib.axis.YTick at 0x117847ac8>],\n",
       " <a list of 53 Text yticklabel objects>)"
      ]
     },
     "execution_count": 173,
     "metadata": {},
     "output_type": "execute_result"
    },
    {
     "data": {
      "image/png": "iVBORw0KGgoAAAANSUhEUgAAAuMAAAR4CAYAAACsDNgeAAAABHNCSVQICAgIfAhkiAAAAAlwSFlz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\nnIybmZmZmRXEybiZmZmZWUH+P9d5CUXm8fa7AAAAAElFTkSuQmCC\n",
      "text/plain": [
       "<matplotlib.figure.Figure at 0x11609c6a0>"
      ]
     },
     "metadata": {},
     "output_type": "display_data"
    }
   ],
   "source": [
    "cat_tree = concatenate(rf.feature_importances_, X_train.columns)\n",
    "cat_tree_sorted = cat_tree[cat_tree[:,0].argsort()]\n",
    "plt.figure(figsize=(10,20))\n",
    "feat_importance = cat_tree_sorted[:,0].astype(float)\n",
    "feat_names = list(cat_tree_sorted[:,1])\n",
    "plt.barh(range(X_train.shape[1]), feat_importance)\n",
    "plt.yticks(range(X_train.shape[1]), feat_names)"
   ]
  },
  {
   "cell_type": "code",
   "execution_count": 174,
   "metadata": {
    "collapsed": false
   },
   "outputs": [
    {
     "name": "stdout",
     "output_type": "stream",
     "text": [
      "tree's top 20 features:\n"
     ]
    },
    {
     "data": {
      "text/plain": [
       "[[0.12529512633650844, 'euribor3m'],\n",
       " [0.11331287480764442, 'nr_employed'],\n",
       " [0.10397952480861586, 'emp_var_rate'],\n",
       " [0.10045455469918538, 'cons_conf_idx'],\n",
       " [0.08455828595338336, 'cons_price_idx'],\n",
       " [0.07208597200186967, 'age'],\n",
       " [0.033883551981358784, 'campaign'],\n",
       " [0.030383689944986535, 'prev_days'],\n",
       " [0.025164838181236857, 'prev_outcomes_success'],\n",
       " [0.01529624213952941, 'housing'],\n",
       " [0.012767252003804231, 'prev_contacts'],\n",
       " [0.01180515605106309, 'education_university.degree'],\n",
       " [0.011358724069706396, 'day_of_week_mon'],\n",
       " [0.011239160495202412, 'job_admin.'],\n",
       " [0.01090637215000978, 'day_of_week_thu'],\n",
       " [0.0108111021480279, 'day_of_week_tue'],\n",
       " [0.010416170684487294, 'loan'],\n",
       " [0.010344188031713188, 'contact'],\n",
       " [0.010340826454676237, 'day_of_week_fri'],\n",
       " [0.010249918526924737, 'marital_status_married']]"
      ]
     },
     "execution_count": 174,
     "metadata": {},
     "output_type": "execute_result"
    }
   ],
   "source": [
    "topKfeatures(cat_tree, \"tree\", 20)"
   ]
  },
  {
   "cell_type": "code",
   "execution_count": 175,
   "metadata": {
    "collapsed": false
   },
   "outputs": [
    {
     "name": "stdout",
     "output_type": "stream",
     "text": [
      " looks like these 'euribor3m', 'nr_employed','cons_conf_idx','emp_var_rate' these social context variables are very good for tree to split \n"
     ]
    }
   ],
   "source": [
    "print (\" looks like these 'euribor3m', 'nr_employed','cons_conf_idx','emp_var_rate' these social context variables are very good for tree to split \")"
   ]
  },
  {
   "cell_type": "code",
   "execution_count": 176,
   "metadata": {
    "collapsed": false
   },
   "outputs": [
    {
     "name": "stdout",
     "output_type": "stream",
     "text": [
      "mean of nr_employed 5167.489014783632\n",
      "std of nr_employed 72.42627559831878\n"
     ]
    }
   ],
   "source": [
    "print (\"mean of nr_employed {}\".format(X_train['nr_employed'].mean()))\n",
    "print (\"std of nr_employed {}\".format(X_train['nr_employed'].std()))"
   ]
  },
  {
   "cell_type": "code",
   "execution_count": 177,
   "metadata": {
    "collapsed": false,
    "scrolled": true
   },
   "outputs": [
    {
     "name": "stdout",
     "output_type": "stream",
     "text": [
      "{'randomforestclassifier__n_estimators': 100}\n",
      "0.766107181497\n"
     ]
    }
   ],
   "source": [
    "from sklearn.model_selection import GridSearchCV\n",
    "from sklearn.pipeline import make_pipeline\n",
    "from sklearn.preprocessing import StandardScaler\n",
    "from sklearn.ensemble import RandomForestClassifier\n",
    "from sklearn.feature_selection import VarianceThreshold\n",
    "\n",
    "# rf_pipe = make_pipeline(VarianceThreshold(), RandomForestClassifier())\n",
    "# param_grid={\"randomforestclassifier__n_estimators\":[50, 80, 100, 150, 200]}\n",
    "# grid = GridSearchCV(rf_pipe, param_grid, cv=10, scoring='roc_auc')\n",
    "# grid.fit(X_train, y_train)\n",
    "# print(grid.best_params_)\n",
    "# print(grid.score(X_test, y_test))"
   ]
  },
  {
   "cell_type": "code",
   "execution_count": 285,
   "metadata": {
    "collapsed": false
   },
   "outputs": [
    {
     "name": "stdout",
     "output_type": "stream",
     "text": [
      " {'randomforestclassifier__n_estimators': 100} 0.766107181497\n"
     ]
    }
   ],
   "source": [
    "print (\" {'randomforestclassifier__n_estimators': 100} 0.766107181497\")"
   ]
  },
  {
   "cell_type": "code",
   "execution_count": 178,
   "metadata": {
    "collapsed": false
   },
   "outputs": [
    {
     "name": "stdout",
     "output_type": "stream",
     "text": [
      "for Random Forest, the best score is 0.7820565323244955 and best param is 100\n"
     ]
    }
   ],
   "source": [
    "# print(\"for Random Forest, the best score is {} and best param is {}\".format(grid.best_score_, grid.best_params_['randomforestclassifier__n_estimators']))"
   ]
  },
  {
   "cell_type": "code",
   "execution_count": 181,
   "metadata": {
    "collapsed": true
   },
   "outputs": [],
   "source": [
    "rf_100_scores = cross_val_score(RandomForestClassifier(n_estimators=100), X_trainval, y_trainval, cv=10, scoring='roc_auc' )"
   ]
  },
  {
   "cell_type": "code",
   "execution_count": 191,
   "metadata": {
    "collapsed": false
   },
   "outputs": [
    {
     "name": "stdout",
     "output_type": "stream",
     "text": [
      "the averaged cv auc score on random forests with 100 trees is 0.7806942880410351\n"
     ]
    }
   ],
   "source": [
    "print (\"the averaged cv auc score on random forests with 100 trees is {}\".format(np.mean(rf_100_scores)))"
   ]
  },
  {
   "cell_type": "code",
   "execution_count": 192,
   "metadata": {
    "collapsed": false
   },
   "outputs": [
    {
     "data": {
      "text/plain": [
       "0.77973048407812007"
      ]
     },
     "execution_count": 192,
     "metadata": {},
     "output_type": "execute_result"
    }
   ],
   "source": [
    "# Gradient Boosting try it once \n",
    "from sklearn.ensemble import GradientBoostingClassifier\n",
    "clf = GradientBoostingClassifier(n_estimators=150, learning_rate=1.0, max_depth=1, random_state=0).fit(X_train, y_train)\n",
    "y_predicted = clf.predict(X_test)\n",
    "from sklearn.metrics import roc_auc_score\n",
    "roc_auc_score(y_predicted, y_test)"
   ]
  },
  {
   "cell_type": "code",
   "execution_count": 193,
   "metadata": {
    "collapsed": false
   },
   "outputs": [
    {
     "name": "stdout",
     "output_type": "stream",
     "text": [
      "[ 0.76495143  0.80718678  0.8021606   0.76350935  0.79288129] 0.786137890275\n"
     ]
    }
   ],
   "source": [
    "from sklearn.model_selection import cross_val_score\n",
    "\n",
    "cvs = cross_val_score(GradientBoostingClassifier(n_estimators=150, learning_rate=0.05, max_depth=1, random_state=0), X_train, y_train, cv=5, scoring='roc_auc')\n",
    "print (cvs, np.mean(cvs))"
   ]
  },
  {
   "cell_type": "code",
   "execution_count": 314,
   "metadata": {
    "collapsed": false
   },
   "outputs": [
    {
     "name": "stdout",
     "output_type": "stream",
     "text": [
      "the model is stable given the std is not very high \n"
     ]
    }
   ],
   "source": [
    "print (\"the model is stable given the std is not very high \")"
   ]
  },
  {
   "cell_type": "code",
   "execution_count": 194,
   "metadata": {
    "collapsed": false
   },
   "outputs": [],
   "source": [
    "# np.all(np.isfinite(X_train)) # should be true\n",
    "# np.any(np.isnan(X_train)) # should be false"
   ]
  },
  {
   "cell_type": "code",
   "execution_count": 196,
   "metadata": {
    "collapsed": false,
    "scrolled": true
   },
   "outputs": [
    {
     "name": "stdout",
     "output_type": "stream",
     "text": [
      "{'gradientboostingclassifier__learning_rate': 0.05}\n",
      "0.796388566243\n",
      "0.785159608038\n"
     ]
    }
   ],
   "source": [
    "# gradient boosting gridsearchCV + polynomial features\n",
    "from sklearn.pipeline import make_pipeline\n",
    "from sklearn.feature_selection import VarianceThreshold\n",
    "from sklearn.ensemble import GradientBoostingClassifier\n",
    "from sklearn.model_selection import GridSearchCV\n",
    "from sklearn.feature_selection import SelectPercentile\n",
    "\n",
    "# gb_pipe = make_pipeline(SelectPercentile(mutual_info_classif, percentile=50), PolynomialFeatures(interaction_only=True), VarianceThreshold(), GradientBoostingClassifier(n_estimators=150, random_state=0))\n",
    "# param_grid={\"gradientboostingclassifier__learning_rate\":[0.03, 0.05, 0.1, 0.5, 1 ]}\n",
    "# grid = GridSearchCV(gb_pipe, param_grid, cv=5, scoring='roc_auc')\n",
    "# grid.fit(X_train, y_train)\n",
    "# print(grid.best_params_)\n",
    "# print (grid.best_score_)\n",
    "# print(grid.score(X_test, y_test))"
   ]
  },
  {
   "cell_type": "code",
   "execution_count": 286,
   "metadata": {
    "collapsed": false
   },
   "outputs": [
    {
     "name": "stdout",
     "output_type": "stream",
     "text": [
      " {'gradientboostingclassifier__learning_rate': 0.05} 0.796388566243 0.785159608038\n"
     ]
    }
   ],
   "source": [
    "print (\" {'gradientboostingclassifier__learning_rate': 0.05} 0.796388566243 0.785159608038\")"
   ]
  },
  {
   "cell_type": "code",
   "execution_count": 197,
   "metadata": {
    "collapsed": false
   },
   "outputs": [
    {
     "name": "stdout",
     "output_type": "stream",
     "text": [
      "0.796171326234\n",
      "{'gradientboostingclassifier__learning_rate': 0.03}\n"
     ]
    }
   ],
   "source": [
    "# gradient boosting Gridsearch\n",
    "from sklearn.pipeline import make_pipeline\n",
    "from sklearn.feature_selection import VarianceThreshold\n",
    "from sklearn.ensemble import GradientBoostingClassifier\n",
    "from sklearn.model_selection import GridSearchCV\n",
    "from sklearn.feature_selection import SelectPercentile\n",
    "\n",
    "# gb_pipe = make_pipeline(VarianceThreshold(), GradientBoostingClassifier(n_estimators=150, random_state=0))\n",
    "\n",
    "# param_grid={\"gradientboostingclassifier__learning_rate\":[0.03, 0.05, 0.1, 0.5, 1 ]}\n",
    "# grid = GridSearchCV(gb_pipe, param_grid, cv=10, scoring='roc_auc')\n",
    "# grid.fit(X_train, y_train)\n",
    "# print(grid.best_score_)\n",
    "# print(grid.best_params_)\n"
   ]
  },
  {
   "cell_type": "code",
   "execution_count": 287,
   "metadata": {
    "collapsed": false
   },
   "outputs": [
    {
     "name": "stdout",
     "output_type": "stream",
     "text": [
      " 0.796171326234 {'gradientboostingclassifier__learning_rate': 0.03}\n"
     ]
    }
   ],
   "source": [
    "print (\" 0.796171326234 {'gradientboostingclassifier__learning_rate': 0.03}\")"
   ]
  },
  {
   "cell_type": "code",
   "execution_count": 198,
   "metadata": {
    "collapsed": false
   },
   "outputs": [
    {
     "name": "stdout",
     "output_type": "stream",
     "text": [
      "0.785917574549\n"
     ]
    }
   ],
   "source": [
    "# print (grid.best_scores_)\n",
    "# print(grid.score(X_test, y_test))"
   ]
  },
  {
   "cell_type": "code",
   "execution_count": 199,
   "metadata": {
    "collapsed": false
   },
   "outputs": [
    {
     "name": "stdout",
     "output_type": "stream",
     "text": [
      "0.796171326234\n"
     ]
    }
   ],
   "source": [
    " print (grid.best_score_)"
   ]
  },
  {
   "cell_type": "code",
   "execution_count": 200,
   "metadata": {
    "collapsed": false
   },
   "outputs": [
    {
     "name": "stdout",
     "output_type": "stream",
     "text": [
      "             precision    recall  f1-score   support\n",
      "\n",
      "          0       0.91      0.98      0.94      7310\n",
      "          1       0.62      0.25      0.36       928\n",
      "\n",
      "avg / total       0.88      0.90      0.88      8238\n",
      "\n",
      "             precision    recall  f1-score   support\n",
      "\n",
      "          0       0.92      0.99      0.95     21928\n",
      "          1       0.77      0.30      0.43      2784\n",
      "\n",
      "avg / total       0.90      0.91      0.89     24712\n",
      "\n"
     ]
    }
   ],
   "source": [
    "model_gbt = GradientBoostingClassifier(n_estimators=150, learning_rate=0.1).fit(X_trainval, y_trainval)\n",
    "\n",
    "from sklearn.metrics import classification_report\n",
    "print(classification_report(y_val, model_gbt.predict(X_val)))\n",
    "print (classification_report(y_trainval, model_gbt.predict(X_trainval)))"
   ]
  },
  {
   "cell_type": "code",
   "execution_count": 201,
   "metadata": {
    "collapsed": false
   },
   "outputs": [],
   "source": [
    "y_test_predictions_high_precision = model_gbt.predict_proba(X_test)[:,1] > 0.8\n",
    "y_test_predictions_high_recall = model_gbt.predict_proba(X_test)[:,1] > 0.1"
   ]
  },
  {
   "cell_type": "code",
   "execution_count": 202,
   "metadata": {
    "collapsed": false
   },
   "outputs": [
    {
     "data": {
      "text/plain": [
       "array([False,  True, False, ..., False, False,  True], dtype=bool)"
      ]
     },
     "execution_count": 202,
     "metadata": {},
     "output_type": "execute_result"
    }
   ],
   "source": [
    "y_test_predictions_high_recall"
   ]
  },
  {
   "cell_type": "code",
   "execution_count": 203,
   "metadata": {
    "collapsed": false
   },
   "outputs": [
    {
     "name": "stdout",
     "output_type": "stream",
     "text": [
      "             precision    recall  f1-score   support\n",
      "\n",
      "          0       0.95      0.83      0.89      5482\n",
      "          1       0.33      0.67      0.45       696\n",
      "\n",
      "avg / total       0.88      0.81      0.84      6178\n",
      "\n"
     ]
    }
   ],
   "source": [
    "print (classification_report(y_test, y_test_predictions_high_recall))"
   ]
  },
  {
   "cell_type": "code",
   "execution_count": 204,
   "metadata": {
    "collapsed": false
   },
   "outputs": [
    {
     "data": {
      "text/plain": [
       "<matplotlib.text.Text at 0x119a10518>"
      ]
     },
     "execution_count": 204,
     "metadata": {},
     "output_type": "execute_result"
    },
    {
     "data": {
      "image/png": "iVBORw0KGgoAAAANSUhEUgAAAYgAAAEPCAYAAABY9lNGAAAABHNCSVQICAgIfAhkiAAAAAlwSFlz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\n/j+YvhH3RTqfnwAAAABJRU5ErkJggg==\n",
      "text/plain": [
       "<matplotlib.figure.Figure at 0x117878940>"
      ]
     },
     "metadata": {},
     "output_type": "display_data"
    }
   ],
   "source": [
    "from sklearn.metrics import roc_curve\n",
    "fpr, tpr, _ = roc_curve(y_test, model_gbt.predict_proba(X_test)[:, 1]>0.075)\n",
    "fpr_full, tpr_full, _ = roc_curve(y_test, model_gbt.predict_proba(X_test)[:, 1])\n",
    "\n",
    "plt.plot(fpr, tpr, label=\"gbt increase recall\")\n",
    "plt.plot(fpr_full, tpr_full, label=\"gbt original\")\n",
    "\n",
    "plt.legend()\n",
    "plt.xlabel(\"FPR\")\n",
    "plt.ylabel(\"TPR\")"
   ]
  },
  {
   "cell_type": "code",
   "execution_count": 205,
   "metadata": {
    "collapsed": false
   },
   "outputs": [
    {
     "data": {
      "text/plain": [
       "0.75074538615405917"
      ]
     },
     "execution_count": 205,
     "metadata": {},
     "output_type": "execute_result"
    }
   ],
   "source": [
    "roc_auc_score(y_test, model_gbt.predict_proba(X_test)[:,1]>0.1)"
   ]
  },
  {
   "cell_type": "code",
   "execution_count": 206,
   "metadata": {
    "collapsed": false
   },
   "outputs": [
    {
     "data": {
      "text/plain": [
       "array([ 0.02977883,  0.54681469,  0.03878031, ...,  0.04866025,\n",
       "        0.03897547,  0.11011587])"
      ]
     },
     "execution_count": 206,
     "metadata": {},
     "output_type": "execute_result"
    }
   ],
   "source": [
    "model_gbt.predict_proba(X_test)[:,1]"
   ]
  },
  {
   "cell_type": "code",
   "execution_count": 207,
   "metadata": {
    "collapsed": true
   },
   "outputs": [],
   "source": [
    "holdout.to_csv(\"./holdout_processed.csv\")"
   ]
  },
  {
   "cell_type": "code",
   "execution_count": 208,
   "metadata": {
    "collapsed": false
   },
   "outputs": [],
   "source": [
    "# holdout_scaled = sc.transform(holdout)\n",
    "predicted_gb = model_gbt.predict_proba(holdout)[:,1] > 0.1\n",
    "final = concatenate(df_holdout.ID, predicted_gb)\n",
    "pd_final = pd.DataFrame(final)\n",
    "pd_final.columns = ['ID', 'subscribed']\n",
    "pd_final.head()\n",
    "pd_final.to_csv(\"./submission.csv\")"
   ]
  },
  {
   "cell_type": "code",
   "execution_count": 209,
   "metadata": {
    "collapsed": false
   },
   "outputs": [
    {
     "name": "stdout",
     "output_type": "stream",
     "text": [
      "the best model in modelset2 is gradient boosting with 150 trees and learning rate of 0.1, it achieves 0.804 ROC\n"
     ]
    }
   ],
   "source": [
    "print (\"the best model in modelset2 is gradient boosting with 150 trees and learning rate of 0.1, it achieves 0.804 ROC\") "
   ]
  },
  {
   "cell_type": "markdown",
   "metadata": {},
   "source": [
    "# Step4 - Ensemble [20 points + 10 Bonus points]\n",
    "\n",
    "In this step, we expect you to use the models created before and create new predictions. You should definitely try poor man's stacking but we encourage you to think of different ensemble techniques as well. We will judge your creativity and improvement in model performance using ensemble models and you can potentially earn 10 bonus points here."
   ]
  },
  {
   "cell_type": "code",
   "execution_count": 210,
   "metadata": {
    "collapsed": false
   },
   "outputs": [
    {
     "data": {
      "text/plain": [
       "0.7795386783076903"
      ]
     },
     "execution_count": 210,
     "metadata": {},
     "output_type": "execute_result"
    }
   ],
   "source": [
    "lg = LogisticRegression(C=0.1)\n",
    "pipe = make_pipeline(VarianceThreshold(), SelectPercentile(f_classif, percentile=50), StandardScaler(), lg)\n",
    "pipe.fit(X_train, y_train)\n",
    "roc_auc_score( y_test, pipe.predict_proba(X_test)[:,1])"
   ]
  },
  {
   "cell_type": "code",
   "execution_count": 211,
   "metadata": {
    "collapsed": false
   },
   "outputs": [
    {
     "data": {
      "text/plain": [
       "0.78439181312298967"
      ]
     },
     "execution_count": 211,
     "metadata": {},
     "output_type": "execute_result"
    }
   ],
   "source": [
    "gb = GradientBoostingClassifier(n_estimators=150, learning_rate=0.1, random_state=256)\n",
    "gb.fit(X_train,y_train)\n",
    "roc_auc_score( y_test, gb.predict_proba(X_test)[:,1])"
   ]
  },
  {
   "cell_type": "markdown",
   "metadata": {},
   "source": [
    "### strategy: try poor man's stacking (and two stage stacking) and then add calibration to the stacking (cause soft voting works well when the estimators are well calibrated ), the resulting voting classifer has ~0.2 boost in performance (highest auc score for stacking with calibrated estimators  is 0.803)"
   ]
  },
  {
   "cell_type": "code",
   "execution_count": 212,
   "metadata": {
    "collapsed": false
   },
   "outputs": [
    {
     "name": "stdout",
     "output_type": "stream",
     "text": [
      "0.782168759199\n",
      "actually when using voting classifier is it always a .x% higher when I dont do polynomial transformation \n"
     ]
    }
   ],
   "source": [
    "# poor man's stacking\n",
    "#Else if ‘soft’, predicts the class label based on the argmax of the sums of the predicted probabilities, \\\n",
    "# which is recommended for an ensemble of well-calibrated classifiers.\n",
    "\n",
    "from sklearn.preprocessing import StandardScaler\n",
    "from sklearn.ensemble import GradientBoostingClassifier\n",
    "from sklearn.linear_model import LogisticRegression\n",
    "from sklearn.ensemble import RandomForestClassifier\n",
    "from sklearn.neighbors import KNeighborsClassifier\n",
    "from sklearn.ensemble import VotingClassifier\n",
    "from sklearn.metrics import roc_auc_score\n",
    "from sklearn.feature_selection import SelectPercentile\n",
    "from sklearn.pipeline import make_pipeline\n",
    "from sklearn.feature_selection import mutual_info_classif\n",
    "from sklearn.preprocessing import PolynomialFeatures\n",
    "\n",
    "voting = VotingClassifier([\n",
    "                            ('logreg', LogisticRegression(C=0.1)),\n",
    "                            ('rf', RandomForestClassifier(n_estimators=150)),\n",
    "                            ('gbtree', GradientBoostingClassifier(n_estimators=150, learning_rate=0.1, random_state=256))\n",
    "                          ],\n",
    "                         voting='soft')\n",
    "\n",
    "pipe = make_pipeline(SelectPercentile(mutual_info_classif, percentile=50), PolynomialFeatures(interaction_only=True), StandardScaler(), voting)\n",
    "\n",
    "pipe.fit( X_train, y_train)\n",
    "\n",
    "lr, rf, gbtree = voting.estimators_\n",
    "\n",
    "print (roc_auc_score(y_test, pipe.predict_proba(X_test)[:,1]))\n",
    "print (\"actually when using voting classifier is it always a .x% higher when I dont do polynomial transformation \")"
   ]
  },
  {
   "cell_type": "code",
   "execution_count": 213,
   "metadata": {
    "collapsed": false
   },
   "outputs": [
    {
     "name": "stdout",
     "output_type": "stream",
     "text": [
      "0.782 0.779 0.770 0.786 \n"
     ]
    }
   ],
   "source": [
    "# no poly only scaling \n",
    "\n",
    "voting = VotingClassifier([\n",
    "                            ('logreg', LogisticRegression(C=1)),\n",
    "                            ('rf', RandomForestClassifier(n_estimators=150)),\n",
    "                            ('gbtree', GradientBoostingClassifier(n_estimators=150, learning_rate=0.1, random_state=256))\n",
    "                          ],\n",
    "                         voting='soft')\n",
    "\n",
    "sc = StandardScaler()\n",
    "X_train_scaled = sc.fit_transform(X_train)\n",
    "X_test_scaled = sc.transform(X_test)\n",
    "\n",
    "voting.fit(X_train_scaled, y_train)\n",
    "\n",
    "lr, rf, gbtree = voting.estimators_\n",
    "print ((\"{:.3f} \" * 4).format(roc_auc_score(y_test, voting.predict_proba(X_test_scaled)[:,1]), roc_auc_score(y_test, lr.predict_proba(X_test_scaled)[:,1]), roc_auc_score(y_test, rf.predict_proba(X_test_scaled)[:,1]), roc_auc_score(y_test, gbtree.predict_proba(X_test_scaled\n",
    ")[:,1])))"
   ]
  },
  {
   "cell_type": "code",
   "execution_count": 214,
   "metadata": {
    "collapsed": false
   },
   "outputs": [
    {
     "name": "stdout",
     "output_type": "stream",
     "text": [
      "0.980 0.798 1.000 0.824 \n"
     ]
    }
   ],
   "source": [
    "\n",
    "print ((\"{:.3f} \" * 4).format(roc_auc_score(y_train, voting.predict_proba(X_train_scaled)[:,1]), roc_auc_score(y_train, lr.predict_proba(X_train_scaled)[:,1]), roc_auc_score(y_train, rf.predict_proba(X_train_scaled)[:,1]), roc_auc_score(y_train, gbtree.predict_proba(X_train_scaled\n",
    ")[:,1])))\n",
    "\n"
   ]
  },
  {
   "cell_type": "code",
   "execution_count": 215,
   "metadata": {
    "collapsed": false
   },
   "outputs": [],
   "source": [
    "# better stacking with two stage\n",
    "from sklearn.model_selection import cross_val_predict\n",
    "from sklearn.preprocessing import FunctionTransformer\n",
    "#  We then keep only the probabilities of the positive classes!\n",
    "reshaper = FunctionTransformer(lambda X_: np.rollaxis(X_, 1).reshape(-1, 6)[:, 1::2], validate=False)\n",
    "first_stage = make_pipeline(voting, reshaper)\n",
    "transform_cv = cross_val_predict(first_stage, X_train_scaled, y_train, cv=5, method=\"transform\")"
   ]
  },
  {
   "cell_type": "code",
   "execution_count": 297,
   "metadata": {
    "collapsed": false
   },
   "outputs": [
    {
     "name": "stdout",
     "output_type": "stream",
     "text": [
      "0.743231680554\n",
      "0.735310598531\n"
     ]
    }
   ],
   "source": [
    "# scaling is important here! otherwise the score is only 0.6x\n",
    "scaler_lr = StandardScaler()\n",
    "X_test_scaled = scaler_lr.fit(X_train).transform(X_test)\n",
    "transform_cv_sc = scaler_lr.fit_transform(transform_cv)\n",
    "predict_cv = first_stage.transform(X_test_scaled)\n",
    "predict_cv_sc = scaler_lr.transform(predict_cv)\n",
    "second_stage = LogisticRegression(C=0.1).fit(transform_cv, y_train)\n",
    "print(roc_auc_score(y_train, second_stage.predict(transform_cv_sc)))\n",
    "print(roc_auc_score(y_test, second_stage.predict(predict_cv_sc)))"
   ]
  },
  {
   "cell_type": "code",
   "execution_count": 217,
   "metadata": {
    "collapsed": false
   },
   "outputs": [
    {
     "name": "stdout",
     "output_type": "stream",
     "text": [
      "[ 0.04428904  0.05927342  0.08490566  0.1920904   0.30379747  0.30714286\n",
      "  0.40952381  0.26470588  0.36734694  0.39344262  0.41666667  0.66666667\n",
      "  0.75757576  0.61111111  0.8         0.73333333  0.8         0.75      ]\n",
      "[ 0.03501433  0.06816367  0.12126933  0.17373046  0.2244395   0.27523442\n",
      "  0.32376291  0.37525537  0.42284314  0.47248636  0.52287919  0.57149167\n",
      "  0.6281809   0.67436655  0.72140168  0.77551533  0.81889252  0.87182645]\n"
     ]
    }
   ],
   "source": [
    "# let's calibrate the model first \n",
    "from sklearn.calibration import calibration_curve\n",
    "probs = lr.predict_proba(X_test_scaled)[:, 1]\n",
    "prob_true, prob_pred = calibration_curve(y_test, probs, n_bins=20)\n",
    "print(prob_true)\n",
    "print(prob_pred)"
   ]
  },
  {
   "cell_type": "code",
   "execution_count": 218,
   "metadata": {
    "collapsed": false,
    "scrolled": true
   },
   "outputs": [
    {
     "name": "stdout",
     "output_type": "stream",
     "text": [
      "logistic regression is indeed vell calibrated\n"
     ]
    },
    {
     "data": {
      "image/png": "iVBORw0KGgoAAAANSUhEUgAAARgAAAEZCAYAAABM0jopAAAABHNCSVQICAgIfAhkiAAAAAlwSFlz\nAAALEgAACxIB0t1+/AAAIABJREFUeJzt3Xl4FeX5//H3HfY9gFRZo1AWQZGIoFiFuBbUVi1iWUQQ\nERWwtu5oFVC/YhdrUbQVF1B+KIJiUURRlrAIQghhC6uCEEAUlSXsJOf+/TGTcBKyTJbJnCT367rO\nxZk5kzmfE5I7z/PMzDOiqhhjjB+igg5gjCm7rMAYY3xjBcYY4xsrMMYY31iBMcb4xgqMMcY3VmCM\nMb6xAmM8E5FuIpKSx+v/EZEnSjKTiWwVgw5gSp1cz8xU1XtLKoSIxADbgEOAuLn+pqr/V1IZTP6s\nwJjSTIE6aqejRyzrIpVjIrJNRB4UkdUisk9E3hORyvl/mYwQkb0islVE+oa9MEFEnnafdxORFBF5\nQER+EJFdIjIwbNvrRCRZRA5mbFeYj4D9DEc0+88xvYBrgXOAC4CB+Wx/FlAPaORuO15EWuaxbS13\n28HAKyJSx33tDeAuVa0NnAfMAxCRpm6x+8X9N/z5LyLSO2z/CnwnIjtE5C0RqV+wj278ZgXGjFXV\nH1R1P/AJ0CGf7RV4UlVPqupC4FPg1ly2PQE8o6rpqvoZznhJ67DX2olILVU9oKqrAFQ1RVXrqmo9\n99/w5/VUdYr79T8BnYAYoCNOIZtcuG+B8YsVGPND2PMjQM18tt+nqsfClrfjtFBy8rOqhnLZf0/g\nemC7iMwXkUsKkBlVPayqK1U1pKp7geHAtSJSoyD7Mf6yAmMKqq6IVAtbbgbsLuhOVDVRVW8CGgAz\ngKmQ2UVKdcdmwh8Z6/rktVvsZzqi2H+GKSgBRotIJRG5HKcVMrVAO3C+tq+I1FbVdCAVSIfMLlIt\nVa2d7ZGx7j13H51FpJU46gNjgfmqmlqsn9YUia8FRkTedI8grMljm5dEZIuIrBKR/Pr/pngV5vDu\n98A+nFbLJOBuVd1SiPfrD2wTkf3AEKBvzl+Sq+bA58BBYA1wrBD7MD4TP08hEJHLcAb23lHV9jm8\n3gMYrqrXi8jFOAOOBeqLG2Mil68tGFVdjPPXLjc3Au+42y4D6ojImX5mMsaUnKDHYBoD4de27HLX\nmYC4J9HlNMj6adDZTOljlwqYLFR1DDAm6BymbAi6wOwCmoYtN3HXnUZE7HoTYwKiqlKYryuJLpK4\nj5x8DNwO4J5otV9Vf8hlW1S1VD1GjhwZeIaynNcy+/dYsmQJo0aNQrVof9d9bcGIyLtAHFBfRHYA\nI4HKgKrqeFWd5V709g1wGLjDzzzGGG/atGlTLPvxtcCoar7nJajqcD8zGGO8U1VEhLp169KlS5ci\n7y/oo0hlWlxcXNARCqS05QXLXJy2bt3KNddcU+RuUThfT7QrTiKipSWrMaWRqrJt2zaaN2+eZb2I\noIUc5LUCY0w5l5qaSq1atXJ9vSgFxrpIxpRjR44coUuXLqSm+nONqLVgjCnnjhw5QvXq1XN93Vow\nxpgC2bhxY+Zgbl7FpaiswBhTzqgqjzzyCJs3b/b9vayLZEw5lHG+ixfWRTLG5Ourr77ihx+cK3G8\nFpeiCvpiR2NMCVmyZAkAZ55ZclMuWRfJGJMn6yIZY3IUHx/PrFmzAnt/6yIZU4ZVq1Yt/418ZF0k\nY0yerItkjMm0fPlyHn300aBjANaCMabMSU1NZcOGDXTu3LlY9mdXUxtjCIVCREUVf6fEukjGlHMp\nKSl07dqVUCgUdJQsrAVjTBmRkpJC06ZN89+wgKyLZEw5tX//fqKjo319D+siGVMOHT9+nMsvv5z9\n+/cHHSVX1oIxphQ7fvw4VapU8fU9rAVjTDmybt060tPTAXwvLkVlBcaYUubZZ59lw4YNQcfwxLpI\nxpg8WRfJmDJu0aJF7NixI+gYBWZXUxtTCqxbtw6AZs2aBZykYKyLZIzJk3WRjCmD4uPjmTp1atAx\nisS6SMZEqPr16wcdocisi2SMyZN1kYwpIxITExk+fHjQMYqNtWCMiSDHjh0jOTmZjh07Bh0lk11N\nbUwpl5aWRsWKkTkkal0kY0qxPXv20KVLF9LS0oKOUuysBWNMBNizZw9nnXVW0DFyFNEtGBHpLiIb\nRWSziJw21bmI1BaRj0VklYisFZGBfmcyJhLs3bs383mkFpei8rXAiEgUMA74LdAO6CMibbJtNgxI\nVtUOwBXACyISmZ1RY4rJyZMnufbaa7MUmbLI71/kzsAWVd0OICJTgBuBjWHbKFDLfV4L+FlVy15n\n1JgwlSpVYvny5VSqVIlQKERSUhIAsbGxvtwZICh+f5LGQErY8k53XbhxQFsR2Q2sBu73OZMxgVm1\nahUnTpwAnCKTtDqJjjd3pOuLXen6Ylc63tyRpNVJAacsPvm2YETkN8AqVT0sIrcBFwJjM1olxeC3\nQJKqXikiLYAvRaS9qh7KvuGoUaMyn8fFxREXF1dMEYwpGePGjWP48OF06NCBUCjEoKcGsarDqsw/\n9atCqxj01CASP0oMrCUTHx9PfHx8sewr36NIIrIGuABoD0wE3gBuVdVu+e5c5BJglKp2d5cfA1RV\n/xa2zUxgjKp+5S7PBR5V1RXZ9mVHkUyZkpiYSNcXu3Kk5ZEs66tvqc7CvyyMmJPt/D6KlOb+Zt8I\njFPVVzg1ZpKfBODXIhIjIpWB3sDH2bbZDlwNICJnAq2ArR73b0zEW7BgAZs3b87xtZBG1o3SipuX\nApMqIiOA/sCn7pGhSl52rqrpwHDgCyAZmKKqG0TkbhEZ4m72LHCp21L6EnhEVX8p6AcxJlJ99913\nfP/991nWfb3za0YkjyC0LQThNSYErVJbERsbW7IhfeKli3QW0BdIUNVFItIMiFPVd0oiYFgO6yKZ\nUm/5ruWMjB/J+r3r+evlf+WCqAu4e9TdbK7ltHBaHmzJhGcmEHtB5BQY369FEpEYoKWqzhGR6kAF\nVU0tzBsWlhUYU5osWLCAbdu2MXDgQABW7F7ByPiRrP1hLY9f/jiDYgdRuUJlgIg/TO1rgRGRu4Ah\nQD1VbSEiLYH/qupVhXnDwrICY0qTLVu2sHv3bmq2rMmoBaNYtWcVIy4bwZ2xd1KlYmTfyyi7ohQY\nLyfaDcM5YW4ZgKpuEZFfFebNjCkvDtU8xL++/xcrElcw4rIRTOs1jaoVqwYdq8R5KTDHVfWEiFPA\n3NP4rSlhTDarV69m5Ksjiboyiq93fs1jlz3G+7e8Xy4LSwYvBWaBiDwOVBORa4ChwCf+xjKmdFn7\nw1pGbxjNV+d8xePNHmfyHyZTrVK1oGMFzssYTBRwJ3AtIMBs4I2SHhCxMRgTiZJ/TGbk/JEsTlnM\nw5c+zL2d7qV6pepBxypWNqOdMSVsw94NPL3waeZ+O5dKCZVInphMdI3ooGP5wpdBXhFZSx5jLara\nvjBvaExptumnTTy98GnmbJ3DA5c8wOu/e51jB4+V2eJSVLm2YNxzX3JVjBc7eiIiunr16uLcH61a\ntaJKldJ1yND4K7dzUrb8vIWnFz7N7G9m8+dL/kyvZr1oGdMyyKglxpcWTHgBcc/m7YzToklQ1T2F\nebOieuONb6lVq3hm/jpyZBd33VWBtm3bFsv+TOmXtDqJQU8NyjyrtlVqK0Y9NIrpP09n1pZZ3H/x\n/bxy3SvUqFiDLl26MGPGDBo2bBhw6sjmZbqGwcBTwDycQd6XReRpVX3L73DZ1arVmJiYzsWyrx07\nFhfLfkzZkNvUCT0f6clfn/sr39z3DXWq1sncfunSpVSoUCGgtKWHl8PUDwOxqvozgIjUB5YAJV5g\njPFLUlKS03IJP0s/Ciq3qMzvav+OOlXrkJiYSNu2balWrZoVF4+8XPTwMxB+3VGqu86YMk84NfQw\nceJE1q9fH2Ca0sdLC+YbYJmIzMAZg7kRWCMiDwCo6r98zGdMiYiNjaXFwRasDa099Wc329QJL7/8\ncnABSykvBeZb95Fhhvuv10mnjIl4IkKDyxtQf1Z9jjY+CjhTJ9x7072sW7eO9u3trIzCyLfAqOro\nkghiTJDGLhvLweiDpMxOYf1apxsUGxvL9OnT+eUXm/+ssLwcRboIeAKICd/eTrQzZcWSlCWMWTyG\nZYOXUa1ytSxz4d5yyy0BJiv9vHSRJuMcSVpL1sn9jCn19h7eS+8PevPW79/i7OizAVi0aBFr1qxh\n2LBhwYYrA7wUmL2qmn2ibmNKvfRQOv2m96N/+/5c3+r6zPVnn312cKHKGC8FZqSIvAHMBY5nrFTV\n6b6lMqYEPLPwGdJCaYy+IuswY9OmTWnatGlAqcoWL+fB3AF0ALoDv3MfN/gZyhi/zf5mNm+sfIN3\ne75LxaiKJCcn88c//jHoWGWOlxZMJ1Vt7XsSY0pIyoEUBvxvAFN7TeWsms61bW3atOGpp54KOFnZ\n46UFs0RE7IpAUyacSD9Br2m9eLDLg3SN6cqxY8cAqFChAu3atQs4XdnjpcBcAqwSkU0iskZE1ro3\nSTOm1Hn4i4c5q+ZZPHTpQ+zfv59OnTplFhlT/Lx0kbr7nsKYEjA1eSozt8wkcUgiIkJ0dDSLFi2i\natXyOym33/JtwajqdndumKM41yJlPIwpNTb9tIlhs4Yxrdc0Dv54MHN9dLTNROenfAuMiPxeRLYA\n24AFwHfAZz7nMqbYHD5xmJ5Te/Lclc/R4cwO3HbbbezYsSPoWOWCly7SMzjjMHNUNVZErgBu8zeW\nMcVDVbn303vp2Kgjgy8cjIgQHx8fcbdnLau8fJdPupNNRYlIlKrOBy7yOZcxxeKNlW+QtCeJOxrc\nwaFDhwCsuJQgL9/p/SJSE1gITBaRscBhf2MZU3Qrv1/JE/Oe4INeHzB75mybLCoAXrpIN+IM8P4F\n6AfUAZ72M5QxRbXv6D56TevFK9e9QuszWjNmzJigI5VLntuKqpoGLMUZ5D2Y99bGBEdVGThjILHV\nY2maatcUBclLgVkIVBWRxsAXQH9gop+hjCmKfy75Jz8e/pHbG95uJ9EFzEsXSVT1iIjcCbyqqn8X\nkVV+BzOmMBZuX8gLS18g4a4Emtax1kvQvLRgRES64Iy/fOqus3s2mIiz59Aeer7Xk+tPXm/FJUJ4\nKTD3AyOAj1Q1WUSaA/O9voGIdBeRjSKyWUQezWWbOBFJEpF1IuJ538ZkSAul0efDPgw4bwCDug4K\nOo5xeZn0eyHOOEzG8lbgT152LiJRwDjgKmA3kCAiM1R1Y9g2dYBXgGtVdZeInFGwj2AMPDnvSSpF\nVeJv1/2NClHWwI4UXsZgiqIzsCXjPtciMgXnsPfGsG36Ah+q6i4AVf3J50ymjPnvvP/y73n/Zvvj\n2624RBi/T2lsDKSELe9014VrBdQTkfkikiAi/X3OZMqQbfu2MXLlSN66/i1+VfNXQccx2fjdgvGi\nInAhcCVQA1gqIktV9ZtgY5lIt++gczLdiMtG0OeSPkHHMTnwcl+kVsB/gDNV9TwRaQ/8XlWf9bD/\nXUCzsOUm7rpwO4GfVPUYcExEFgIX4NyyNouFC18nOnoWAK1axdG6dZyHCKYsSk1NpcWwFnS7rhv3\nX3x/0HHKlPj4eOLj44tlX6Ka99QuIrIA575Ir6lqrLtunaqel+/ORSoAm3AGeb8HlgN9VHVD2DZt\ngJdxJraqAiwD/qiq67PtSx9/fBkxMZ0L8PFyt2PHYvr2rUfbtjYbaGk0ec1kRs4fycp7VlK7Su2g\n45RpIoKqSmG+1ksXqbqqLhfJsv80LztX1XQRGY5zBnAU8KaqbhCRu52XdbyqbhSR2cAaIB0Yn724\nGJPh22+/5VitY/x59p+Ze/tcKy4RzkuB+UlEWuDOYicit+C0RjxR1c+B1tnWvZZt+Z/AP73u05RP\nqspdw+5ix2938M9r/kn7M+3uxZHOS4EZBowH2ojILpyZ7fr5msqYXJw5+ExaVG7BgA4Dgo5iPPBS\nYLar6tUiUgOIUtVUv0MZE27p0qW0bt2a9755j40/b2TJoCVBRzIeeSkw20Tkc+B9YJ7PeYw5zZw5\nc1h/YD2j145m6Z1LqVapWtCRjEdeTrRrA8zB6SptE5FxInKZv7GMOWXog0N5ZuMzjP/deFrUaxF0\nHFMAXm5bckRVp6rqH4BYoDbO3QWM8U18fDzz5s0jpCH6f9SfXm17cVObm4KOZQrI06UCItJNRF4F\nEoGqwK2+pjLlnogQFRXFmEVjSD2RynNXPRd0JFMIXs7k/Q5IAqYCD6uqTfhtfNetWzfmbp3LKx+9\nwoohK6hUoVLQkUwheGnBtFfVm1X1PSsuxk9Lly5l1KhRAOw6uIv+H/Vn0s2TaFSrUbDBTKHl2oIR\nkUdU9e/A/4nIadcTqKqnOWGM8apNmzYAnEw/Se8PezOs0zCuan5VwKlMUeTVRcq4XmhFSQQx5Zeq\nIiLUrVuXLl268PAXD1Orci1GXD4i6GimiHLtIqnqJ+7TI6r6dvgDOFIy8UxZt3XrVq6++moyLrr9\naMNHTFs/jUk3TyJK7A6MpZ2X/8Gc/ozYnxZTLM455xxef/11RIRvf/mWu2fezdReU6lfvX7Q0Uwx\nyGsMpgdwHdBYRF4Ke6k2Hq+mNiY3Bw8epHbt2ogIzZs35+jJo/Sc2pOR3UbSuXHxTMlhgpdXC2Y3\nzvjLMZzzXzIeHwO/9T+aKauOHj3KpZdeysGDp24Qet9n99G2QVuGdhoaYDJT3HJtwajqamC1iEx2\nbxtrTLGoVq0aCQkJVKvmXFM0IWkCS1KWsPyu5WSbd8iUcnl1kaaq6q1AUrbD1IIzWZRNxmEKZOPG\njbRq1YqoqKjM4rJ6z2oemfMICwYuoGblmgEnNMUtr8PUGROd3lASQUzZpqo89thjPP/885nnuxw4\ndoBe03oxtvtY2jawqUvLory6SBmz1v0EHFXVkDsBeBvgs5IIZ8oOEeGjjz7K7AKpKnd+fCdXN7+a\nvuf3DTid8YuXw9QLgaoi0hhnbt3+wEQ/Q5myY/HixXz/vfO3Knx8ZeyysWw/sJ0Xf/tiUNFMCfAy\n4ZSo6hERuRN4VVX/LiKr/A5myobly5cD0LBhw8x1S1KWMGbxGJYNXkaVilWCimZKgKcCIyJdcObh\nvdNdZ/fnNJ488MADWZb3Ht5L7w968+bv3+Ts6LODCWVKjJcu0p9xztz9SFWTRaQ5MN/fWKY0i4+P\n55NPPjltfXoonX7T+3Fb+9u4oZUdOygP8m3BqOoCYIGI1BSRmqq6FbArqU2uatbM+XDzMwuf4WTo\nJE9f8XQJJzJB8TLh1PnAO0A9Z1H2ArerarLf4UzpdNFFF5227vNvPuf1la+TOCSRilGRcEt0UxK8\ndJFeAx5Q1RhVbQY8CLzubyxT2ixfvpyHH344x9d2HNjBwP8N5L2e73FWzbNKOJkJkpc/JTVUNXPM\nRVXj3XskGZOpXbt2Oa4/kX6CW6fdygNdHqBrTNcSTmWC5qXAbBWRJ4FJ7vJtwFb/IpnSJBQKERUV\nRY0aNejc+fSroB/+4mHOqnkWD1+ac+vGlG1eukiDgAbAdPfRwF1nyrmUlBQuv/xyQqFQjq9PTZ7K\nzC0zmXjTRLuIsZzychRpH/AnEakDhOzWsSZD06ZNmTJlClFRzt+pUChEUlISANWbVmfYrGHMvm02\n0VWjg4xpAuTlKFIn4C2glrt8ABikqok+ZzMRat++fdStWxdwigxA0uokBj01iM21NgOQvi2dh+57\niAsbXhhYThM8L12kN4Ghqnq2qp6NcwvZCb6mMhHr+PHjdOvWjX379mWuC4VCDHpqEKs6rOJIyyMc\naXmE41cfZ+Z7M3PtPpnywUuBSVfVRRkLqroYmzKz3KpSpQoJCQmZLRiApKQkp+US/tMUBVtqbcns\nMpnyyUuBWSAir4lIXNgtZONF5EIRsfZvObFu3TrS09MBp8iEU1XSbNJDkwMvBeYCoBUwEhgFnAvE\nAi8A//QtmYkozz33HBs2bDhtfcqBFEZvGo18JxDeGwpBq9RWxMbGllxIE3G8HEW6oiSCmMj27rvv\nZlkOaYj/JPyHkfEj+dPFf+KvL/+Ve0bfkznI2/JgS9565q3MI0ymfLKLQkyuFi1aRLNmzYiJicmy\nfv3e9dz1yV0ALLxjYeZ0l4kfJWaOucTGxlpxMZ66SEUiIt1FZKOIbBaRR/PYrpOInBSRP/idyXiT\nnJzMjh07MpePpx1ndPxouk7oSr/z+7HojkVZ5tKNioqiY8eOdOzY0YqLAfK+q0AvVZ0mIueo6rbC\n7FxEooBxwFU491lKEJEZqroxh+2eB2YX5n2MP+65557M50tSlnDXJ3fRom4Lku5OommdpgEmM6VF\nXn9mMm4P+2ER9t8Z2KKq21X1JDAFuDGH7e4DPgB+LMJ7mWKwYMEC3n///czl1OOpDJ81nFum3sKo\nbqOY0XuGFRfjWV5jMD+LyBfAOSLycfYXVfX3HvbfGEgJW96JU3QyiUgj4CZVvUJE7J6hAatf/9Q9\noWdunsnQT4dyTfNrWDd0HfWq1QswmSmN8iow1wMX4lxF/YKPGf4NhI/N2FVxATrvvPP44dAP9P6g\nNyt2r2DCjRO4qvlVQccypVRe90U6AXwtIpeq6l4RqemuP1SA/e8CmoUtN3HXhbsImCLO5bZnAD1E\n5KSqntZqWrjwdaKjZwHQqlUcrVvHFSCKyc3KlSt58803GTduHG+vfptH5zzKwAsG8taNb1G9UvWg\n45kSFh8fT3x8fLHsS1Q17w1EzsNpxdTDaV3sBQao6rp8dy5SAdiEM8j7PbAc6KOqp5+x5Ww/AfhE\nVafn8Jo+/vgyYmKKpxe1Y8di+vatR9u2dkfBY8eOMTthNi9ve5l9x/bxxu/eILahnSBnHCKCqhaq\nZ+HlWOJ4Tp8yc7yXnatqOjAc54ZtycAUVd0gIneLyJCcvsRjblMM0tLSSAulMW7lOO5ceifdf92d\nZYOXWXExxcb3KTNV9XOgdbZ1r+WyrU1kVUL27NnDlX2vpOofq1KvWj2WDV5Gi3otgo5lyhibMrMc\nOnLyCC+ufZG93ffyj4v/wYALBtiMc8YXBZ0y80OcgVhraZRS05Om0/4/7dlxcAfrhq5jYIeBVlyM\nbzxPmVkCWYyPfjn6Cw/OfpDJSycz4ZYJ9OvUL+hIphywC0bKOFVlavJUznv1PGpWrsmeJ/dYcTEl\nxq6mLsN2HtzJ0E+Hkvx9MlNunkLX5nZfIlOyrAVTBoU0xKsJrxL7WiwXNbqIbhu6Uftg7aBjmXLI\ny10FGgB3AWeHb2+HlCNT+FwtCwYucKZT6BZwKFNueekizQAWAXOAdH/jmMI6nnac5xc/z7iEcYyO\nG825h8+lwi8VnON/xgTES4Gprqq5ThRlgrc0ZSmDPxlMi7otWDlkJU3rNGXSpElESRStW7fOfwfG\n+MRLgZkpItep6izf05gCST2eyuNzH+fDDR8ytvtYbml7S+Y5Lf379w84nTHeBnnvxykyx0Qk1X0c\n9DuYOSUUCpGYmEhiYmLmjcxmbp5Ju1fbceTkEdYNXUevdr1YtGgRb731VsBpjTnFy4l2tUoiiMlZ\n9luynnPgHBrFNWJrpa2nzdXSuHHjoGIakyNP58GIyO+BjJMo4lV1pn+RTIbwW7JmtDWTQ8n8+OmP\nbP1sKzWr1MyyfYsWLWjRwi5YNJEj3y6SiDyP001a7z7uF5Exfgczud+S9XCjw2xatwmANWvWMGDA\ngGACGpMPLy2Y64AOqhoCEJG3gSROTQpuAtS2bVsefPDBoGMYkyOvZ/JGhz2v40cQc7rY2Fjq7KmT\n4y1Z27VrB0DFihVp3759MAGNyYeXFswYIElE5uNMmdkVeMzXVAaA99a9h3ZU2ia25bvo7wDnlqz/\neuhfXHzxxSQkJFC5cuVgQxqTBy9Hkd4TkXigk7vqUVXd42sqw7xt8/jL7L8w78F5tD2j7Wm3ZJ03\nb54VFxPxcu0iiUgb998LgYY49zTaCTRy1xmfrP1hLb0/6M3UXlM571fnZd6StWHDhpm3ZA2/f5Ex\nkSqvFswDwBByvieSAlf6kqic23lwJ9e/ez1ju48l7uy4zPXp6encdNNN/O9//6NRo0bBBTSmAPK6\nL1LGrP89VPVY+GsiUtXXVOXUgWMH6DG5B/d1vo8+5/fJ8lqFChVYunQpFSpUCCidMQXn5SjSEo/r\nTBGcSD/Bze/fTFxMHA9d+lDm+hUrVnD06FEAKy6m1MlrDOYsEekIVBORWBG50H3EAXa7v2IU0hCD\nZgyiTtU6/Lv7v7NMwj1p0iSSk5MDTGdM4eU1BvNbYCDO7V5f4NQ9ow8Cj/sbq3x5Yu4TbN23lbm3\nz6VCVNZWytixYwNKZUzR5TUG8zbwtoj0VNUPSzBTufJqwqt8uOFDlty5hGqVqgHOvYHr1q3LBRdc\nEHA6Y4rGyxhMRxHJPJNXROqKyLM+Zio3ZmycwbMLn+Xz2z7njOpnZK7/+eef2bdvX4DJjCkeXgpM\nD1Xdn7Hg3ifpOv8ilQ9f7/yawZ8MZkbvGTSv2zzLaz179iQuLi6YYMYUIy8FpoKIVMlYEJFqQJU8\ntjf52PLzFm5+/2Ym3jiRTo2dE6QXLVrEuHHjAk5mTPHyci3SZGCuiExwl+8A3vYvUtn24+Ef6TG5\nB6PjRnN9q+sz159zzjkBpjLGH16uRfqbiKwBMqZOe0ZVZ/sbq2w6fOIwN7x7A33O68OQjkOyvNak\nSROaNGkSUDJj/OFpugZV/UxVH3IfVlwKIS2URu8Pe3Nug3N5+oqnAUhOTqZXr14BJzPGP15mtLtE\nRBJE5JCInBCRdJv0u2BUleGzhnM87Tiv/+71zBPpzj33XEaNGhVsOGN85KUFMw7oA2wBqgGDgVf8\nDFXWPL/4eb7e+TUf3PoBlStU5tgx59KuqKiozImjjCmLvHaRvgEqqGq6qk4Auvsbq+yYtHoSryW+\nxqx+s6hdpTb79++nU6dOmUXGmLLMy1GkIyJSGVglIn8Hvsf7VJvl2pytc3joy4eYP2A+jWo5UyxE\nR0ezaNEiqla1C9JN2eelUPR3txsOHAaaAj39DFUWrN6zmr4f9mVar2m0bdCW7du3Z74WHR2dx1ca\nU3bkWWBB+Xp/AAAPQ0lEQVREpALwnKoeU9WDqjpaVR9wu0yeiEh3EdkoIptF5LR7XItIXxFZ7T4W\ni8j5hfgcESXlQAo3vHcD464bR9eYroRCIW6//fYsRcaY8iDPLpKqpotIjIhUVtUTBd25iEThDBJf\nBewGEkRkhqpuDNtsK9BVVQ+ISHfgdeCSgr5XpNh/bD89JvfgL5f8hVvb3Qo4g7nz58/PnO7SmPLC\nyxjMVuArEfkYp4sEgKr+y8PXdga2qOp2ABGZAtwIZBYYVf06bPuvgVJ7/9Pjace5+f2bubr51fzl\nkr+wbNkyzj33XGrXrm3FxZRLXn7qvwVmutvWCnt40RhICVveSd4FZDDwmcd9R5SQhhg4YyD1q9Xn\nhWtfQESYMWMGGzZsCDqaMYHJtQUjIpNUtT+wX1V9n/VIRK7Auc7psty2WbjwdaKjZwHQqlUcrVvH\n+R3LsxFzRpByIIUv+3+ZOWnUc889F3AqYwouPj6e+Pj4YtlXXl2kjiLSCBgkIu9wakY7AFT1Fw/7\n3wU0C1tu4q7LQkTaA+OB7u50EDnq2vUuYmI6e3jbkjVu+ThmbJrBV4O+YtlXy6hcuTKXXnpp0LGM\nKZS4uLgs04WMHj260PvKq8D8F5gLNAcSyVpg1F2fnwTg1yISg3P+TG+cs4IziUgz4EOgv6p+6z16\nZPhow0eMWTyGxXcspn71+nYCnTFh8poy8yXgJRH5j6reW5idu0ehhgNf4IzhvKmqG0TkbudlHQ88\nCdQDXhXnIp2Tqhp5zZQcLE1ZypCZQ/i83+ecU9eZbqF7dzvJ2ZgMXqZrKFRxCfv6z4HW2da9Fvb8\nLuCuorxHEDb/vJmb37+Zd256h2PbjvH8O8/z2GN2y25jwnk5TG2y+eHQD/SY3IP/u/L/6NGyB3uj\n9wYdyZiIZAWmgA6fOMwN791A//b9GRQ7CIAGDRrQoEGDgJMZE3ns7K8CSAul8ccP/sj5vzqfPg37\ncMMNN6CqQccyJmJZC8YjVWXop0NJC6Xx2g2vUTGqIi+++GKWuzAaY7KyAuPRc4ueY8XuFcy6dRaV\nKlQCoFWrVgGnMiayWRfJg7dXvc0bSW8w9capXHXZVRw+fDj/LzLGWAsmP19++yWPzHmE+AHx/LrB\nr1m2bBk1atQIOpYxpYIVmDys2rOKftP78dJvXqLNGW0AqFmzZsCpjCk9rIuUix0HdnDDuzfwynWv\nMPHpiXz7bam7isGYwFkLJgf7ju6jx+QePHTpQ/Rq14tbPrvFjhYZUwjWgsnmeNpxbnr/Js6vdj79\nW/YHsOJiTCFZgQkT0hAD/jeAM2ucSdudbdm0aVPQkYwp1ayLFObRLx9lV+ouvuz/JVUr2m1FjCkq\na8G4Xlr2ElNXT+WBhg9YcTGmmFgLBpi+YTp//+rvvND+BepWqRt0HGPKjHJfYL7a8RX3zLyH2bfN\nJrZhbNBxjClTynWBefndt5kor9B8TTs+2J/AByQUaX+NGtVk2LC+xZTOmNKv3BaYQ/zMZHmdm2r9\njZhzOxITU/R7vW3fPr4YkhlTdpTLAnMsdIj3KzxKq0OxXNF0GNitoo3xRbk7ipSuabzy4w0c+uYn\nYlPjgo5jTJlWrgqMqvLugXupVKk6t9V9iSgpVx/fmBJXrn7DZux/kh0nVzKk7lTqRzfL/wuMMUVS\nbgrMwoPj+eLHvzO4+hSqRtmUC8aUhDI7yBsKhUhJSQIg9Vc/8snRpxjRLIEzq7UMOJkx5UeZLDA7\ndiXx9txB/NhkMyFNIzQnnX5XjafpmRcEHc2YcqXMdZFCoRBvzx3EzqtWceLcI6S1PUGoezrzF75M\nKBQKOp4x5UqZKzApKUn82GRz1k8WBT822ZzZZTLGlIwyV2DAmdfFGBO8MldgmjaNpcbGehBeY0Lw\nq52taNrULmY0piSVuQITFRXF8Jtm0mRuBypvqE7lDdVpMvcCBlz1FlFRZe7jGhPRysxRpE2b4jl6\n9AAdOtxIs8axPHFbYuaYS9O42BIpLitWrOKJJ4rvgke7OtuUdmWmwFStWivLclRUFDExHUs0w6FD\nIWJihhTb/uzqbFPalZkCU9LFpCRYi8iUdqW6wHz3XQIJCVPo1euFoKP4orhbRB9+OJTduw8Vy76s\nWBkvSnWBadiwLZ069Q46RqlRnAXLum/GC99HPkWku4hsFJHNIvJoLtu8JCJbRGSViHTIb5+hUDoA\nVarU4OyzOxVzYmNMcfG1wIhIFDAO+C3QDugjIm2ybdMDaKGqLYG7gf/mtc99+3bxj39cnllkItmm\nTfFBRyiQ0pYXID4+PugIBVYaMxeW312kzsAWVd0OICJTgBuBjWHb3Ai8A6Cqy0Skjoicqao/5LTD\nunUbM2TINKKiKvgcveg2b46ndeu4oGN4VpC8xT0AvWXLBlq2PLfAX7dw4Sd07bq52PaXm+Icc4qP\njycuLq5Y9hXp/C4wjYGUsOWdOEUnr212uetyLDDgFBkTrOIegI6Pv4erry74/qKjd+eYo7D7y01x\nDpAvXJhIgwbvlotB8lI1yLtv3xqion4pln2dOPGL3dTeeFacBTU6ejcff7y42AoWRO5RPVFV/3Yu\ncgkwSlW7u8uPAaqqfwvb5r/AfFV9313eCHTL3kUSEf+CGmPypKqF+mvsdwsmAfi1iMQA3wO9gT7Z\ntvkYGAa87xak/TmNvxT2AxpjguNrgVHVdBEZDnyBc8TqTVXdICJ3Oy/reFWdJSLXicg3wGHgDj8z\nGWNKjq9dJGNM+RZx8xf4cWKen/LLKyJ9RWS1+1gsIucHkTNbpny/x+52nUTkpIj8oSTz5ZLFy89F\nnIgkicg6EZlf0hmzZcnv56K2iHzs/gyvFZGBAcTMnulNEflBRNbksU3BfvdUNWIeOAXvGyAGqASs\nAtpk26YH8Kn7/GLg6wjPewlQx33ePci8XjOHbTcXmAn8IdIzA3WAZKCxu3xGhOcdAYzJyAr8DFQM\n+Pt8GdABWJPL6wX+3Yu0FkzmiXmqehLIODEvXJYT84A6InJmycbMlG9eVf1aVQ+4i1/jnOMTJC/f\nY4D7gA+AH0syXC68ZO4LfKiquwBU9acSzhjOS14FMuYYqQX8rKppJZjxNKq6GNiXxyYF/t2LtAKT\n04l52X8hczsxLwhe8oYbDHzma6L85ZtZRBoBN6nqf4BIOHrn5fvcCqgnIvNFJEFE+pdYutN5yTsO\naCsiu4HVwP0llK0oCvy7V6pOtCvNROQKnCNklwWdxYN/A+HjBpFQZPJTEbgQuBKoASwVkaWq+k2w\nsXL1WyBJVa8UkRbAlyLSXlWL7+y7CBBpBWYXEH7T6CbuuuzbNM1nm5LiJS8i0h4YD3RX1byaoCXB\nS+aLgCninOp8BtBDRE6q6scllDE7L5l3Aj+p6jHgmIgsBC7AGQspaV7y3gGMAVDVb0VkG9AGWFEi\nCQun4L97QQ4q5TCIVIFTg2OVcQbHzs22zXWcGmi6hGAHeb3kbQZsAS4J+vvrNXO27ScQ/CCvl+9z\nG+BLd9vqwFqgbQTnfQUY6T4/E6frUS8Cfj7OBtbm8lqBf/ciqgWjpezEPC95gSeBesCrbovgpKpm\nv+Az0jJn+ZISD5k9gLefi40iMhtYA6QD41V1faTmBZ4FJoYdEn5EVYvnQrtCEpF3gTigvojsAEbi\nFMhC/+7ZiXbGGN9E2lEkY0wZYgXGGOMbKzDGGN9YgTHG+MYKjDHGN1ZgjDG+sQJTjohIqvtvQxGZ\nms+294tI1QLuv5uIfFKUjHnsO7WA20/IaZoJEekoIv92nw8QkZfc53eLyG1h688qjtzlXUSdaGcK\nTkSiVDXkcXMFUNXvgVvz2fbPwCTgWAEjFfrEKhERzf3ErGI5YUtVE4HEHNa/FrY4EFgH7CmO9yzP\nrAUToUQkRkQ2iMj/E5H1IjI1o0UhIttE5HkRWQHcIiLNReQz9yriBSLSyt3ubBFZ4k529Uy2fa91\nn0eJyD/cSY9WicgwEbkPaATMF5G57nbXuvtaISLvi0h1d313N+cKIMeJqdwWwf/cK503ichTYTk2\nisjbbp4mItJHRNa4j+ez7kb+5U4m9aWI1HdXDhaR5eJMNDUtW6vrGvd7slFErne3z7GVJSIjReRB\nEemJcy3W/xORle6Zqx+FbXe1iEwv0H9meRb0tQ/2yPWakBgghHsNE/Am8ID7fBvwUNi2c3DujgnO\nXCRz3eczgH7u86HAwbB9r3Gf3wtM5dRZ3dHuv1uBuu7z+sACoJq7/AjwV6AKsANo7q5/H/g4h88y\nAOeiuGigKs51Qhe6OdKATu52DYHtOJdWZEx49Xv3tRDQ233+JPCy+7xu2Ps8Awxzn08AZrnPf41z\nrU9loFtGRjfXS+7zkWHf3/lAbNh+1wP13eeTgeuD/vkoLQ9rwUS2Har6tfv8/5F1qoeM27zUAC4F\npolIEvAazsVzAL/BmewInO5OTq4CXlP3t0dV97vrhVPTNFwCtAW+ct/jdpzi0AbYqqpbwzLm5ktV\n3a/O1c7Twz7LdlVNcJ93wrmFzS/qdPsmA13d10I4hTDjfX7jPm8vIgvda3r64tyiOMNU9zN9A3zr\n5vUqfIqKScBtIlIH53sR9Jw+pYaNwZQu4eMQh91/o4B9qnphLttnfE1R5nQR4AtV7ZdlpcgFBdhv\n9jGUjOXD2dYXdH8TcFo560RkAE4LJaf3lBwyeDUR+AQ4DkxT72Ne5Z61YCJbMxG52H3eF1iUfQNV\nTQW2icgtGevEmX8G4CtO3YeqX/avdX0J3C0iFdyvreuuPwjUdp9/DfxGnImREJHqItIS5x7jMSJy\njrtd9ntehbtGRKJFpBpwk5sNshaU5UBXEann5ukDxLuvRQEZn7Efp74XNYE9IlIph8/YSxwtgHOA\nTXnkC5fKqc+OOoPiu4EncAqa8cgKTGTbBAwTkfU44xf/dddn/0vcD7jTHaRdB/zeXf9n9+tX44xv\n5OQNnPGJNW73J6NIvA58LiJz1Znf9g7gPXdfS4DWqnocuBuY5Q7y5no/cZziMR1nbpRpqroy+2dR\n1T3AYzhFJQlYoaoz3ZcPAZ3dweA4nPEWcMZjluMUnA3Z3nOH+9qnwN2qeiKPfOEmAv91B3mruOsm\nAymq6rVIGWy6hoglzt0wZ6pq4Lc5KSq369JRVf8UdJbCEpGXgZWqai2YArAxmMhm1T8CuK2zQ8AD\nQWcpbawFY4zxjY3BGGN8YwXGGOMbKzDGGN9YgTHG+MYKjDHGN1ZgjDG++f+tcTs4JjJkrQAAAABJ\nRU5ErkJggg==\n",
      "text/plain": [
       "<matplotlib.figure.Figure at 0x1160c50f0>"
      ]
     },
     "metadata": {},
     "output_type": "display_data"
    }
   ],
   "source": [
    "\n",
    "\n",
    "def plot_calibration_curve(y_true, y_prob, n_bins=5, ax=None, hist=True, normalize=False):\n",
    "    prob_true, prob_pred = calibration_curve(y_true, y_prob, n_bins=n_bins, normalize=normalize)\n",
    "    if ax is None:\n",
    "        ax = plt.gca()\n",
    "    if hist:\n",
    "        ax.hist(y_prob, weights=np.ones_like(y_prob) / len(y_prob), alpha=.4,\n",
    "               bins=np.maximum(10, n_bins))\n",
    "    ax.plot([0, 1], [0, 1], ':', c='k')\n",
    "    curve = ax.plot(prob_pred, prob_true, marker=\"o\")\n",
    "\n",
    "    ax.set_xlabel(\"predicted probability\")\n",
    "    ax.set_ylabel(\"fraction of positive samples\")\n",
    "\n",
    "    ax.set(aspect='equal')\n",
    "    return curve\n",
    "\n",
    "    \n",
    "plot_calibration_curve(y_test, probs)\n",
    "plt.title(\"n_bins=5\")\n",
    "print (\"logistic regression is indeed vell calibrated\")"
   ]
  },
  {
   "cell_type": "code",
   "execution_count": 219,
   "metadata": {
    "collapsed": false
   },
   "outputs": [
    {
     "name": "stdout",
     "output_type": "stream",
     "text": [
      "well... looks like they are all over the place...\n"
     ]
    },
    {
     "data": {
      "image/png": "iVBORw0KGgoAAAANSUhEUgAABDEAAAFpCAYAAACF77OwAAAABHNCSVQICAgIfAhkiAAAAAlwSFlz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\nfyo+ajKwUVV+AAAAAElFTkSuQmCC\n",
      "text/plain": [
       "<matplotlib.figure.Figure at 0x11780b4a8>"
      ]
     },
     "metadata": {},
     "output_type": "display_data"
    }
   ],
   "source": [
    "# let's see how random forests and gradient boosting tree performs \n",
    "\n",
    "fig, axes = plt.subplots(1, 3, figsize=(15, 10))\n",
    "for ax, clf in zip(axes, [lr, rf,\n",
    "                         gbtree]):\n",
    "        # use predict_proba is the estimator has it\n",
    "        scores = clf.predict_proba(X_test_scaled)[:, 1]\n",
    "        plot_calibration_curve(y_test, scores, n_bins=20, ax=ax)\n",
    "        ax.set_title(clf.__class__.__name__)\n",
    "\n",
    "plt.tight_layout()\n",
    "print (\"well... looks like they are all over the place...\")"
   ]
  },
  {
   "cell_type": "code",
   "execution_count": 220,
   "metadata": {
    "collapsed": false
   },
   "outputs": [],
   "source": [
    "# calibrate random forests \n",
    "from sklearn.calibration import CalibratedClassifierCV\n",
    "\n",
    "scores_rf = rf.predict_proba(X_test_scaled)[:, 1]\n",
    "\n",
    "cal_rf = CalibratedClassifierCV(rf, cv=10, method='sigmoid')\n",
    "cal_rf.fit(X_train_scaled, y_train)\n",
    "scores_sigm = cal_rf.predict_proba(X_test_scaled)[:, 1]\n",
    "\n",
    "cal_rf_iso = CalibratedClassifierCV(rf, cv=10, method='isotonic')\n",
    "cal_rf_iso.fit(X_train_scaled, y_train)\n",
    "scores_iso = cal_rf_iso.predict_proba(X_test_scaled)[:, 1]"
   ]
  },
  {
   "cell_type": "code",
   "execution_count": 221,
   "metadata": {
    "collapsed": false
   },
   "outputs": [
    {
     "data": {
      "image/png": "iVBORw0KGgoAAAANSUhEUgAAAskAAADxCAYAAAA5gyoEAAAABHNCSVQICAgIfAhkiAAAAAlwSFlz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\nlFJK1aCNZKWUUkoppWr4f5s6OuC9iqKKAAAAAElFTkSuQmCC\n",
      "text/plain": [
       "<matplotlib.figure.Figure at 0x11780b7f0>"
      ]
     },
     "metadata": {},
     "output_type": "display_data"
    }
   ],
   "source": [
    "fig, axes = plt.subplots(1, 3, figsize=(10, 4))\n",
    "\n",
    "for name, s, ax in zip(['rf:no callibration', 'rf:sigmoid', 'rf:isotonic'],\n",
    "                       [scores_rf, scores_sigm, scores_iso], axes):\n",
    "    plot_calibration_curve(y_test, s, n_bins=20, ax=ax)\n",
    "    ax.set_title(\"{}\".format(name))\n",
    "plt.tight_layout()"
   ]
  },
  {
   "cell_type": "code",
   "execution_count": 222,
   "metadata": {
    "collapsed": false,
    "scrolled": true
   },
   "outputs": [
    {
     "data": {
      "image/png": "iVBORw0KGgoAAAANSUhEUgAAAskAAADxCAYAAAA5gyoEAAAABHNCSVQICAgIfAhkiAAAAAlwSFlz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\nAAAASUVORK5CYII=\n",
      "text/plain": [
       "<matplotlib.figure.Figure at 0x169f7e710>"
      ]
     },
     "metadata": {},
     "output_type": "display_data"
    }
   ],
   "source": [
    "# calibrate gbtree \n",
    "cal_gbtree = CalibratedClassifierCV(gbtree, cv=10, method='sigmoid')\n",
    "cal_gbtree.fit(X_train_scaled, y_train)\n",
    "scores_gbt_sigm = cal_gbtree.predict_proba(X_test_scaled)[:, 1]\n",
    "\n",
    "cal_gbtree = CalibratedClassifierCV(gbtree, cv=10, method='isotonic')\n",
    "cal_gbtree.fit(X_train_scaled, y_train)\n",
    "scores_gbt_iso = cal_gbtree.predict_proba(X_test_scaled)[:, 1]\n",
    "\n",
    "scores_gbt = gbtree.predict_proba(X_test_scaled)[:,1]\n",
    "\n",
    "fig, axes = plt.subplots(1, 3, figsize=(10, 4))\n",
    "\n",
    "for name, s, ax in zip(['gbt: no callibration', 'gbt: sigmoid', 'gbt: isotonic'],\n",
    "                       [scores_gbt, scores_gbt_sigm, scores_gbt_iso], axes):\n",
    "    plot_calibration_curve(y_test, s, n_bins=20, ax=ax)\n",
    "    ax.set_title(\"{}\".format(name))\n",
    "plt.tight_layout()"
   ]
  },
  {
   "cell_type": "code",
   "execution_count": 223,
   "metadata": {
    "collapsed": false
   },
   "outputs": [
    {
     "name": "stdout",
     "output_type": "stream",
     "text": [
      "well... judging by the graph, sigmod has a slightly better visual result than isotonic for random forest., let's see how it improves stacking\n"
     ]
    }
   ],
   "source": [
    "print (\"well... judging by the graph, sigmod has a slightly better visual result than isotonic for random forest., let's see how it improves stacking\")"
   ]
  },
  {
   "cell_type": "code",
   "execution_count": 236,
   "metadata": {
    "collapsed": false,
    "scrolled": false
   },
   "outputs": [
    {
     "name": "stdout",
     "output_type": "stream",
     "text": [
      "actually is it always a .x% higher when I dont do polynomial transformation \n",
      " auc on X_test_scaled: \n",
      "0.785 0.779 0.778 0.785 \n",
      " auc on X_train_scaled: \n",
      "0.974 0.798 1.000 0.814 \n"
     ]
    }
   ],
   "source": [
    "# poor man's stacking + (calibrated)\n",
    "\n",
    "from sklearn.preprocessing import StandardScaler\n",
    "from sklearn.ensemble import GradientBoostingClassifier\n",
    "from sklearn.linear_model import LogisticRegression\n",
    "from sklearn.ensemble import RandomForestClassifier\n",
    "from sklearn.neighbors import KNeighborsClassifier\n",
    "from sklearn.ensemble import VotingClassifier\n",
    "from sklearn.metrics import roc_auc_score\n",
    "from sklearn.preprocessing import RobustScaler\n",
    "\n",
    "cal_voting_small = VotingClassifier([\n",
    "                            ('logreg', LogisticRegression(C=1)),\n",
    "                            ('cal_rf', CalibratedClassifierCV(RandomForestClassifier(n_estimators=150), cv=5, method='sigmoid')),\n",
    "                            ('cal_gbtree', CalibratedClassifierCV(GradientBoostingClassifier(n_estimators=150, learning_rate=0.05, random_state=256), cv=5, method='sigmoid'))\n",
    "                          ],\n",
    "                         voting='soft')\n",
    "\n",
    "sc = StandardScaler()\n",
    "X_train_scaled = sc.fit_transform(X_train)\n",
    "X_test_scaled = sc.transform(X_test)\n",
    "\n",
    "print (\"actually is it always a .x% higher when I dont do polynomial transformation \")\n",
    "cal_voting_small.fit(X_train_scaled, y_train)\n",
    "cal_lr, cal_rf, cal_gbtree = cal_voting_small.estimators_\n",
    "print (\" auc on X_test_scaled: \")\n",
    "print ((\"{:.3f} \" * 4).format(roc_auc_score(y_test, cal_voting_small.predict_proba(X_test_scaled)[:,1]), roc_auc_score(y_test, cal_lr.predict_proba(X_test_scaled)[:,1]), roc_auc_score(y_test, cal_rf.predict_proba(X_test_scaled)[:,1]), roc_auc_score(y_test, cal_gbtree.predict_proba(X_test_scaled\n",
    ")[:,1])))\n",
    "print (\" auc on X_train_scaled: \")\n",
    "print ((\"{:.3f} \" * 4).format(roc_auc_score(y_train, cal_voting_small.predict_proba(X_train_scaled)[:,1]), roc_auc_score(y_train, cal_lr.predict_proba(X_train_scaled)[:,1]), roc_auc_score(y_train, cal_rf.predict_proba(X_train_scaled)[:,1]), roc_auc_score(y_train, cal_gbtree.predict_proba(X_train_scaled\n",
    ")[:,1])))\n",
    "\n",
    "\n",
    "\n"
   ]
  },
  {
   "cell_type": "code",
   "execution_count": 251,
   "metadata": {
    "collapsed": false
   },
   "outputs": [
    {
     "name": "stdout",
     "output_type": "stream",
     "text": [
      "actually is it always a .x% higher when I dont do polynomial transformation \n",
      "0.803 0.800 0.789 0.804 \n",
      "0.973 0.794 1.000 0.806 \n"
     ]
    }
   ],
   "source": [
    "# poor man's stacking + (calibrated)\n",
    "\n",
    "from sklearn.preprocessing import StandardScaler\n",
    "from sklearn.ensemble import GradientBoostingClassifier\n",
    "from sklearn.linear_model import LogisticRegression\n",
    "from sklearn.ensemble import RandomForestClassifier\n",
    "from sklearn.neighbors import KNeighborsClassifier\n",
    "from sklearn.ensemble import VotingClassifier\n",
    "from sklearn.metrics import roc_auc_score\n",
    "from sklearn.preprocessing import RobustScaler\n",
    "\n",
    "cal_voting = VotingClassifier([\n",
    "                            ('logreg', LogisticRegression(C=1)),\n",
    "                            ('cal_rf', CalibratedClassifierCV(RandomForestClassifier(n_estimators=150), cv=5, method='sigmoid')),\n",
    "                            ('cal_gbtree', CalibratedClassifierCV(GradientBoostingClassifier(n_estimators=150, learning_rate=0.05, random_state=256), cv=5, method='sigmoid'))\n",
    "                          ],\n",
    "                         voting='soft')\n",
    "\n",
    "sc = StandardScaler()\n",
    "X_train_scaled = sc.fit_transform(X_trainval)\n",
    "X_test_scaled = sc.transform(X_val)\n",
    "\n",
    "print (\"actually is it always a .x% higher when I dont do polynomial transformation \")\n",
    "cal_voting.fit(X_train_scaled, y_trainval)\n",
    "cal_lr, cal_rf, cal_gbtree = cal_voting.estimators_\n",
    "print ((\"{:.3f} \" * 4).format(roc_auc_score(y_val, cal_voting.predict_proba(X_test_scaled)[:,1]), roc_auc_score(y_val, cal_lr.predict_proba(X_test_scaled)[:,1]), roc_auc_score(y_val, cal_rf.predict_proba(X_test_scaled)[:,1]), roc_auc_score(y_val, cal_gbtree.predict_proba(X_test_scaled\n",
    ")[:,1])))\n",
    "print ((\"{:.3f} \" * 4).format(roc_auc_score(y_trainval, cal_voting.predict_proba(X_train_scaled)[:,1]), roc_auc_score(y_trainval, cal_lr.predict_proba(X_train_scaled)[:,1]), roc_auc_score(y_trainval, cal_rf.predict_proba(X_train_scaled)[:,1]), roc_auc_score(y_trainval, cal_gbtree.predict_proba(X_train_scaled\n",
    ")[:,1])))"
   ]
  },
  {
   "cell_type": "code",
   "execution_count": 252,
   "metadata": {
    "collapsed": false,
    "scrolled": true
   },
   "outputs": [
    {
     "name": "stdout",
     "output_type": "stream",
     "text": [
      "             precision    recall  f1-score   support\n",
      "\n",
      "          0       0.91      0.98      0.95      7310\n",
      "          1       0.65      0.23      0.34       928\n",
      "\n",
      "avg / total       0.88      0.90      0.88      8238\n",
      "\n"
     ]
    }
   ],
   "source": [
    "X_test_scaled = sc.transform(X_val)\n",
    "from sklearn.metrics import classification_report\n",
    "print(classification_report(y_val, cal_voting.predict(X_test_scaled)))"
   ]
  },
  {
   "cell_type": "code",
   "execution_count": 234,
   "metadata": {
    "collapsed": false
   },
   "outputs": [
    {
     "name": "stdout",
     "output_type": "stream",
     "text": [
      "well, it looks like after calibration, the roc score improves by 0.2%\n"
     ]
    }
   ],
   "source": [
    "print (\"well, it looks like after calibration, the roc score improves by 0.2%\")"
   ]
  },
  {
   "cell_type": "code",
   "execution_count": 264,
   "metadata": {
    "collapsed": false
   },
   "outputs": [
    {
     "data": {
      "text/plain": [
       "0.74651722958630118"
      ]
     },
     "execution_count": 264,
     "metadata": {},
     "output_type": "execute_result"
    }
   ],
   "source": [
    "sc.fit_transform(X_trainval)\n",
    "X_val_scaled = sc.transform(X_val)\n",
    "pre_recall = cal_voting.predict_proba(X_val_scaled)[:,1]>0.1\n",
    "roc_auc_score(y_val, pre_recall)"
   ]
  },
  {
   "cell_type": "code",
   "execution_count": 242,
   "metadata": {
    "collapsed": false
   },
   "outputs": [],
   "source": [
    "# take around 10 mins to finish, so I commented it out\n",
    "\n",
    "# cal_voting_score= np.mean(cross_val_score(cal_voting, X_trainval, y_trainval, cv=10, scoring='roc_auc'))"
   ]
  },
  {
   "cell_type": "code",
   "execution_count": 244,
   "metadata": {
    "collapsed": false
   },
   "outputs": [
    {
     "name": "stdout",
     "output_type": "stream",
     "text": [
      "the calibrated voting gives an averaged cv auc score as 0.7919322942012904\n"
     ]
    }
   ],
   "source": [
    "print (\"the calibrated voting gives an averaged cv auc score as {}\".format(cal_voting_score))"
   ]
  },
  {
   "cell_type": "code",
   "execution_count": 316,
   "metadata": {
    "collapsed": true
   },
   "outputs": [],
   "source": [
    "# predict my holdout set\n",
    "# holdout_sel = sp.transform(holdout)\n",
    "# holdout_sel_poly = pf.transform(holdout_sel)\n",
    "# holdout_sel_poly_scaled = sc.transform(holdout_sel_poly)\n",
    "# predicted = voting.predict(holdout_sel_poly_scaled)\n",
    "# len([x for x in predicted if x ==1])\n",
    "\n",
    "# make a prediction \n",
    "#y_test_predictions_high_recall = model_gbt.predict_proba(X_test)[:,1] > 0.1\n",
    "holdout_scaled = sc.transform(holdout)\n",
    "predicted = cal_voting.predict(holdout_scaled)\n",
    "#predicted = cal_voting.predict_proba(holdout_scaled)[:,1] > 0.1\n",
    "final = concatenate(df_holdout.ID, predicted)\n",
    "pd_final = pd.DataFrame(final)\n",
    "pd_final.columns = ['ID', 'subscribed']\n",
    "pd_final.head()\n",
    "pd_final.to_csv(\"./submission.csv\")"
   ]
  },
  {
   "cell_type": "code",
   "execution_count": 237,
   "metadata": {
    "collapsed": false,
    "scrolled": true
   },
   "outputs": [
    {
     "data": {
      "text/plain": [
       "<matplotlib.text.Text at 0x142879358>"
      ]
     },
     "execution_count": 237,
     "metadata": {},
     "output_type": "execute_result"
    },
    {
     "data": {
      "image/png": "iVBORw0KGgoAAAANSUhEUgAAAYgAAAEPCAYAAABY9lNGAAAABHNCSVQICAgIfAhkiAAAAAlwSFlz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\nAAAAAElFTkSuQmCC\n",
      "text/plain": [
       "<matplotlib.figure.Figure at 0x10f3f1c18>"
      ]
     },
     "metadata": {},
     "output_type": "display_data"
    }
   ],
   "source": [
    "# plot roc\n",
    "from sklearn.metrics import roc_curve\n",
    "X_test_scaled = sc.transform(X_test)\n",
    "fpr, tpr, _ = roc_curve(y_test, voting.predict_proba(X_test_scaled)[:, 1])\n",
    "fpr_cal_voting, tpr_cal_voting, _ = roc_curve(y_test, cal_voting_small.predict_proba(X_test_scaled)[:, 1])\n",
    "fpr_gbt, tpr_gbt, _ = roc_curve(y_test, cal_gbtree.predict_proba(X_test_scaled)[:, 1])\n",
    "\n",
    "plt.plot(fpr, tpr, label=\"regular voting\")\n",
    "plt.plot(fpr_cal_voting, tpr_cal_voting, label=\"calibrated voting\")\n",
    "plt.plot(fpr_gbt, tpr_gbt, label=\"calibrated gb tree\")\n",
    "plt.legend()\n",
    "plt.xlabel(\"FPR\")\n",
    "plt.ylabel(\"TPR\")"
   ]
  },
  {
   "cell_type": "markdown",
   "metadata": {},
   "source": [
    "Expected to use the models created before and create new predictions. Could try poor man's stacking and model averaging but don't be limited to these two "
   ]
  },
  {
   "cell_type": "markdown",
   "metadata": {},
   "source": [
    "# Step5(bonus): Resampling techniques \n",
    "\n",
    "Evaluation different resampling techniques and the \"Easy Ensemble\" technique. "
   ]
  },
  {
   "cell_type": "markdown",
   "metadata": {},
   "source": [
    "#### tried simple under and over resampling using imblearn, quick and dirty easy ensemble, and SMOTE\n",
    "\n",
    "for Logistic Regression and Random Forests, the best auc performance goes to easy ensemble. But still 0.1% lower than the original auc without resampling"
   ]
  },
  {
   "cell_type": "code",
   "execution_count": 58,
   "metadata": {
    "collapsed": false
   },
   "outputs": [
    {
     "data": {
      "text/plain": [
       "array([32950])"
      ]
     },
     "execution_count": 58,
     "metadata": {},
     "output_type": "execute_result"
    }
   ],
   "source": [
    "import numpy as np\n",
    "classes = [1 if x == \"yes\" else 0 for x in list(df[\"subscribed\"])]\n",
    "np.bincount(classes)"
   ]
  },
  {
   "cell_type": "code",
   "execution_count": 59,
   "metadata": {
    "collapsed": false
   },
   "outputs": [],
   "source": [
    "# len(df[\"subscribed\"][df[\"subscribed\"] == \"yes\"])"
   ]
  },
  {
   "cell_type": "code",
   "execution_count": 60,
   "metadata": {
    "collapsed": false
   },
   "outputs": [
    {
     "name": "stdout",
     "output_type": "stream",
     "text": [
      "(18534, 53)\n",
      "(4176, 53)\n",
      "[2088 2088]\n"
     ]
    }
   ],
   "source": [
    "# try undersample the negative classes \n",
    "\n",
    "from imblearn.under_sampling import RandomUnderSampler\n",
    "from sklearn.model_selection import train_test_split, cross_val_score\n",
    "from sklearn.preprocessing import RobustScaler\n",
    "\n",
    "rus = RandomUnderSampler(replacement=False)\n",
    "X_train_subsample, y_train_subsample = rus.fit_sample(X_train, y_train)\n",
    "print(X_train.shape)\n",
    "print (X_train_subsample.shape)\n",
    "print (np.bincount(y_train_subsample))"
   ]
  },
  {
   "cell_type": "code",
   "execution_count": 63,
   "metadata": {
    "collapsed": false
   },
   "outputs": [
    {
     "name": "stdout",
     "output_type": "stream",
     "text": [
      "auc:0.792, recall:0.642, prec:0.326\n"
     ]
    }
   ],
   "source": [
    "from imblearn.pipeline import make_pipeline as make_imb_pipeline\n",
    "from sklearn.linear_model import LogisticRegressionCV\n",
    "from sklearn.preprocessing import StandardScaler\n",
    "\n",
    "undersample_pipe = make_imb_pipeline(RandomUnderSampler(), StandardScaler(), LogisticRegression(C=1))\n",
    "scores_recall = cross_val_score(undersample_pipe, X_train, y_train, cv=5, scoring='recall')\n",
    "scores_prec = cross_val_score(undersample_pipe, X_train, y_train, cv=5, scoring='precision')\n",
    "scores_auc = cross_val_score(undersample_pipe, X_train, y_train, cv=5, scoring='roc_auc')\n",
    "print(\"auc:{:.3f}, recall:{:.3f}, prec:{:.3f}\".format(np.mean(scores_auc),np.mean(scores_recall),np.mean(scores_prec)))"
   ]
  },
  {
   "cell_type": "code",
   "execution_count": 66,
   "metadata": {
    "collapsed": false
   },
   "outputs": [
    {
     "name": "stdout",
     "output_type": "stream",
     "text": [
      "undersampling does not improve logistic regression roc score\n"
     ]
    }
   ],
   "source": [
    "print (\"undersampling does not improve logistic regression roc score\")"
   ]
  },
  {
   "cell_type": "code",
   "execution_count": 195,
   "metadata": {
    "collapsed": false
   },
   "outputs": [
    {
     "name": "stdout",
     "output_type": "stream",
     "text": [
      "0.780721758919\n"
     ]
    }
   ],
   "source": [
    "from imblearn.pipeline import make_pipeline as make_imb_pipeline\n",
    "from sklearn.linear_model import LogisticRegressionCV\n",
    "\n",
    "undersample_pipe = make_imb_pipeline(RandomUnderSampler(), RandomForestClassifier(n_estimators=150))\n",
    "scores = cross_val_score(undersample_pipe, X_train, y_train, cv=5, scoring='roc_auc')\n",
    "print(np.mean(scores))"
   ]
  },
  {
   "cell_type": "code",
   "execution_count": 199,
   "metadata": {
    "collapsed": false,
    "scrolled": true
   },
   "outputs": [
    {
     "name": "stdout",
     "output_type": "stream",
     "text": [
      "undersampling does not improve random forest roc score\n"
     ]
    }
   ],
   "source": [
    "print (\"undersampling does not improve random forest roc score\")"
   ]
  },
  {
   "cell_type": "code",
   "execution_count": 67,
   "metadata": {
    "collapsed": false
   },
   "outputs": [
    {
     "name": "stdout",
     "output_type": "stream",
     "text": [
      "(18534, 53)\n",
      "(32892, 53)\n",
      "[16446 16446]\n"
     ]
    }
   ],
   "source": [
    "# try over sampling\n",
    "from imblearn.over_sampling import RandomOverSampler\n",
    "ros = RandomOverSampler()\n",
    "X_train_oversample, y_train_oversample = ros.fit_sample(X_train, y_train)\n",
    "print(X_train.shape)\n",
    "print(X_train_oversample.shape)\n",
    "print(np.bincount(y_train_oversample))"
   ]
  },
  {
   "cell_type": "code",
   "execution_count": 68,
   "metadata": {
    "collapsed": false
   },
   "outputs": [
    {
     "name": "stdout",
     "output_type": "stream",
     "text": [
      "0.79280657903\n"
     ]
    }
   ],
   "source": [
    "oversample_pipe = make_imb_pipeline(RandomOverSampler(), StandardScaler(), LogisticRegression(C=1))\n",
    "\n",
    "scores = cross_val_score(oversample_pipe, X_train, y_train, cv=5, scoring='roc_auc')\n",
    "\n",
    "print(np.mean(scores))"
   ]
  },
  {
   "cell_type": "code",
   "execution_count": 69,
   "metadata": {
    "collapsed": true
   },
   "outputs": [],
   "source": [
    "from sklearn.model_selection import cross_val_predict\n",
    "undersample_pipe = make_imb_pipeline(RandomUnderSampler(), StandardScaler(), LogisticRegression(C=1))\n",
    "under_lg_probs = cross_val_predict(undersample_pipe, X_train, y_train, cv=5, method='predict_proba')\n",
    "over_lg_probs = cross_val_predict(oversample_pipe, X_train, y_train, cv=5, method='predict_proba')"
   ]
  },
  {
   "cell_type": "code",
   "execution_count": 70,
   "metadata": {
    "collapsed": false
   },
   "outputs": [
    {
     "data": {
      "text/plain": [
       "<matplotlib.text.Text at 0x1186dc940>"
      ]
     },
     "execution_count": 70,
     "metadata": {},
     "output_type": "execute_result"
    },
    {
     "data": {
      "image/png": "iVBORw0KGgoAAAANSUhEUgAAAqIAAAE8CAYAAAAbhdNdAAAABHNCSVQICAgIfAhkiAAAAAlwSFlz\nAAALEgAACxIB0t1+/AAAIABJREFUeJzt3Xd8VfX9x/HXNwkjAQKBsCFhg6CAbAQhCEUEEfTnABXF\nvWhrbd2FUrfY1lG1FYUyFKFWZagIikaUoWxk7xWGQAghgZD1+f0RvIaYhABJzr3J+/l45AHn3pNz\n3/ebe0/eOes6M0NEREREpLgFeR1AREREREonFVERERER8YSKqIiIiIh4QkVURERERDyhIioiIiIi\nnlARFRERERFPhOR3p3OuXFhY2NNmds+JEycqAa6YcomIiIhIYLPQ0NBjzrm3jh8/PtLMTuacweV3\nHdEqVap827Vr13ZvvPFGWFRUFCEh+fZWEREREREA0tPT2bVrF/fff3/qkiVL1hw+fLh9znnyLaLB\nwcEZSUlJQaGhoUUaVERERERKphMnTlCxYkUGDBjQeebMmT9kvy/fY0QzMzNVQkVERETknIWGhpKZ\nmQkwNOd9OllJRERERIpDRM4bVERzmDJlCv369Tun773wwguZP39+ISfyf/3792fy5Ml++/i33XYb\no0aNKvLHOR9BQUFs27atSJZ9Nho2bMhXX33ldYzzkv05PP/889x9990eJyrdtE49e1qnnj9/Waf6\nu4kTJ3LppZf6pitVqsSOHTuKNUNAn33UsGFDxo0bx2WXXVZoy7zxxhu58cYbzzjfbbfdRv369Xnq\nqad8t61Zs+asH2/nzp00bNiQihUrAhAZGck999zDo48+etbL8spnn33mN48/ceJE3nnnHb799tsi\nfZzC5pwuSFEUHn/8ca8jBBStU/2D1qnnT+vUgss+VseOHSv2xw/oIlpSOOc4evQozjmWLVtGz549\n6dChA7179y7Ux8nIyCA4OLhQl+lvzCwgV0D5nTQYCErDa0sCh9aphUfr1KKRmZlJUJB2SkMJ3jX/\n9ttv07RpUyIjIxk8eDD79u3z3Td37lxatGhBREQEDzzwADExMYwfPx749WbqP/zhD9SsWZPKlSvT\npk0b1q1bx9tvv817773HmDFjCA8PZ9CgQcDpuwQzMzN57rnnaNKkCZUrV6Zjx47ExcXlmffnN037\n9u1p1aoVK1eu9N23b98+rr32WmrUqEHjxo355z//6bsvJSWFW2+9lapVq9KqVSteeukl6tev77u/\nYcOGjBkzhjZt2lCxYkUyMzPzXd6SJUvo2LEjlStXpnbt2vzpT38C4OTJkwwbNozIyEgiIiLo3Lkz\nBw8eBKBXr16+8TMznnnmGRo0aECtWrUYPnw4iYmJQNaWiqCgICZNmkR0dDQ1atTgueeey3U8duzY\nQUTEL4eS3HXXXdSsWdM3fcstt/Daa6+d9vgbNmzgvvvuY9GiRVSqVImqVav65o+Pj+fKK68kPDyc\nrl27sn379lwft6DPc+LEiXTv3p2HHnqIiIgImjRpwqJFi5g4cSJRUVHUqlWLSZMm+ZZ72223cd99\n99G3b1/Cw8Pp1asXu3btyjVDamoqf/rTn4iOjqZ27drcf//9nDz5q0uvAfDXv/6VYcOG+aZ/HuNT\nB4XTq1cvRo0aRffu3QkPD6dfv37Ex8f75p88eTINGjSgevXqv/pZmBkvvPACTZo0oXr16gwZMoSE\nhITTHmf8+PFER0fTu3dvTp48yc0335zr2E2YMIGWLVsSHh5OkyZNGDt2rO9xvvnmG+rXr89LL71E\nzZo1qVu3LjNmzGD27Nk0b96cyMhInn/++dOe83XXXceQIUMIDw+nQ4cOrF69+ozjc6bX35neS6Wd\n1qn4MmmdWnLXqbmN989bCfv378+bb7552vxt27Zl+vTpAGzYsIG+fftSrVo1LrjgAj744IPT8t5/\n//0MGDCASpUqERsby+zZs2nVqhXh4eHUr1+ff/zjHwAkJCQwcOBAatSoQbVq1Rg4cOBpr/VevXox\ncuRIunXrRqVKlRg0aBDx8fHcfPPNVK5cmc6dO582FkFBQfzzn/+kcePG1KhRg0ceeSTX5/7zvD8f\n0nDbbbcxYsSIPH/O+b3vz4qZ5fmVdbf/atCggc2bN+9Xt8+bN88iIyNt5cqVlpqaar/97W+tR48e\nZmZ28OBBCw8Pt+nTp1tGRoa9+uqrVrZsWRs3bpyZmU2YMMEuvfRSMzObM2eOdejQwRITE83MbMOG\nDbZ//34zMxs+fLiNHDkyzzxjxoyx1q1b2+bNm83MbPXq1RYfH/+rrDt27LCgoCBLT083M7NFixZZ\nhQoVbPr06WZmlpmZae3bt7dnnnnG0tPTbfv27da4cWObO3eumZk9+uijFhMTY0ePHrW4uDhr3bq1\n1a9f/7RMF198scXFxVlKSsoZl9e1a1d79913zcwsOTnZvv/+ezMze+utt+yqq67yLWP58uV27Ngx\nMzOLiYnxjd+4ceOsadOmtmPHDktOTrZrrrnGhg0b5nuuzjm7++677eTJk7Zq1SorV66cbdiwIdef\nb3R0tC1fvtzMzJo3b26NGzf2zRsVFWWrVq361eNn//n9bPjw4RYZGWlLly61jIwMu+mmm2zo0KG5\nPmZBn+eECROsTJkyNnHiRMvMzLQ///nPFhUVZSNGjLDU1FSbO3euVapUyZKTk30ZwsPD7bvvvrPU\n1FT7/e9/b927d/c9rnPOtm7damZmDz74oA0aNMgSEhIsKSnJrrrqKnviiSdyzTt69Gjf+P48xkFB\nQZaRkeHL3KRJE9uyZYulpKRYTEyMPf7442ZmtnbtWqtYsaIv00MPPWRlypTxvYZfeeUV69q1q+3d\nu9dSU1Pt3nvv9Y3bzz/LW2+91U6cOGEpKSn5jt1nn31m27dvNzOz+fPnW1hYmK1YscLMzGJjYy0k\nJMT3mnz77betevXqdtNNN1lycrKtXbvWQkNDbceOHb7nXLZsWfvoo48sPT3d/va3v1nDhg1976Hs\n78Ps43Om19+Z3kulgdapWqfmfPzStk7NbbxvueUWMzObNGmSdevWzTfv2rVrLSIiwtLS0iw5Odnq\n16/vy79y5UqLjIy09evX+/JWqVLFFi1aZGZmKSkpVrt2bVuwYIGZmSUkJPjWiYcPH7aPPvrIUlJS\nLCkpya6//nobPHiw73FjYmKsadOmtn37dktMTLSWLVta8+bN7auvvrKMjAy75ZZb7Pbbbz9tLC67\n7DJLSEiw3bt3W7NmzfL8+QYFBfnGLb+f86FDh/J93+cGsIEDB06wnF0z5w12lkUUzv/rXOW10rzj\njjvs0Ucf9U0nJSVZ2bJlbefOnTZp0iS75JJLTpu/fv36uf5QvvrqK2vevLktXrzYMjMzT/ueM600\nmzdvbrNmzTrjc/h5RRIREWGhoaEWFBRkDz/8sO/+77//3qKjo0/7nueff973ImvUqJF98cUXvvve\neeedX600J0yYUODl9ejRw0aPHm2HDh06bZ7x48dbt27dbPXq1b96DtlXJr1797Z//etfvvs2btxo\nZcqUsYyMDN8viL179/ru79Spk02bNi3XsRk2bJi9/PLLtn//fmvevLk9+uij9tZbb9n27dstIiIi\n18fPa6V51113+aY/++wzu+CCC3J9zII+zwkTJlizZs189/34448WFBRkBw8e9N1WrVo134p9+PDh\np62ok5KSLDg42Pbs2WNmp680K1SoYNu2bfPNu3DhQmvYsGGueQtSRJ999lnf/W+++aZdccUVZmb2\n1FNPnZYpOTnZypYt63sNX3DBBfbVV1/57t+7d++vfpY/l8MzjV1OgwcPttdee83MsopoWFiY7z12\n7Ngxc87ZkiVLfPO3b9/eZsyY4XvOXbt29d2XmZlptWvXtu+++87M8i+i+b3+zvReKi6MplC+zoXW\nqVqn5nz80rZOzW+8jx07ZhUrVrRdu3aZmdmTTz5pd9xxh5mZTZs2zffH2c/uuecee+qpp3x5b731\n1tPuj46OtrFjx/r+MMvLihUrrGrVqr7pmJgYe+6553zTf/zjH61///6+6VmzZtnFF1/sm3bO+f4w\nMsv6PdCnTx8z+/XPN/u45fdzPtP7Pjd5FdHzPkbUHw/D2Lt3L+3b/3Lx/goVKlC1alXi4uLYu3fv\nr3a31atXL9fl9OrVixEjRvDAAw+wa9currnmGv72t7/5DoLPz+7du2nUqFGB8jrnOHz4MACvvvoq\nU6ZMIT09nZCQEHbu3ElcXJxvl4iZkZmZSY8ePXzPNXv+3HYlZr//TMsbP348I0eOpEWLFjRq1IhR\no0YxYMAAhg0bxp49exgyZAhHjx7lpptu4rnnnvvV8VF79+4lOjraNx0dHU16ejoHDhzw3ZZ9d1BY\nWBhJSUm5jkvPnj2ZOXMmdevWpWfPnsTExDBp0iTKlSt32q6+gqhVq1aBHvOWW24p0PPM+Tx+vt5u\nZGTkabdlf5zsP5ufX5N79+6lbt26vtsPHjzI8ePHT3v9ZmZmntfxTnk995zvhbCwMKpVq+ab3rlz\nJ1dffbXvOCYzo0yZMqf9LLO/tnKO3c0338yzzz5LcHAws2fP5qmnnmLTpk1kZmZy4sQJWrdu7fve\natWq+Y5D+3ksa9So4bs/v7F0zlGvXj327t1boPHI6/VXkPdScbC/+N9KVevU02mdWnLXqfmNd+3a\ntenfvz9Tp07l4Ycf5v3332fcuHFA1utg8eLFp70OMjIyuOWWW3LNC/Dhhx/y9NNP8+ijj9KmTRue\nf/55unTpwokTJ3jwwQeZM2cOCQkJmBlJSUmnHa+bc6xyTuf8eWR/zUZHRxd4fVnQ3x85H+NslMhj\nROvUqcPOnTt908nJyRw+fJi6detSu3Ztdu/efdr8e/bsyXNZI0aMYOnSpaxbt46NGzfy0ksvAWc+\nI69+/fps3bq1wJl/foE9+OCDlCtXznccSv369WnUqBHx8fHEx8dz5MgRjh49yqxZs3zPNXv+3I6R\nyZ71TMtr3LgxU6ZM4eDBgzzyyCNce+21nDhxgpCQEEaOHMnatWtZuHAhn3zyyWnH6/ws59jv3LmT\nMmXKnPYmKaiePXvy7bff8s0339CzZ0+6devGggULfNO5Od+D6oODgwv0PM9F9tddUlIS8fHxp60w\nIWulGxYWxtq1a30/o4SEBI4ePZrrMitUqMDx48d909mP2zuTnO+F48eP+355A0RFRTF79uzTXivJ\nycnUrl3bN0/28c45drNmzWLSpEmkpqZy7bXX8sgjj3Dw4EGOHDnCFVdccV7lOntuM2PPnj2/Gsuz\nVbt27TO+l0orrVNPp3VqwQXaOvVM4z106FCmTJnC4sWLOXnyJDExMUDW6yAmJua010FiYiKvv/66\nb1k5x7J9+/ZMnz6dgwcPMmjQIK6//noA/va3v7F582aWLFlCQkKC7xJmhbXO3LVrF3Xq1DnnZcGv\nf39A/u/7/AR8EU1NTeXkyZO+r4yMDIYOHcp//vMfVq9ezcmTJ3niiSfo0qULUVFRDBgwgDVr1jBz\n5kwyMjJ4/fXXT/vLMrulS5fyww8/kJ6eTmhoKOXLl/dtHapZs2a+1yi78847GTlyJFu2bAHgxx9/\n5MiRI7nOm/PF9dhjj/Hiiy+SmppKp06dqFSpEmPGjCElJYWMjAzWrl3L0qVLAbjuuut4/vnnSUhI\nIC4ujjfeeCPf8TrT8t577z0OHToEQOXKlXHOERQURGxsLGvWrCEzM5OKFStSpkyZXP+iHTp0KC+/\n/DI7duwgKSmJJ598kiFDhpy2Va2gmjRpQmhoKO+++y49e/akUqVK1KxZk48++ijPlWbNmjXZs2cP\naWlpBX6c7Ar6PHNzpuf22WefsXDhQlJTUxk5ciRdu3b91crAOcddd93Fgw8+6DugPy4ujrlz5+a6\nzLZt2zJ//nx2797N0aNHeeGFFwqUFeDaa6/lk08+YeHChaSlpTFq1KjTnsM999zDE0884ftFfPDg\nQWbOnJnn881r7FJTU0lNTSUyMpKgoCBmz56d5/MpqGXLljF9+nQyMjJ4+eWXKV++PJ07dz7j9+X3\nM7r++uvP6r1UUmmdqnVqdqVtnXqm8e7fvz87d+5k1KhR3HDDDb7vu/LKK9m0aRPvvvsu6enppKWl\nsXTpUjZu3Jjr46SlpTFlyhQSExMJDg6mUqVKvnFJSkoiNDSU8PBw4uPjGT16dIHGKz8vvfQSCQkJ\n7N69m1dffZUhQ4ac1/LO5n1/JgFfRAcMGEBYWBihoaGEhYXx17/+ld69e/P0009zzTXXULduXbZv\n387UqVOBrF2AH3zwAQ8//DCRkZFs2LCBDh06UK5cuV8tOzExkbvuuouqVavSsGFDIiMjefjhhwG4\n4447WLt2LVWrVuWaa64BTv9r56GHHuL666+nb9++VK5cmTvvvJMTJ07k+hxy/pU0YMAAqlatyttv\nv01QUBCffPIJK1eupGHDhtSoUYO77rrLd9bkqFGjqFu3Lg0bNqRv375cd911pz2XnMs+0/I+//xz\n31l8f/jDH5g2bRrlypVj//79XHvttVSuXJlWrVrRq1cvbr755l89xu23386wYcPo0aMHjRs3Jiws\nzHcmZm55zvTXds+ePYmMjPT9lfvzyrJdu3a5LuOyyy6jVatW1KpV67RduwVV0OeZmzM9txtvvJHR\no0dTrVo1VqxYwbvvvpvrvC+++CJNmjShS5cuVKlShb59+7Jp06ZcH7NPnz7ccMMNtG7dmo4dOzJw\n4MB8M2TXsmVL3njjDYYOHUqdOnWoVq3aabtWfv/73zNo0CDfa/iSSy7hhx9++YjgnMvOa+wqVqzI\na6+9xnXXXUfVqlWZOnWq76zovJxpLAcNGsS0adOIiIjgvffe46OPPvKtxPN7zvkt90zvpdJC61St\nU0vzOvVM4122bFmuueYa5s2bd9r1cStWrMjcuXOZOnUqderUoU6dOjz22GN5np0PWVctadiwIVWq\nVGHs2LFMmTIFgAcffJDjx48TGRnJJZdcQv/+/fMdh4IYNGgQ7du3p127dgwcOJDbb7891/kKuuyz\ned+ficvvLw7nnJ3PpuBAYGbUq1ePKVOm5PkXYSD597//zbRp0/j666+9jiLZ5Haxbjk3f/3rX9m6\ndWuh7d7Li95L50brVCkOWqcWXFBQEFu2bCnwMdbnoiDve+ccAwcOnDhz5szhp+UrslR+bO7cuRw9\nepSTJ0/y7LPPAtClSxePU52b/fv3s3DhQsyMjRs38ve//923NUFECk7vpXOndapI6VNY7/tS+clK\nixYt4sYbbyQtLY2WLVsyY8aMgN0Fl5qayj333MOOHTuoUqUKQ4cO5b777vM6luQQiJ9MUtrovXTu\ntE6V4qZ1asEV1VgV1vu+1O+aFxEREZGipV3zIiIiIuJX8i2iQUFBmXmdlSgiIiIiciYnTpwgKCgo\n113s+RbRSpUqLRw8eHDK1q1bSU9PL5p0IiIiIlLipKens3XrVq6++uq06tWr785tnjMdI1quSpUq\nr6anp9+enJxcRseLioiIiEhBOOeoUKHCyapVqy5r1arVdyEhIRVnzpz5QPZ58j1r3sxOXnXVVb8D\n9gANgYNAZtFFFhEREZESpgxQG/gw5x35bhH92VVXXVUBuAloSim95JOIiIiInJMTwALgs5kzZ55W\nPAtUREVERERECpsu3yQiIiIinlARFRERERFPqIiKiIiIiCdUREVERETEEyqiIiIiIuIJFVERERER\n8YSKqIiIiIh4QkVURERERDyhIioiIiIinlARFRERERFPqIiKiIiIiCdUREVERETEEyqiIiIiIuIJ\nFVERERER8YSKqIiIiIh4QkVURERERDyhIioiIiIinlARFRERERFPqIiKiIiIiCdURKXIOOfGOecO\nOOdW5zPPa865zc65lc65tsWZT0RERLylIipF6T/A5Xnd6Zy7AmhsZk2Be4B/F1cwERER8Z6KqBQZ\nM/sOOJLPLIOASafm/R6o7JyrWRzZRERExHsqouKlusDubNNxp24TERGRUkBFVEREREQ8EeJ1ACnV\n4oD62abrnbrtV5xzViyJRERKGDNzXmcQyYuKqBQ1d+orNzOBB4BpzrkuQIKZHchrQWbqogCjR49m\n9OjRXsfwCxqLX2gsfhEoY2EGsfPTeWXacn7Yuon9B09CyElCG6yhYrUEDtZ6H8wR7IIZXOsPXFg/\nitByIbSp25KejTtSNrgswUHB+T6Gc+qg4t9URKXIOOemADFANefcLuAvQFnAzGysmX3mnOvvnNsC\nJAO3eZdWRKRw/fQT/PADzJsHa9bAwYOwat1xwhqt5GSDGWQ0/xCqbsVFluOC6G70ahBN5QrlyLRM\nLqp5Ca1r3kuP6B5ePw2RIqUiKkXGzG4swDwjiiOLiEhRyMyEjRth/XpYuhS2bYMTJ2Dmp6kQvofq\nF62iSutvqdkrjfTQZZC4iPLlq9G9TicGNvsD1194HTUq1PD6aYh4RkVUJMDExMR4HcFvaCx+obH4\nRVGNxY8/wu7dsGoVbNoEy5Zl3Ub5I7TuHkeFelup1nIPP1X6EtpNp3xIeUIr1KBdva5cUv8Syga3\n4jeNJtO4auMiyScSiJyOu5NA4JwzvVZFpDhlZMD778OkSbB6NRw4AH37Qnq5A1Rvtxir9x3rUuax\n5vAK6ofXJyI0ggZVGtClbhf6NelH21ptPT9G0zmnk5XEr6mISkBQERWRopaSAsuXw86dWcd2vvIK\nUC6Rfo+8R5VGmzledgczN38MQI/oHtSpVIfOdTtzb4d7KR9S3tvweVARFX+nIioBQUVURArbqlUw\naxbMmZN1fGdKCoRWyKDJZd9youlkDkZ8ytGMA4SXC+f+DvdTNbQql0ZfSue6nT3f0llQKqLi71RE\nJSCoiIrI+dq7F6ZMgT174N134fBhuOwyaNZ9DXU6LOGAW8Uby14F4MpmV3LzRTdzZbMrqVC2gsfJ\nz52KqPg7FVEJCCqiInKu1q6Ff/wDxo+Hdu2g7+VGRKulZNb/hrEr3mR7wnYGNR9E1dCqtKvdjrvb\n303Z4LJexy4UKqLi71REJSCoiIpIQZnBp5/CjJlG7OIjbEleTrd++0hvNZEV8d+SmpFKSFAIN150\nI82rNed3nX9HxbIVvY5dJFRExd+piEpAUBEVkbzsO7aPlXEbmLN2Ed+vSuD7HauhXCKhtbdzPHg/\n1UNr0Ll+J2pXrM1DXR8iqnIUoSGhAXOc5/lQERV/pyIqAUFFVEQAMi2TSasmMWvpchZuXcWRoE2c\nDD4ESbUISWhJVNk2dGoWzQ39oqhbuRbNI5sTXi7c69ieUREVf6ciKgFBRVSk9DEztsRv4etNS9gW\nd4w58+NZVe51LCQZlt1Nx4YtuLxDU7pGd6Rb5/JUrux1Yv+jIir+TkVUAoKKqEjJlpGZwftr3udA\n0gFWHVjFgl0L2JawLevO/a2pdOJCqpavzsAuLXlq8J1UDg8iKMjbzIFARVT8nYqoBAQVUZGSY/fR\n3ew9tpeNhzeyI2EHW+K3MHn1ZDBHyxP3cGRvVfb92Bw2X0GfS6rzxz9Cv35epw5MKqLi71REJSCo\niIoErtSMVDYe2siqA6t4/rvnWXdwHVEVmnEyoQrBh9qQfCiCpPXd6V5jAH16B9GsWdb1PatVg1Jw\nPlGRUhEVfxfidQARESlZtsRvYcaGGexP2s+OI7v534ZpOByRae2ocmQAIZO/Y9exCAYMgP79oXXr\nrOt7hoV5nVxEipu2iEpA0BZREf9mZnyz8xuG/u9G9ifvo+7J3sRvbMmJ3S2oktaK1uE9qVEDYmKg\nWTPo3h1CQ71OXfJpi6j4O20RFRGRs5J4MpEFuxaw8+hOvt31LXGJcWw5vJW4pD0QO4qo3Y8R0y2U\n31wNV14JlStrF7uI5E5FVERE8pWemc4PcT8wedVkZm2aRdyxOGpWqEnbqt0pk1YdfrySuOmNaFap\nA++/F0y7dl4nFpFAoV3zEhC0a16keCSeTGTT4U3M3DiTFftXkJSaROyOWKqHVefCiE60SLmNtZ/0\nYtOqquzfD926QdWq8NvfQp8+2vLpb7RrXvydiqgEBBVRkcJnZhw6fojktGSmb5jOO8vfYe3BtVQI\nqUjTCp1pmHYlh9e1YtOqauxf2RYsiM6doWtXGD4cGjeGiiXzI9pLDBVR8XcqohIQVERFCs+h44eY\nv+M7nvxyFBuO/EiEiyIoM5TEH64mLfZh6kdW5fhxuPRSiIqC3/wGOnSAmjW1xTPQqIiKv9MxoiIi\nJZCZcSz1GMmpyWyO38ymw5v4ctuXfLnlGw6f3A+JdWBvB6KXLSS6dkUuuQSa/B/c/DGUK+d1ehEp\nLbRFVAKCtoiKnNmMDTNYd3Adqw6sYvqG6ZzMOEnNCjVJOH6Meukx7N9cl+SlV9M9ujszP6hERITX\niaWoaYuo+DsVUQkIKqIip8vIzGDNT2tYvGcx41aMY8neJTgcN7W+ifqVoqmR1oUFE/rxv/+G4BwM\nHQo9esCtt0L58l6nl+KiIir+TkVUAoKKqJRmKekpHDt5jBPpJ5i0ahLf7vqWuVvnAtCrQS9aVm9F\nTNk/Mun1eqxfG8KWLVnf1749jBuX9clFOrazdFIRFX+nIioBQUVUSptNhzcxZ8scZm6ayZfbvqRa\naDVCgkIILxvBpWV+R9mDndjybXu+/PKX77n6anjgAbjwwqwTi0RURMXfqYhKQFARldJga/xWxiwY\nw4LdC1h7cC2d63bm0voxRB8ZzsYFLfjkE9ixI+uySV26QO/eWf82bQohOvVUcqEiKv5ORVQCgoqo\nlDRmxudbPmfxnsWkZqSycM9C5u+cT+eaPelf605qx1/PV1+UZepUqFULBg+Gzp1h4ECoVs3r9BIo\nVETF3+lvaBGRIpZpmSzbu4zl+5YzZc0UDh0/xLqD66hbqS4XVLwEDrQl+adBhH8ynu93NCa9PZhB\nTAysXg0XXeT1MxARKRraIioBQVtEJZCkZ6azYNcC5u+cz0cbPmLl/pUAdK3dk/Cj3UhedhVx6+ux\nfXVdgoOzdq/36QMtW8KgQbqOpxQebREVf6ciKgFBRVQCQVxiHC989wKvL3mdMkFluKrZ1USmtqPW\n0UGs+qrQC5YXAAAe/klEQVQ50z92tG+ftaWzT5+ss9qrV/c6tZRkKqLi77RrXkTkPGyN38rk1ZP5\n5w//JP5EPG1C+zMkaTHrv+jMh6ugSpWsj8e86CKYPz/rYzNFRCSLtohKQNAWUfEnu47u4q2lb7Fg\n+1K+iZtL+OFeJC4ZCEsegIyy3Htv1tbOPn2gQQOv00pppi2i4u9URCUgqIiKV8yM2B2xrD+0nl1H\nd/HK4lc4mXGSWqnd2P/11VxYuTsjBnfmssugYUMICsr6EvEHKqLi77RrXkQkh5+Sf2LMgjFsOryJ\nWZtmAVD38E3s21SHzK3TqZnUl86dg3j6LZ3RLiJyPrRFVAKCtohKUftmxzdsjt/M/J3zmbx6Mi0r\ndyRkxf2snteKGmkduf12uOYaaNMGypb1Oq1IwWiLqPg7bREVkVItPTOdMd++zJOxj1Dn8I0k7qsO\ny+eyNe439OgB89+Hrl31yUUiIkVBq1YpUs65fsArQBAwzsxezHF/OPAuEAUEA383swnFnVNKl4+X\nLGbaogUcTDrMktRJHEtLpOLs2XSK7sdvfwtt20LVql6nFBEp+bRrXoqMcy4I2AT0BvYCS4AhZrYh\n2zyPA+Fm9rhzLhLYCNQ0s/Qcy9KueTkv8+cbz38wl4WJ00hs9B8i9l5LvXItaRTRlBsuuJGhQ3SG\nkZQ82jUv/k5bRKUodQI2m9lOAOfcVGAQsCHbPAZUOvX/SsDhnCVU5FzFJyXx3oJYPl4+n68T36Js\nRAitoy7j7wN/pEeLC72OJyJS6qmISlGqC+zONr2HrHKa3evATOfcXqAicEMxZZMSaGv8Vt6fv4Sx\n8+awO20V1F4Bx6sRmdyT4c3/ztj7b6VMcBmvY4qIyCkqouK1y4EVZnaZc64x8IVzrrWZJeWccfTo\n0b7/x8TEEBMTU2whxX+NXzGeiUv/y+b9e9mX+SPsa0vzqq0Y0+MRBrRrwwXVW+Cc9kxK6RAbG0ts\nbKzXMUQKTMeISpFxznUBRptZv1PTjwGW/YQl59wnwPNmtuDU9DzgUTNbmmNZOkZUfL7e/jV//XAa\nC+Onk1buAMx9iSahnfi/S9px/50ViYryOqGIf9AxouLvtEVUitISoIlzLhrYBwwBhuaYZyfQB1jg\nnKsJNAO2FWtKCQibD29mdOxTTFnzbtYNq4YxvMcYbu9yLRf+LoyICG/ziYjI2VMRlSJjZhnOuRHA\nXH65fNN659w9WXfbWOAZYIJzbvWpb3vEzOI9iix+Ji4xjvd+fI8P1n7A0n1LYVN/ym16j3///v8Y\n+lg5ypXzOqGIiJwP7ZqXgKBd86XLxJWTeCH2FTYcXUEj+hD3TT9Yfw33D23I009DhQpeJxQJDNo1\nL/5ORVQCgopoyZVpmRw7eYwNhzbwt2/+zfQN00kPSYB5z9Kx7K3UCqvL5ZfDffdBkC71KXJWVETF\n36mISkBQES154k/E849F/+DZb58FwKVVwHZdQqWN9zLhz1cwqH8owcEehxQJcCqi4u9URCUgqIgG\nvo2HNjJuxTi2HtnKR+s/AqBmcDMOf/4AEVse4NWXg+nTB6pX9zioSAmiIir+TicriUiRWvPTGu79\n5F4W7F5A38Z96d9oMNv/ez8rPrwMajrefgFuuUW73UVESiMVUREpEkdTjjJ22Vge+fIRLkwfTpNP\nPmDuytrMBa64AhISoHJlr1OKiIiXVERFpFCZGW8u+RcjZj9A2eQG8PFnVK9/BQNvgWumQ926EKI1\nj4iIoCIqIoVo9qqlXPVRL9KDkuDD97i/9408s1KXWxIRkdzpZCUJCDpZyT+ZwVOzxvP+0s/YmPkZ\nlDlBnYT/479DJ9Ktk9qniNd0spL4OxVRCQgqov4jIzODcSvGMX7JFJbuXUpGWjDRB0bwh743MOK6\niwgO1u88EX+hIir+TrvmRaRAdh/dzWPzHmPKj1MIpgwZ3zxKg0NTePW5Glx1pVYlIiJy9vTbQ0Ty\n9P2e75m7dS6fb/2c7/f8QNP0a6g9bx77FvbinXccd9zhdUIREQlkKqIi8ivL9y3ngc8eYPGexfSL\nvJdDyweS8embRF/cmqF3O4Z+DWXLep1SREQCnYqoiPjsOrqL4dOH8/WOr7kgdRj85w0+39eOW2+F\nGbHQooXXCUVEpCRRERURjpw4wr+W/osnv3qSSvGXwuStpFVrxLf/hW7dwOlUBxERKQIqoiKl1MHk\ng7y44EU2HNrAp5s/pYLVgHfn0KtVX6bthfLlvU4oIiIlnYqoSCmTlpHGmAVj+PPXf6ZCUARN9j0O\ncx6kdkgvXn0tmP79vU4oIiKlhYqoSClx5MQRJq+ezO8//z21yzVm4JEvmfVqbwY8Aa9PhO7dvU4o\nIiKljYqoSAm27cg2vtz2JWOXjWXZvmVcFHkxF2+dyorJN1DjDvjhB+jY0euUIiJSWqmIipQgq/av\n4rtd3zF59WS+j/segA41uxIcF0OX5dNY/FljLr8cNm6EZs08DisiIqWePuJTAoI+4vPMZm+eTf8p\n/bm88eW0rdWWtu5Wnv59C9atdbRpA7fdBkOGQM2aXicVkeKij/gUf6ctoiIBLtMy+e/a/zL0w6FM\nHDyRmy+6hZtvhhffh8svh89nQ/36XqcUERH5NRVRkQCVaZl8sPYDRn49ks3xmxk34F0aJt5EuXIQ\nGQl79kDdul6nFBERyZt2zUtA0K75XxxPO87YZWN5Z/k7HDlxhDYZ95D21eN8OacMtWrB1VfD669D\nUJDXSUXEa9o1L/5ORVQCgooopKSnMGvjLO6adRfJacn8X50/MO3ep6hSsTz33Qc33QStWnmdUkT8\niYqo+DsVUQkIpbmILolbwoLdCxizYAwnUjK4MO1OMr94loUL4dln4eGHoUwZr1OKiD9SERV/p2NE\nRfzUnsQ93DXrLj7f8jlN0/+PffP+SNjqPxA1KIiW/WHqVJ2EJCIigU1FVMSPLNi1gCe+eoL5O+cD\n0CuqDy0/2096Qk1mvARXXqljP0VEpOTQrzQRPzFu+Ti6/6c7HWp3YNaAFQxclcLXt39BlZCarFsH\nV12lEioiIiWLtoiK+IGJKydy56w7mdRvJnFfD+SOl7M++WjNGp2AJCIiJZdOVpKAUBJPVsq0TNb+\ntJZRsaOYvmE6v9k7jy/GXkaHDnDttfCnP0FwsNcpRSSQ6WQl8XfaIirigaV7l3Ldf69jV8JewhI6\nwH92k9SqHj/8AB07ep1ORESkeKiIihSzyasmc+v0W7EFf4R5z/Hq22Xo9gM0b+51MhERkeKlIipS\nTI6nHec3bw1h4eFZ8MmbjL37Pu6a63UqERER76iIihSxbdvghamxTEgaQlpiBPdW3sSfpzfV58CL\niEipp5OVJCAE4slK6ZnpTP5sE7f/bwQ0/JoePMGU+/5M3RqhXkcTkVJCJyuJv9MWUSlSzrl+wCtk\nXbN2nJm9mMs8McDLQBngoJn1KtaQRcDMaDimNXtOrqdpi0v46v7d1Auv53UsERERv6IiKkXGORcE\nvA70BvYCS5xzM8xsQ7Z5KgNvAH3NLM45F+lN2sKTkQEXPX4/e0I38XbDE9w5vLzXkURERPySiqgU\npU7AZjPbCeCcmwoMAjZkm+dG4EMziwMws0PFnrKQHEg6wD8W/JN/zJtMevn9/PfyBVx3iUqoiIhI\nXlREpSjVBXZnm95DVjnNrhlQxjn3NVAReM3MJhdTvkIzfsV47ph5B9VSOtJwx1MsGj+YahUrex1L\nRETEr6mIitdCgHbAZUAFYJFzbpGZbfE2VsFNXTOVO2beQbu4sSx/+y7W7INqFb1OJSIi4v9URKUo\nxQFR2abrnbotuz3AITNLAVKcc/OBNsCviujo0aN9/4+JiSEmJqaQ4569x758jBcXvAhTZlKu2kDW\nrYNatbxOJSKlVWxsLLGxsV7HECkwXb5JioxzLhjYSNbJSvuAH4ChZrY+2zwtgH8C/YBywPfADWa2\nLsey/O7yTUv3LqXj2x0p/+WbvHLzfdxzj9eJREROp8s3ib/TFlEpMmaW4ZwbAczll8s3rXfO3ZN1\nt401sw3OuTnAaiADGJuzhPqj5NRkLh3fE5bcx8DaKqEiIiLnQltEJSD42xbRoR8OZd7CeK5P/ZzX\n/6mNDSLin7RFVPydtoiKnKXvdn3H1DVTYdxO7vha63cREZFzpSIqchbMjOEf3U3okidpf1EUbdp4\nnUhERCRwBXkdQCSQDJ16Jzv2HaXtsceZPx+C9A4SERE5Z9oiKlJAy3atY9qGifTevINP5lTAaa+8\niIjIedHJShIQvD5ZKdMyafjUpexdfCmpn72gEioiAUEnK4m/0xZRkTNISU+h3d+uZNexbXz6x7kq\noSIiIoVER7iJ5GN/0n4ufbs3m3cn8OYFm+nfp4LXkUREREoM7ZqXgODFrnkzo8ErjTi0/gJ6H/qQ\nGR+GamuoiAQU7ZoXf6dd8yJ5iN0Ry67EHbRcuIWPVgarhIqIiBQy7ZoXycOt02+l3NI/8d67wYTo\nTzYREZFCpyIqZ8U5F+Scu8nrHEXt30v/zU+JCURvflEXrRcRESkiKqKSK+dcuHPucefc6865vi7L\nb4FtwPVe5ytKiScTeWjOQ5x8/13+MipIu+RFRESKiE5Wklw552YAR4BFQG+gBuCA35vZSg/yFNvJ\nSnd8fC8zvjxI6/Uf8uWX+vQkEQlcOllJ/J2OfJO8NDKziwCcc+8A+4AoM0vxNlbRenb+s4xf/Rat\nVu1g2scqoSIiIkVJRVTykvbzf8wswzm3p6SXUDPjz1//GSZ8zaex0VSv7nUiERGRkk1FVPLSxjmX\nSNbueIDQbNNmZuHeRSsaU36cAkDTMjFERXkcRkREpBRQEZVcmVmw1xmK0/6k/Qz7eBjMf4K5c9EJ\nSiIiIsVARVRy5ZwrD9wLNAFWA+PNLN3bVEXn3k/upVXZ/rSq/iwNGnidRkREpHTQqRiSl4lAB+BH\noD/wd2/jFJ3tR7YzY+MMjs37HYMGeZ1GRESk9NDlmyRXzrkfs501HwL8YGbtPMxTZJdvGvj+QPZt\nq0bYnAnExupMeREpOXT5JvF32jUvecl+1ny6K6EHTX6781u+2PoFlSdu4aMJKqEiIiLFSUVU8tL2\n1FnykHWmfIk8a/7D9R/SOvmPVKhXj27dvE4jIiJSuqiISl5WmdnFXocoSqkZqby36n0OTZ7F+i+9\nTiMiIlL6aEek5KXEHzz86aZPcUl1GP6bTrRo4XUaERGR0kdbRCUvNZxzD+V1p5n9ozjDFIVXvn8F\ni+vEddd5nURERKR0UhGVvAQDFfnlk5VKlI2HNjJ/53z44kXaPed1GhERkdJJRVTyss/MnvI6RFF5\nf837tA67gozKXahVy+s0IiIipZOKqOSlRG4JBci0TN5e/jYtt0ziitu9TiMiIlJ66WQlyUtvrwMU\nldmbZ5OUmsSPM3vRu8Q+SxEREf+nT1aSgFCYn6zUZ1IfIoOaMm3Yv8jI0EXsRaTk0icrib/Tr2Ap\nVQ4fP8y87fNosO8hrr1WJVRERMRL+jUspcq4FePo37Q/8z9uytVXe51GRESkdFMRlVJjT+IeHv3y\nUS4r+xiLFsEll3idSEREpHRTEZVS49ud39KiWgveeORSnnwSGjTwOpGIiEjppiIqpca0tdNoHtyP\npCT4y1+8TiMiIiK6jqiUCpmWyYyNM+ixbiW/+x2UKeN1IhEREdEWUSlSzrl+zrkNzrlNzrlH85mv\no3MuzTl3TVHkWBK3hLAyYcz/4EJuuqkoHkFERETOloqoFBnnXBDwOnA50AoY6pxrkcd8LwBziirL\nkr1LaF42BixYx4aKiIj4CRVRKUqdgM1mttPM0oCpwKBc5vst8D/gp6IKsjNhJwlbmzFiBDhd2llE\nRMQvqIhKUaoL7M42vefUbT7OuTrAYDP7F0X0+fYZmRn8b/3/qLCvH127FsUjiIiIyLlQERWvvQJk\nP3a00Mvoxxs+5mjKUdbM6EuPHoW9dBERETlXOmteilIcEJVtut6p27LrAEx1zjkgErjCOZdmZjNz\nLmz06NG+/8fExBATE1OgEAt3L6RW/LVUaeioV++s8ouIBJTY2FhiY2O9jiFSYM7MvM4gJZRzLhjY\nCPQG9gE/AEPNbH0e8/8HmGVmH+Vyn53La9XMiHolij2vvM/med1p0uSsFyEiErCcc5iZjowXv6Ut\nolJkzCzDOTcCmEvWYSDjzGy9c+6erLttbM5vKewMOxJ2cODYQUL2d6Vx48JeuoiIiJwPFVEpUmb2\nOdA8x21v5THv7YX9+J9u/pQyCRdw3dBgnS0vIiLiZ1REpUSbsngex5dex9PveZ1EREREctJZ81Ji\nxZ+IZ9GR6dzeaQj163udRkRERHJSEZUSa96W+QTHdeeh2xp5HUVERERyoSIqJdbrcz6lRlpHWrXy\nOomIiIjkRkVUSiQzY/GBrxnY6jdeRxEREZE8qIhKifTJkjWkVtzK40N7eh1FRERE8qAiKiXS21/N\nITphGA3qhnkdRURERPKgIiol0tr45VxUp/mZZxQRERHP6DqiUuLsTNjJtgrvM7LZVq+jiIiISD60\nRVRKnDv/9xBBB9pyU39dtklERMSfaYuolCiJJxP5Mu4jriw7lzJlvE4jIiIi+dEWUSlR1v60Fg5c\nyJNDdNkmERERf6ciKiXKF8u2wNEo2rf3OomIiIiciYqolChT1kyhQZ1w7ZYXEREJACqiUmKYGbtP\nrqZLmbu9jiIiIiIFoJOVpMRYtGcRx0P2cm3bGK+jiIiISAFoi6iUGJ+s+xIW/47Bg53XUURERKQA\nVESlxJi+Mpawk40IDvY6iYiIiBSEiqiUCIePH2ZT8g/cH3Ot11FERESkgFREpUSYvn4WbvelDLqs\nrtdRREREpIBURKVEWLFlH2USm9K9u9dJREREpKBURKVE+Gjbf6gd1sDrGCIiInIWVEQl4G0/sp19\nqZuJqXyr11FERETkLKiISsD7YtsXRBwcQMcLq3kdRURERM6CiqgEvO92LuDI7pp07ux1EhERETkb\nKqIS8L7ZvAx29uDii71OIiIiImdDRVQCWkp6CrtS1nJnnxivo4iIiMhZUhGVgLZk149wrBZXXhrt\ndRQRERE5SyqiEtA+XLSUcvt7MGiQ10lERETkbKmISkCL3fw9zSt28TqGiIiInAMVUQlYiScTWWXv\n0bulzlISEREJRCqiErD+vuAVSK7OM3fGeB1FREREzoGKqASsbzasouLqPxIW5nUSERERORcqohKw\nFv30JYPb9PY6hoiIiJwjFVEJSHGJcaS6RK7sdKHXUUREROQcqYhKQJqx7jPYdQmXdgvxOoqIiIic\nIxVRKVLOuX7OuQ3OuU3OuUdzuf9G59yqU1/fOecuKshyP1y8hBqJV1CnTuFnFhERkeKhIipFxjkX\nBLwOXA60AoY651rkmG0b0MPM2gDPAG8XZNnfH/6c9tUvLcy4IiIiUsxURKUodQI2m9lOM0sDpgKn\nfQaSmS02s6OnJhcDdc+00PTMdJJDdnNlu/aFHlhERESKj4qoFKW6wO5s03vIv2jeCcw+00Lnbp1L\n8PE6dG1f8TzjiYiIiJd0pof4BedcL+A2oHte84wePRqA2Ru+ImNPa1o9XTzZREQCRWxsLLGxsV7H\nECkwZ2ZeZ5ASyjnXBRhtZv1OTT8GmJm9mGO+1sCHQD8z25rHsuzn12qPN69hw6e/4adP7yvS/CIi\ngc45h5k5r3OI5EW75qUoLQGaOOeinXNlgSHAzOwzOOeiyCqhw/IqoTn9eGQRF5TpV+hhRUREpHhp\n17wUGTPLcM6NAOaS9UfPODNb75y7J+tuGwuMBKoCbzrnHJBmZp3yWmZCSgIJ6fu5qH6DYngGIiIi\nUpRURKVImdnnQPMct72V7f93AXcVdHmLdi8iLDWatm20p0lERCTQade8BJSNhzcSltCexo29TiIi\nIiLnS0VUAk5afD3CwrxOISIiIudLRVQCyuHjh0k/EUrlyl4nERERkfOlIioBJTntOMlJjpo1vU4i\nIiIi50tFVALKtkO7CUmOJiLC6yQiIiJyvlREJaD8uHsH4WW1X15ERKQkUBGVgJKUfpSLG+iUeRER\nkZJARVQCypH0OFo3qeZ1DBERESkEKqISMA4mHyTNJdOuSZTXUURERKQQqIhKwPhk42xIjqTtRWW8\njiIiIiKFQEVUAsaRhEzY2YNWrbxOIiIiIoVBRVQCxoptu6iU3hinj5kXEREpEVREJWBs+GkLjeuH\nex1DREREComKqASMwycOUyu0ntcxREREpJCoiErAiLdt1I+s6nUMERERKSQqohIwEoO3Ui+0udcx\nREREpJCoiErAsKA0OjaN9jqGiIiIFBIVUQkojaPLex1BREREComKqASOpBpU06d7ioiIlBgqohI4\n0ioQEeF1CBERESksKqISMIItlCC9YkVEREoM/VqXgFE2rYbXEURERKQQqYhKwKhRNsrrCCIiIlKI\nVEQlYFQsH+p1BBERESlEKqISMMoElfM6goiIiBQiFVEJGC2qtfA6goiIiBQiFVEJGNXK1fI6goiI\niBQiFVEJGJER+lQlERGRkkRFVAJG5UrBXkcQERGRQqQiKgEjKqKO1xFERESkEKmISsCIrFjF6wgi\nIiJSiFREJWC0aKAPmhcRESlJnJl5nUHkjJxzlpFh+qx5EZGz4JzDzJzXOUTyol/rEjBUQkVEREoW\n/WoXEREREU+oiEqRcs71c85tcM5tcs49msc8rznnNjvnVjrn2hZ3RhEREfGGiqgUGedcEPA6cDnQ\nChjqnGuRY54rgMZm1hS4B/h3sQcNMLGxsV5H8Bsai19oLH6hsRAJHCqiUpQ6AZvNbKeZpQFTgUE5\n5hkETAIws++Bys65msUbM7Dol+wvNBa/0Fj8QmMhEjhURKUo1QV2Z5vec+q2/OaJy2UeERERKYFU\nREVERETEE7qOqBQZ51wXYLSZ9Ts1/RhgZvZitnn+DXxtZtNOTW8AeprZgRzL0gtVROQc6Dqi4s9C\nvA4gJdoSoIlzLhrYBwwBhuaYZybwADDtVHFNyFlCQStSERGRkkhFVIqMmWU450YAc8k6DGScma13\nzt2TdbeNNbPPnHP9nXNbgGTgNi8zi4iISPHRrnkRERER8YROVhK/ogvg/+JMY+Gcu9E5t+rU13fO\nuYu8yFnUCvKaODVfR+dcmnPumuLMV5wK+P6Icc6tcM6tcc59XdwZi0sB3h/hzrmZp9YTPzrnhnsQ\ns1g458Y55w4451bnM0+pWG9K4FERFb+hC+D/oiBjAWwDephZG+AZ4O3iTVn0CjgOP8/3AjCneBMW\nnwK+PyoDbwBXmtmFwHXFHrQYFPB18QCw1szaAr2AvzvnSurhaP8hayxyVVrWmxKYVETFn+gC+L84\n41iY2WIzO3pqcjEl8/qrBXlNAPwW+B/wU3GGK2YFGYsbgQ/NLA7AzA4Vc8biUpCxMKDSqf9XAg6b\nWXoxZiw2ZvYdcCSfWUrLelMCkIqo+BNdAP8XBRmL7O4EZhdpIm+ccRycc3WAwWb2L6AkX12hIK+J\nZkBV59zXzrklzrlhxZaueBVkLF4HWjrn9gKrgN8XUzZ/VFrWmxKASupuCpFSwznXi6yrDXT3OotH\nXgGyHyNYksvomYQA7YDLgArAIufcIjPb4m0sT1wOrDCzy5xzjYEvnHOtzSzJ62Ai8gsVUfEncUBU\ntul6p27LOU/9M8xTEhRkLHDOtQbGAv3MLL9dc4GqIOPQAZjqnHNAJHCFcy7NzGYWU8biUpCx2AMc\nMrMUIMU5Nx9oA5S0IlqQsbgNeB7AzLY657YDLYClxZLQv5SW9aYEIO2aF3/iuwC+c64sWRfAz1km\nZgK3gO+Tm3K9AH4JcMaxcM5FAR8Cw8xsqwcZi8MZx8HMGp36akjWcaL3l8ASCgV7f8wAujvngp1z\nYUBnYH0x5ywOBRmLnUAfgFPHQzYj6wS/ksqR996A0rLelACkLaLiN3QB/F8UZCyAkUBV4M1TWwPT\nzKyTd6kLXwHH4bRvKfaQxaSA748Nzrk5wGogAxhrZus8jF0kCvi6eAaYkO2SRo+YWbxHkYuUc24K\nEANUc87tAv4ClKWUrTclMOmC9iIiIiLiCe2aFxERERFPqIiKiIiIiCdUREVERETEEyqiIiIiIuIJ\nFVERERER8YSKqIiIiIh4QkVURCQfzrkM59xy59yKU/9GOed6OucSTk2vdc6NOjVv9tvXOede8jq/\niIg/0wXtRUTyl2xm7bLf4JxrCMw3s6tOfYLRSufcz5/s8/Pt5YEVzrmPzGxRcYcWEQkE2iIqIpK/\nvD42EQAzOw4sA5rkuD0FWAnULbpoIiKBTUVURCR/odl2zX+Y7XYH4JyrRtZnuq/NcXsEWeV0fnGG\nFREJJNo1LyKSv+M5d82fcqlzbhmQCTx/6rPOa5y6fQXQFHjFzH4qzrAiIoFERVRE5NzMN7Or8rrd\nOdcAWOyc+6+ZrS7eaCIigUG75kVE8pfvMaJ5MbMdwPPAY4WaRkSkBFERFRHJn53H975F1q76qMIK\nIyJSkjiz81nHioiIiIicG20RFRERERFPqIiKiIiIiCdUREVERETEEyqiIiIiIuIJFVERERER8YSK\nqIiIiIh4QkVURERERDyhIioiIiIinvh/jWbDvAPmOGEAAAAASUVORK5CYII=\n",
      "text/plain": [
       "<matplotlib.figure.Figure at 0x11852dac8>"
      ]
     },
     "metadata": {},
     "output_type": "display_data"
    }
   ],
   "source": [
    "from sklearn.metrics import roc_curve\n",
    "fpr_under, tpr_under, _ = roc_curve(y_train, under_lg_probs[:, 1])\n",
    "fpr_over, tpr_over, _ = roc_curve(y_train, over_lg_probs[:, 1])\n",
    "\n",
    "plt.plot(fpr_under, tpr_under, label=\"Logistic Regression with simple undersampling\")\n",
    "plt.plot(fpr_over, tpr_over, label=\"Logistic Regression with simple oversampling\")\n",
    "\n",
    "plt.legend(loc='upper center', bbox_to_anchor=(0.5, 1.25),\n",
    "          ncol=3, fancybox=True, shadow=True)\n",
    "plt.xlabel(\"FPR\")\n",
    "plt.ylabel(\"TPR\")"
   ]
  },
  {
   "cell_type": "code",
   "execution_count": 71,
   "metadata": {
    "collapsed": false
   },
   "outputs": [
    {
     "name": "stdout",
     "output_type": "stream",
     "text": [
      "for logistic regression, oversampling has slightly better performance than undersampling (0.1%), but still lower than original by (0.2%) \n"
     ]
    }
   ],
   "source": [
    "print (\"for logistic regression, oversampling has slightly better performance than undersampling (0.1%), but still lower than original by (0.2%) \")"
   ]
  },
  {
   "cell_type": "code",
   "execution_count": 73,
   "metadata": {
    "collapsed": false
   },
   "outputs": [
    {
     "name": "stdout",
     "output_type": "stream",
     "text": [
      "0.784875762092\n"
     ]
    }
   ],
   "source": [
    "from sklearn.ensemble import RandomForestClassifier\n",
    "\n",
    "oversample_pipe = make_imb_pipeline(RandomOverSampler(), RandomForestClassifier(n_estimators=150))\n",
    "\n",
    "scores = cross_val_score(oversample_pipe, X_train, y_train, cv=5, scoring='roc_auc')\n",
    "\n",
    "print(np.mean(scores))"
   ]
  },
  {
   "cell_type": "code",
   "execution_count": 228,
   "metadata": {
    "collapsed": false
   },
   "outputs": [
    {
     "name": "stdout",
     "output_type": "stream",
     "text": [
      "for randomforests, oversampling has slightly lower performance than undersampling (0.1%), undersampling is still lower than original by (0.3%) \n"
     ]
    }
   ],
   "source": [
    "print (\"for randomforests, oversampling has slightly lower performance than undersampling (0.1%), undersampling is still lower than original by (0.3%) \")"
   ]
  },
  {
   "cell_type": "code",
   "execution_count": 312,
   "metadata": {
    "collapsed": false
   },
   "outputs": [
    {
     "name": "stdout",
     "output_type": "stream",
     "text": [
      "0.795096587193\n"
     ]
    }
   ],
   "source": [
    "# try oversampling on calibrated voting \n",
    "\n",
    "oversample_pipe = make_imb_pipeline(RandomOverSampler(), cal_voting)\n",
    "scores = cross_val_score(oversample_pipe, X_train, y_train, cv=5, scoring='roc_auc')\n",
    "print(np.mean(scores))"
   ]
  },
  {
   "cell_type": "code",
   "execution_count": 313,
   "metadata": {
    "collapsed": false
   },
   "outputs": [
    {
     "name": "stdout",
     "output_type": "stream",
     "text": [
      "oversampling is not very helpful on calibrated voting\n"
     ]
    }
   ],
   "source": [
    "print (\"oversampling is not very helpful on calibrated voting\")"
   ]
  },
  {
   "cell_type": "code",
   "execution_count": 290,
   "metadata": {
    "collapsed": true
   },
   "outputs": [],
   "source": [
    "# quick & dirty easy ensemble\n",
    "\n",
    "from sklearn.base import clone \n",
    "from sklearn.ensemble import VotingClassifier\n",
    "\n",
    "def make_resampled_ensemble(estimator, n_estimators=100):\n",
    "    estimators = []\n",
    "    for i in range(n_estimators):\n",
    "        est = clone(estimator)\n",
    "        if hasattr(est, \"random_state\"):\n",
    "            est.random_state = i\n",
    "        pipe = make_imb_pipeline(RandomUnderSampler(random_state=i, replacement=True),\n",
    "                                        est)\n",
    "        estimators.append((\"est_i\".format(i), pipe))\n",
    "    return VotingClassifier(estimators, voting=\"soft\")"
   ]
  },
  {
   "cell_type": "code",
   "execution_count": 291,
   "metadata": {
    "collapsed": false
   },
   "outputs": [
    {
     "name": "stdout",
     "output_type": "stream",
     "text": [
      "0.793031238538\n"
     ]
    }
   ],
   "source": [
    "resampled_tree_test = make_resampled_ensemble(RandomForestClassifier(n_estimators=150))\n",
    "\n",
    "scores = cross_val_score(resampled_tree_test, X_train, y_train, cv=5, scoring=\"roc_auc\")\n",
    "print (np.mean(scores))"
   ]
  },
  {
   "cell_type": "code",
   "execution_count": 632,
   "metadata": {
    "collapsed": false
   },
   "outputs": [
    {
     "name": "stdout",
     "output_type": "stream",
     "text": [
      "0.78347766601\n"
     ]
    }
   ],
   "source": [
    "print (np.mean(scores))"
   ]
  },
  {
   "cell_type": "code",
   "execution_count": 636,
   "metadata": {
    "collapsed": false
   },
   "outputs": [
    {
     "name": "stdout",
     "output_type": "stream",
     "text": [
      "0.77863859866\n"
     ]
    }
   ],
   "source": [
    "resampled_lg_test = make_resampled_ensemble(LogisticRegression(C=1))\n",
    "\n",
    "scores = cross_val_score(resampled_lg_test, X_train, y_train, cv=5, scoring=\"roc_auc\")\n",
    "print (np.mean(scores))"
   ]
  },
  {
   "cell_type": "code",
   "execution_count": 638,
   "metadata": {
    "collapsed": false
   },
   "outputs": [
    {
     "name": "stdout",
     "output_type": "stream",
     "text": [
      "undersampling with easy ensemble actually out performs simple undersamples in both cases of logistic regression and randomforestsbut still lower than the original \n"
     ]
    }
   ],
   "source": [
    "print (\"undersampling with easy ensemble actually out performs simple undersamples in both cases of logistic regression and randomforests\\\n",
    "but still lower than the original \")"
   ]
  },
  {
   "cell_type": "code",
   "execution_count": 644,
   "metadata": {
    "collapsed": false
   },
   "outputs": [],
   "source": [
    "# print (\"let's check if the precision and recall improved\")"
   ]
  },
  {
   "cell_type": "code",
   "execution_count": 647,
   "metadata": {
    "collapsed": false
   },
   "outputs": [
    {
     "name": "stdout",
     "output_type": "stream",
     "text": [
      "(32892, 53)\n",
      "[16446 16446]\n",
      "SMOTE blows up the number of samples for each class\n"
     ]
    }
   ],
   "source": [
    "# let's try SMOTE\n",
    "\n",
    "from imblearn.over_sampling import SMOTE\n",
    "smote = SMOTE()\n",
    "X_train_smote, y_train_smote = smote.fit_sample(X_train, y_train)\n",
    "print(X_train_smote.shape)\n",
    "print(np.bincount(y_train_smote))\n",
    "print (\"SMOTE blows up the number of samples for each class\")"
   ]
  },
  {
   "cell_type": "code",
   "execution_count": 648,
   "metadata": {
    "collapsed": false
   },
   "outputs": [
    {
     "name": "stdout",
     "output_type": "stream",
     "text": [
      "0.775935952942\n"
     ]
    }
   ],
   "source": [
    "smote_pipe = make_imb_pipeline(SMOTE(), LogisticRegression(C=1))\n",
    "scores = cross_val_score(smote_pipe, X_train, y_train, cv=10, scoring='roc_auc')\n",
    "print(np.mean(scores))"
   ]
  },
  {
   "cell_type": "code",
   "execution_count": 649,
   "metadata": {
    "collapsed": false
   },
   "outputs": [
    {
     "name": "stdout",
     "output_type": "stream",
     "text": [
      "SMOTE does not improve logistic regression auc score\n"
     ]
    }
   ],
   "source": [
    "print (\"SMOTE does not improve logistic regression auc score\")"
   ]
  },
  {
   "cell_type": "code",
   "execution_count": 650,
   "metadata": {
    "collapsed": false
   },
   "outputs": [
    {
     "name": "stdout",
     "output_type": "stream",
     "text": [
      "0.769996594769\n"
     ]
    }
   ],
   "source": [
    "\n",
    "smote_pipe_rf = make_imb_pipeline(SMOTE(), RandomForestClassifier(n_estimators=150))\n",
    "scores = cross_val_score(smote_pipe_rf, X_train, y_train, cv=10, scoring='roc_auc')\n",
    "print(np.mean(scores))"
   ]
  },
  {
   "cell_type": "code",
   "execution_count": 651,
   "metadata": {
    "collapsed": false
   },
   "outputs": [
    {
     "name": "stdout",
     "output_type": "stream",
     "text": [
      "SMOTE is fast to compute for logisitc regression\n",
      " slow on random forests\n",
      " even lower performance on random forests\n"
     ]
    }
   ],
   "source": [
    "print (\"SMOTE is fast to compute for logisitc regression\\n \\\n",
    "slow on random forests\\n \\\n",
    "even lower performance on random forests\")"
   ]
  },
  {
   "cell_type": "code",
   "execution_count": 658,
   "metadata": {
    "collapsed": false
   },
   "outputs": [
    {
     "data": {
      "text/plain": [
       "GridSearchCV(cv=10, error_score='raise',\n",
       "       estimator=Pipeline(steps=[('smote', SMOTE(k=None, k_neighbors=5, kind='regular', m=None, m_neighbors=10, n_jobs=1,\n",
       "   out_step=0.5, random_state=None, ratio='auto', svm_estimator=None)), ('logisticregression', LogisticRegression(C=1, class_weight=None, dual=False, fit_intercept=True,\n",
       "          intercept_scaling=1, max_iter=100, multi_class='ovr', n_jobs=1,\n",
       "          penalty='l2', random_state=None, solver='liblinear', tol=0.0001,\n",
       "          verbose=0, warm_start=False))]),\n",
       "       fit_params={}, iid=True, n_jobs=1,\n",
       "       param_grid={'smote__k_neighbors': [3, 5, 7, 9, 11, 15, 31]},\n",
       "       pre_dispatch='2*n_jobs', refit=True, return_train_score=True,\n",
       "       scoring='roc_auc', verbose=0)"
      ]
     },
     "execution_count": 658,
     "metadata": {},
     "output_type": "execute_result"
    }
   ],
   "source": [
    "\n",
    "param_grid = {'smote__k_neighbors': [3, 5, 7, 9, 11, 15, 31]}\n",
    "search_lr = GridSearchCV(smote_pipe, param_grid, cv=10, scoring=\"roc_auc\")\n",
    "search_lr.fit(X_train, y_train)"
   ]
  },
  {
   "cell_type": "code",
   "execution_count": 659,
   "metadata": {
    "collapsed": false
   },
   "outputs": [
    {
     "data": {
      "text/plain": [
       "0.77687466391996207"
      ]
     },
     "execution_count": 659,
     "metadata": {},
     "output_type": "execute_result"
    }
   ],
   "source": [
    "search_lr.best_score_"
   ]
  },
  {
   "cell_type": "code",
   "execution_count": 661,
   "metadata": {
    "collapsed": false
   },
   "outputs": [
    {
     "data": {
      "text/plain": [
       "<matplotlib.axes._subplots.AxesSubplot at 0x1170063c8>"
      ]
     },
     "execution_count": 661,
     "metadata": {},
     "output_type": "execute_result"
    },
    {
     "data": {
      "image/png": "iVBORw0KGgoAAAANSUhEUgAAAX0AAAEQCAYAAABcE6TVAAAABHNCSVQICAgIfAhkiAAAAAlwSFlz\nAAALEgAACxIB0t1+/AAAIABJREFUeJzt3Xt8FPW9//HXZxNAEAIEuYMBoYj1QkFF8UaOUqUeFWo5\nFlq1Xg61KrVyyjlqPRZqPSpU21OsrWK9QBXQom35eQOxRqtWoRUVEBVRQAJekMNVct3P74+ZJJuw\nm2wgIcnO+/l4zCMz3/nO7Hd2kvdOvjM7Y+6OiIhEQ6ypGyAiIgeOQl9EJEIU+iIiEaLQFxGJEIW+\niEiEKPRFRCIkrdA3s9Fm9q6ZvW9m1yWZP8XMlpvZG2a2wszKzKxTOG+yma00s7fN7BEza52w3A/N\nbHW4zO0Nt1kiIpKM1XWdvpnFgPeBM4BNwDJgvLu/m6L+OcC17j7KzHoBLwOD3b3EzB4FnnL3OWb2\nL8ANwNnuXmZmh7j7lobbNBERqSmdI/3hwBp3X+/upcB8YEwt9ScA8xKms4CDzSwbaEfwwQHwA+B2\ndy8DUOCLiDS+dEK/N/BxwvTGsGwvZtYWGA08DuDum4A7gQ1AIbDN3ZeE1QcBp5nZa2b2gpkdt2+b\nICIi6WroE7nnAi+7+zaAsF9/DJAH9ALam9l3wrrZQGd3PxH4L+CxBm6LiIjUkJ1GnULg0ITpPmFZ\nMuOp3rUzCvjQ3bcCmNkTwEnAXIL/GJ4AcPdlZhY3sy7u/kXiCs1MNwcSEdkH7m41y9I50l8GDDSz\nvPDKm/HAwpqVzKwjMBL4S0LxBuBEMzvIzIzgZPDqcN6fgdPDZQcBrWoGfkLDG22YOnVqo66/uQ1R\n2t4obau2N/OH+m5vKnUe6bt7uZlNAhYTfEjc7+6rzeyKYLbPCquOBRa5+56EZZea2QJgOVAa/qyo\n/wDwgJmtAIqBi+tqi4iI7J90undw92eBw2uU3VtjejYwO8myPwN+lqS8FLioPo0VEZH9E/lv5Obn\n5zd1Ew6oKG1vlLYVtL2ZrqG2t84vZzU1M/Pm3kYRkebGzPB9PJErIiIZQqEvIhIhCn0RkQhR6IuI\nRIhCX0QkQhT6IiIRotAXEYkQhb6ISIQo9EVEIiSte++IiMi+c3eKy4spKitiT+me4GfZnrSmk9ap\nY9misqKUbdFtGEQkMuIeTz9Y0wnjNOsWlxXTOqs1B2UfxEHZB9G2VdvgZ3bb5NM1ymutm2K668Fd\nk96GQaEvIgdcWbxs349y6zjqra1uaXlpyuBNJ3z3NYzbZLchZge2Nz3VvXfUvSMSUe5Oabz0gHY5\nVJTFPZ72kWuyeTltcvYpjFtntSZ4nlN06UhfKpXHyykpL6G4vJiS8hJKykuq/UvaKtYq8n8wjaGi\nv/dAdzkUlRWRZVkHtMuhoiw7lq3fpUaW6khfod+C7CjeQeGOQjbu2EjhzkI27dzE7pLdFJcXU1xW\nXC2wk5aVFVcbr1kv7nHaZLehdVZr2mS1oVVWK0rLSysDoixeVvmHm2pI/OM+KKv2uimXSzFkxxr3\nH9NU/b2N3eWQ2N97oLscGvs9laaj0G/G4h7n892fU7gzDPQdhVXjCWVxj9Mnpw+9c3rTJ6cPvdr3\non3r9tWCOnG8dVbrOucljmdZVq1HX+Xx8sorEJINiQGX1lCe/nJ7yvZgWL0+LFrFWtV5xUS6/b3p\ndDnsaxg3RX+vZD6FfhMpKS9h085N1Y7QK35WlG3etZmcNjlBoHfoTe8OvauFe8V0TpucSP9LXHHy\nL90PmpLyEtpkt0k7jNXfK5lEod+IdhbvZO3/rWXNF2v4YOsHrNka/Pxg6wds+XILPdr32CvAE4O9\nV4deHJR9UFNvhohkEIX+fkoM9opQr/i5vWg7A3IH8JXcrzAwd2Dlz4G5A+nVoRdZsaymbr6IRIxC\nPw07i3dWHqGnG+xf6fIVenXopT5ZEWlWWnToL9+8nLJ4WbWhPF6+V1lZvIxy37s8Vd2yeBmbd21m\nzdY1rPliDTuKdyjYRSQjtOjQH/K7IWTHsiuHrFhWtensWDZZll5Z4vJZlkWP9j0U7CKScVp06Df3\nNoqINDepQl+HtSIiEaLQFxGJEIW+iEiEKPRFRCJEoS8iEiEKfRGRCFHoi4hEiEJfRCRCFPoiIhGi\n0BcRiRCFvohIhKQV+mY22szeNbP3zey6JPOnmNlyM3vDzFaYWZmZdQrnTTazlWb2tpk9Ymatayz7\nYzOLm1luw2ySiIikUucN18wsBrwPnAFsApYB49393RT1zwGudfdRZtYLeBkY7O4lZvYo8JS7zwnr\n9gF+DxwOHOvuW5OsTzdcExGpp/254dpwYI27r3f3UmA+MKaW+hOAeQnTWcDBZpYNtCP44KjwK+A/\n02iDiIg0gHRCvzfwccL0xrBsL2bWFhgNPA7g7puAO4ENQCGwzd2XhHXPAz529xX73HoREamX7AZe\n37nAy+6+DSDs1x8D5AHbgQVm9h3gT8BPgK8nLLvXvyEVpk2bVjmen59Pfn5+AzdbRKRlKygooKCg\noM566fTpnwhMc/fR4fT1gLv79CR1nwAec/f54fQ44Cx3nxhOXwScANwDLAG+JAj7PgT/CQx3989q\nrFN9+iIi9ZSqTz+dI/1lwEAzywM2A+MJ+u1rvkBHYCTw3YTiDcCJZnYQUExwMniZu68EeiQs+xEw\nzN3/L/1NEhGR+qoz9N293MwmAYsJzgHc7+6rzeyKYLbPCquOBRa5+56EZZea2QJgOVAa/pzF3pxa\nundERKRh6Bm5IiIZSM/IFRERhb6ISJQo9EVEIkShLyISIQp9EZEIUeiLiESIQl9EJEIU+iIiEaLQ\nFxGJEIW+iEiEKPRFRCJEoS8iEiEKfRGRCFHoi4hEiEJfRCRCFPoiIhGi0BcRiRCFvohIhCj0RUQi\nRKEvIhIhCn0RkQhR6IuIRIhCX0QkQhT6IiIRotAXEYkQhb6ISIQo9EVEIkShLyISIQp9EZEIUeiL\niESIQl9EJEIU+iIiEaLQFxGJEIW+iEiEKPRFRCIkrdA3s9Fm9q6ZvW9m1yWZP8XMlpvZG2a2wszK\nzKxTOG+yma00s7fN7BEzax2WzzCz1Wb2ppk9bmY5DbtpIiJSk7l77RXMYsD7wBnAJmAZMN7d301R\n/xzgWncfZWa9gJeBwe5eYmaPAk+5+xwzGwX81d3jZnY74O5+Q5L1eV1tFBGR6swMd7ea5ekc6Q8H\n1rj7encvBeYDY2qpPwGYlzCdBRxsZtlAO4IPDtx9ibvHwzqvAX3SaIuIiOyHdEK/N/BxwvTGsGwv\nZtYWGA08DuDum4A7gQ1AIbDN3ZckWfQy4Jn0my0iIvuioU/kngu87O7bAMJ+/TFAHtALaG9m30lc\nwMxuBErdfW4Dt0VERGrITqNOIXBownSfsCyZ8VTv2hkFfOjuWwHM7AngJGBuOH0JcDZwem0NmDZt\nWuV4fn4++fn5aTRbRCQ6CgoKKCgoqLNeOidys4D3CE7kbgaWAhPcfXWNeh2BD4E+7r4nLBsO3A8c\nDxQDDwLL3P1uMxtN0PVzmrt/Ucvr60SuZIR+/fqxfv36pm6GZJi8vDzWrVu3V3mqE7l1Hum7e7mZ\nTQIWE3QH3e/uq83simC2zwqrjgUWVQR+uOxSM1sALAdKw58V9e8CWgPPmRnAa+5+VdpbKtLCrF+/\nHh3ASEML8zP9+s39l1BH+pIpwiOvpm6GZJhUv1f7c8mmiIhkCIW+iEiEKPRFRCJEoS8iEiEKfRGR\nCFHoi0izdumll/LTn/50v9ezfv16YrEY8Xi87soZTKEvIpHg7s3mstny8vIme22FvojQv39/7rjj\nDoYMGUKHDh2YOHEin332GWeffTY5OTmceeaZbN++HYDXXnuNk08+mc6dOzN06FBefPHFyvU89NBD\nfPWrXyUnJ4eBAwcya9asynkvvvgiffv25Ze//CXdu3end+/ePPTQQ7W267777uORRx5hxowZ5OTk\nMGZMcIPfzZs3M27cOLp168aAAQO46667KpdZtmwZxx9/PB07dqRnz55MmTIFgJEjRwLQqVMncnJy\neP3111O+7tq1a8nPz6dTp05069aNCRMmVM5btWoVZ555Jl26dKFnz57cfvvtAJSUlHDttdfSu3dv\n+vTpw+TJkyktLa227TNmzKBnz55cdtllADz55JMMHTqUzp07c8opp7BixYrad1RDcPdmPQRNFGn5\n6vpdhoYZ9kW/fv18xIgR/vnnn/umTZu8W7dufuyxx/pbb73lxcXFfvrpp/vNN9/shYWF3qVLF3/2\n2Wfd3X3JkiXepUsX37Jli7u7P/300/7RRx+5u/tLL73k7dq18+XLl7u7e0FBgWdnZ/u0adO8rKzM\nn376aW/Xrp1v27at1rZdcsklftNNN1VOx+NxP/bYY/2WW27xsrIy/+ijj3zAgAG+ePFid3cfMWKE\nP/zww+7uvnv3bn/99dfd3X3dunUei8U8Ho/X+X5MmDDBb731Vnd3Ly4u9ldeecXd3Xfu3Ok9e/b0\nX/3qV15cXOy7du3ypUuXurv7TTfd5CNGjPAtW7b4li1b/KSTTvKf/vSn1bb9hhtu8JKSEi8qKvI3\n3njDu3Xr5suWLfN4PO5z5szxfv36eUlJSZ3tS5Tq9yos3ztTkxU2p0GhL5miOf8u9+vXz+fOnVs5\n/a1vfcuvuuqqyum77rrLx44d69OnT/eLL7642rJnnXWWz5kzJ+l6x44d6zNnznT3IPjatWvn5eXl\nlfO7detWGcqp1Az9119/3fPy8qrVue222/yyyy5zd/fTTjvNp02bVvlBVKEi9BNfP5WLL77Yr7ji\nCt+4cWO18nnz5vmwYcOSLjNgwIDKD0N390WLFnn//v3dPdj2Nm3aVAv0K6+8svJDocLhhx/uL730\nUp3tS1Tf0Ff3jogA0L1798rxtm3b7jW9a9cu1q9fz2OPPUZubi65ubl07tyZV155hc2bNwPwzDPP\nMGLECLp06ULnzp155pln2LJlS+V6unTpQixWFTvt2rVj165d9Wrn+vXrKSwsrNaG2267jc8++wyA\nBx54gPfee4/Bgwdzwgkn8NRTT9X7vfjFL35BPB5n+PDhHH300Tz44IMAfPzxxwwYMCDpMps2beLQ\nQ6tuSJyXl8emTZsqp7t27UqrVq2qbcedd95ZbTs2btxYbZnGkM6tlUVEMDMOPfRQLr74Yu699969\n5peUlDBu3DgefvhhxowZQywW45vf/OZ+nziteUOxvn37cthhh/Hee+8lrT9gwADmzg0ez/H4448z\nbtw4tm7dWq8bk3Xr1q3yfMQrr7zCqFGjGDlyJH379mX+/PlJl+nduzfr16/niCOOAIJQ79WrV63b\nceONN3LDDXs9JbZR6UhfRNJ24YUXsnDhQhYvXkw8HqeoqIgXX3yRTZs2UVJSQklJCYcccgixWIxn\nnnmGxYsX7/drdu/enQ8//LByevjw4XTo0IEZM2ZQVFREeXk5q1at4h//+AcAjzzySOV/Fx07dsTM\niMVidO3alVgsxtq1a+t8zQULFlBYGDw2pFOnTsRiMWKxGOeccw6ffPIJM2fOpKSkhF27drF06VIA\nxo8fzy233MKWLVvYsmULP//5z7noootSvsbEiRO55557KpffvXs3Tz/9NLt37963NypNCn0R2eso\nNNVRce/evVm4cCG33norXbt2JS8vjzvuuIN4PE779u2ZOXMm//Zv/0Zubi7z58+vvNom3ddN5vLL\nL2fVqlXk5uZy/vnnE4vFePLJJ3nzzTfp378/3bp1Y+LEiezYsQOAZ599liOPPJKcnBwmT57Mo48+\nSps2bWjbti033ngjJ598Mrm5uZVhm8yyZcs44YQTyMnJYezYscycOZN+/frRvn17nnvuORYuXEiP\nHj0YNGhQ5YNL/vu//5vjjjuOY445hiFDhnDcccdx4403pnyNY489lvvuu49JkyaRm5vLoEGDmD17\ndp3vx/7SrZVFDpDmco24ZBbdWllERFJS6ItIkzvqqKPIycmpHDp06EBOTg7z5s2re+F9dOWVV1a+\nTuJrXnVVZj/AT907IgeIunekMah7R0REUlLoi4hEiEJfRCRCFPoiIhGi0BcRiRCFvohkvLlz5zJ6\n9OimbkazoEs2RQ4QXbK5by699FL69u3LzTff3NRNaZZ0yaaIREpTPnqwIR2o7VDoi0iLe1xi//79\nmTFjBkOGDKF9+/bE43GmT5/OwIEDycnJ4aijjuLPf/5z5Xpmz57NqaeeWjkdi8W49957GTRoELm5\nuUyaNKnO9yhjHqGY7MkqzWmgGT9tSKQ+6vpdZhoNMuyLlvS4xIr2Dh061AsLC72oqMjd3RcsWOCf\nfPKJu7s/9thjfvDBB1dOP/TQQ37qqadWLm9mfu655/qOHTt8w4YN3rVrV1+0aFGt7Wiuj1BM9XuF\nHpco0rSa8+9yS3pcYkV7H3rooVqX+9rXvuYLFy509+Sh/+qrr1ZOX3DBBT59+vRa19dcH6FY39BX\n946IAC3ncYkV+vTpU216zpw5ld0inTt3ZtWqVdVeu7btTacdmfIIRT0uUUTS0lwel5isfMOGDXz/\n+9/nhRdeYMSIEQAMHTq0Qa+WypRHKOpIX0TS1hwel5jM7t27icViHHLIIcTjcR588EFWrly536+d\nKFMeoajQF5EW9bjEZMsdccQR/PjHP+bEE0+kR48erFq1ilNOOWW/tzdRpjxCUV/OEjlA9OUsaQz6\ncpaIiKSk0BeRJtcUj0tMJgqPUEyre8fMRgP/S/Ahcb+7T68xfwrwXcCBVsARwCHuvs3MJgOXA3Fg\nBXCpu5eYWWfgUSAPWAdc4O7bk7y2unckI6h7RxpDg3fvmFkM+A1wFnAkMMHMBifWcfc73H2ouw8D\nbgAKwsDvBfwQGObuxxBcIjo+XOx6YIm7Hw78NVxOREQaUTrdO8OBNe6+3t1LgflAbafkJwCJ/5Nl\nAQebWTbQDigMy8cAFaelZwNj69NwERGpv3S+nNUb+DhheiPBB8FezKwtMBq4GsDdN5nZncAG4Etg\nsbs/H1bv5u6fhvU+MbNu+7YJIi1DXl5eWpcGitRHXl5eveo39DdyzwVedvdtAGbWieCIPg/YDiww\ns++4+9wky6qzUzLaunXrmroJImmFfiFwaMJ0H6q6aGoaT/WunVHAh+6+FcDMngBOAuYCn5pZd3f/\n1Mx6AJ+lasC0adMqx/Pz88nPz0+j2SIi0VFQUFD5pbDa1Hn1jpllAe8BZwCbgaXABHdfXaNeR+BD\noI+77wnLhgP3A8cDxcCDwDJ3v9vMpgNb3X26mV0HdHb365O8vq7eERGpp1RX79R5pO/u5WY2CVhM\n1SWbq83simC2VzwlYSywqCLww2WXmtkCYDlQGv6sqD8deMzMLgPWAxfs++aJiEg6dBsGEZEMpNsw\niIiIQl9EJEoU+iIiEaLQFxGJEIW+iEiEKPRFRCJEoS8iEiEKfRGRCFHoi4hEiEJfRCRCFPoiIhGi\n0BcRiRCFvohIhCj0RUQiRKEvIhIhCn0RkQhR6IuIRIhCX0QkQhT6IiIRotAXEYkQhb6ISIQo9EVE\nIkShLyISIQp9EZEIUeiLiESIQl9EJEIU+iIiEaLQFxGJEIW+iEiEKPRFRCJEoS8iEiEKfRGRCFHo\ni4hEiEJfRCRCFPoiIhGi0BcRiZC0Qt/MRpvZu2b2vpldl2T+FDNbbmZvmNkKMyszs05mNiihfLmZ\nbTeza8JlhpjZ38PypWZ2XENvnIiIVGfuXnsFsxjwPnAGsAlYBox393dT1D8HuNbdRyVZz0ZguLtv\nNLNFwJ3uvtjMvgH8l7v/S5L1eV1tFBGR6swMd7ea5ekc6Q8H1rj7encvBeYDY2qpPwGYl6R8FLDW\n3TeG03GgYzjeCShMoy0iIrIfstOo0xv4OGF6I8EHwV7MrC0wGrg6yexvU/3DYDKwyMzuBAw4KZ0G\ni4jIvksn9OvjXOBld9+WWGhmrYDzgOsTiq8EfuTufzazccADwNeTrXTatGmV4/n5+eTn5zdsq0VE\nWriCggIKCgrqrJdOn/6JwDR3Hx1OXw+4u09PUvcJ4DF3n1+j/Dzgqop1hGXb3L1TwvR2d+9IDerT\nFxGpv/3p018GDDSzPDNrDYwHFiZ5gY7ASOAvSdaRrJ+/0MxGhsueQXCyWEREGlGd3TvuXm5mk4DF\nBB8S97v7ajO7Ipjts8KqY4FF7r4ncXkza0dwEvf7NVY9EZhpZllAUZL5IiLSwOrs3mlq6t4REam/\n/eneERGRDKHQFxGJEIW+iEiEKPRFRCJEoS8iEiEKfRGRCFHoi4hEiEJfRCRCFPoiIhGi0BcRiRCF\nvohIhCj0RUQiRKEvIhIhCn0RkQhR6IuIRIhCX0QkQhT6IiIRotAXEYkQhb6ISITU+WB0ERFpftyh\nrCwYSkuDoWK8rCz1cgr9Zs4ddu2CHTuqhu3bg59ffgnnngudOzd1K0Wap9qCcX/Gm8P6ysogKwta\ntYLs7OBn4ngq5u4Hbg/sAzPz5t7GVEpK4IsvqkI6MbBrjqeat3MntG0LOTnB0LFj1Xh5OSxdCjNn\nwre+BbbXc+9F6lYRjC0x+OoaLy+vCsZU4Zg4Xtf85rSOrCyI1dJBb2a4+16poNBvJH/6E1x9NcTj\n1YM61XiqeR06BDs6lVdegX//dxg8GO6+G3r1OnDbGCWJwdiSgi/dYMzObv4hty/ryM6O7sGQQv8A\n+ewzmDQJ3noL7r8fTjml8V+zqAhuvRV+9zv4n/8JPgRqOwLIZO6wejU8/zy8/jrs2dMw4VkRjM0x\n2PZ3HVEOxkym0G9k7jBvHkyeDJdcAtOmBd0yB9KKFUHgt20Ls2bBoEEH9vWbysaNQcg//zwsWQKt\nW8OoUcEHbsV/SvsblFlZCkZpWRT6jaiwEK68Ej76CB54AI4/vunaUl4Od90Ft9wCU6bAj39c+0md\nlmjbNigoCAL++efh88/h9NODoD/jDDjsMAW0iEK/EbgHIX/99UH//U9+EhxlNgfr1sEVVwTdTb//\nPRx7bFO3aN8VFcGrr1Ydyb/zDpx0UhDyo0bBkCHR7c4SSUWh38DWrYOJE2Hr1iD4hwxp6hbtzR0e\nfjg44v/e94Iup3btmrpVdSsvhzffrDqS//vf4aijgqP4UaNgxAho06apWynSvCn0G0g8HpwwnTo1\nCNMpU2q/uqY5+OwzuPba4PLOWbOCrpDmxB0++KDqSP6FF6B796oj+ZEjg6uZRCR9Cv0GsGYNXH55\ncEXHAw8El0m2JE8+CVddBV//OtxxR9N+qevTT6uffC0vrzqSP+MMXXoqsr9Shb56QtNQXh6E5IgR\nwZeg/va3lhf4AOecA6tWBVf3HHkkLFgQHGUfCDt3wlNPBVc3HX108P798Y8wbBgsWgQffwyzZ8NF\nFynwRRqTjvTrsGoVXHYZHHxwcEL0sMOarCkNqrG/1FVSElwnX9Ev/+abMHx4VZfNsGHNv1tMpCVT\n9049lZbC9Onw619n7heeiouDL3X99rf7v43xOKxcGYT8kiXw8svB9wQqumxOPrllnEQWyRQK/XpY\nvhwuvTQ4+r33Xujb94C+/AG3cmUQ+AcdBPfdB1/5SnrLrVtX1Sf//PPBydaKI/n8fOjSpTFbLSK1\nUeinoagIfv7zoBvnjjvgwguj8yWf8nL4zW+C7U/1pa4tW4IraypCfufO6idf8/Kapu0isrf9Cn0z\nGw38L8GJ3/vdfXqN+VOA7wIOtAKOAA4BugGPhuUGHAbc5O4zw+V+CFwFlAFPufv1SV77gIT+a68F\nffeDBwfdHT16NPpLNkvr1sEPfhBcXXP33cFtnSu6bNauhVNPrQr5o46KzoeiSEuzz6FvZjHgfeAM\nYBOwDBjv7u+mqH8OcK27j0qyno3AcHffaGb5wE+As929zMwOcfctSdbn11zjdOhQddfJijtR1izr\n0CG4MqU+QfTsswU891w+c+cGtygeNy6zg6ygoID8/Pxa67jDI4/ADTdAv35VXTbDh7esWzqks62Z\nRNub2eq7valCP53rJ4YDa9x9fbii+cAYIGnoAxOAeUnKRwFr3X1jOH0lcLu7lwEkC/wKhx0W3Ft+\nyxb48MOgW6HivvMV4xU/S0tTfyDU/LBo0wamTi3gG9/IZ8UKOOSQNN6NFi6dXxyzoGvrwgsPTJsa\ni0Ihs2l79006od8b+DhheiPBB8FezKwtMBq4Osnsb1P9w2AQcJqZ3QrsAf7T3f+RbL0/+lEarQyV\nlu79QZDsw2Hz5qDr4qyzgqNaEZEoaOgrpc8FXnb3bYmFZtYKOA9I7LPPBjq7+4lmdjzwGEGf/35p\n1Qpyc4MhHdOm7e8rioi0IO5e6wCcCDybMH09cF2Kuk8Q9PfXLD8vcR1h2dPAyITpD4AuSZZ1DRo0\naNBQ/yFZTqdzpL8MGGhmecBmYDxBv301ZtYRGElwFU9Nyfr5/wycDrxoZoOAVu7+Rc0Fk52IEBGR\nfVNn6Lt7uZlNAhZTdcnmajO7Ipjts8KqY4FF7r4ncXkza0dwEvf7NVb9IPCAma0AioGL929TRESk\nLs3+y1kiItJwMuxuMukzs3Vm9paZLTezpU3dnoZmZveb2adm9nZCWWczW2xm75nZorBLLiOk2N6p\nZrbRzN4Ih9FN2caGZGZ9zOyvZrbKzFaY2TVhecbt4yTb+sOwPCP3r5m1MbPXw2xaYWZTw/IG2beR\nPdI3sw+BY939/5q6LY3BzE4BdgFz3P2YsGw68IW7zzCz6wiuntrrW9AtUYrtnQrsdPdfNmnjGoGZ\n9QB6uPubZtYe+CfB92cuJcP2cS3b+m0yd/+2c/cvzSwLeAW4BvgWDbBvI3ukT3BbiIzdfnd/Gaj5\ngTYGmB2OzyY4D5MRUmwvBPs547j7J+7+Zji+C1gN9CED93GKbe0dzs7U/ftlONqG4Nyr00D7NmND\nLw0OPGdmy8xsYlM35gDp5u6fQvCHRHBvpEw3yczeNLPfZ0JXRzJm1g/4GvAa0D2T93HCtr4eFmXk\n/jWzmJktBz4BnnP3ZTTQvo1y6J/s7sOAs4Grw+6BqMn0vr3fAoe5+9cI/ngysRugPbAA+FF4FFxz\nn2bMPk5NXlpWAAAGcklEQVSyrRm7f9097u5DCf57G25mR9JA+zayoe/um8OfnwN/IsWtJTLMp2bW\nHSr7ST9r4vY0Knf/POEWrfcBxzdlexqamWUThOAf3P0vYXFG7uNk25rp+xfA3XcABQS3t2mQfRvJ\n0DezduFRA2Z2MHAmsLJpW9UojOp9nguBS8Lx7wF/qblAC1dte8M/jArnk3n7+AHgHXf/dUJZpu7j\nvbY1U/evmR1S0VUV3s/s6wTnMRpk30by6h0z609wdO8EJ0kecffbm7ZVDcvM5gL5QBfgU2Aqwbeg\n/wj0BdYDF9S8T1JLlWJ7/4Wg/zcOrAOuqOgTbenM7GTgJWAFVV+7/wmwlOA+Vhmzj2vZ1u+QgfvX\nzI4mOFEbC4dH3f1/zCyXBti3kQx9EZGoimT3johIVCn0RUQiRKEvIhIhCn0RkQhR6IuIRIhCX0Qk\nQhT6IiIRotAXqcHMbmjg9e1syPXVWPfPzOz0OupMNbP/SFKeFz65TiJEoS8HRHhf8JbiJw28vkb7\nBqS7T3X3v+7PKvZ1QTNTfrRA2mmStvDIcLWZPWxm75jZY2bW1sxuCp/087aZ3ZNQ/wUz+1X4ZLJr\nzOwcM3vNzP4ZPgGoa1hvqpk9ZGYvmdlHZvZNM5seru/p2j4wzOx2M1sZ3l53Rlj2oJn91sz+bmYf\nmNlIC56s9Y6ZPZCw7ITwNd42s9vCstuAtuGTmP4Qln033L43zOx3ZrZP93AP76nyqpl9I8X8keF7\n9sfwff5DwrxhZlYQ3gr8mYQbbz1oZueH42eHyy0zs1+b2f9LWP2R4bo/sPDJU6FWNfbnQeG6zgi3\n963wtsWtwvKPwvf8H8A4M/uhBU+0ejO8FYY0d+6uQUNaA5BHcJ+TE8Pp+4H/ADol1JkD/Gs4/gLw\nm4R5HRPGLwd+EY5PJbi3Sgw4BtgNnBnOewI4L0V7coF3E6Zzwp8PAnPD8fOA7cBXw+l/hK/Rk+D+\nJbnh6z5f8TrAjoR1Dia40VVWOH03cGE937cdBPc+fw04vZZ6IwkeBNOT4MZxrwInEdwf6hWgS1jv\nAuD+hG09n+BhGxuAQ8PyucDChPf35XA9XYAtQFYt+7NiXQPC8tnANeH4R8CUhDYXAq0S338NzXvQ\nkb7U1wZ3fy0cfxg4FTg9PIJ/m+AmZ0cm1H80YbyvBc/2fBuYUqPeM+4eJ7ipVszdF4flK4B+Kdqy\nHdgTHol+E9iTMK/iKHcF8Im7vxNOrwrXdzzwgrtvDV/3EeC0sE7ikfwZwDBgmQUPtTgdOCxFe1Jp\nDSwB/tPr7opZ6u6bPUjRN8O2Hg4cRfDQn+XAjUCvGssNBta6+4Zwel6N+U+5e5m7f0FwQ7ruYXnN\n/XlK+HofuvvasHw2Ve8NVN+nbwFzzey7QHkd2ybNgEJf9pcTHP2e78GzaX8PHJQwf3fC+F3AzLDe\nD2rUKwYIw640oTxOcIS69wu7lxM8B2EBcA7wbM31hcsXJ5Qnri+dbhoDZrv7MHcf6u5HuPvNaSyX\nqIzgua7pPLg7sa3lBG01YGVCG4a4e7Iuotq2J9V7kOrBHLWtK3Gf/ivwG6o+GJUpzZx2kNTXoWZ2\nQjj+HeBv4fgX4TMKxtWybA6wKRz/Xi310uozD5+F0MndnyXoljimHutbCpxmZrnhOYMJBA+rAChJ\nOI/wPEHfdcX5h85mdmg67UvgwGXAYDP7r3ouC/Ae0NXMTgzbkG1mX01Sp39C276d5rrzkuzP98Ly\niv9oLqLqvakUnts41N1fBK4n2L/t03xdaSJJj6BEavEeweMlHyR4aMXvCPrFVwGbCcK0Qs2jyJ8B\nC8xsK/BXUnfbpHtFSQfgLxUnH4HJKZb3muPu/omZXU9VmD3p7k+G47OAFWb2T3e/yMxuAhaHR7El\nwNUEfd7pcnd3M5sQtneHu99T51JVbS01s3HAXRY8XCML+F/gnYQ6RWZ2FbDIzHYBy5K8D9XWG3qX\nqv25CrjH3YvN7FKCfZUVruveJMtmAQ+bWQ7BB+uvPXjSkzRjup++pM3M8gjC8eimbovszcwOdvfd\n4fjdwPte/alaIurekXrTUULzNdHMlpvZKoKulnvrWkCiR0f60iKY2RNUdQcZwYfPde7+XBO15zWC\nq3Iqi4A+wMcJ0w5c5O6raix7FPAHqp80LXL3EY3aaBEU+iIikaLuHRGRCFHoi4hEiEJfRCRCFPoi\nIhGi0BcRiZD/DzTG9cL3GuIzAAAAAElFTkSuQmCC\n",
      "text/plain": [
       "<matplotlib.figure.Figure at 0x10da00da0>"
      ]
     },
     "metadata": {},
     "output_type": "display_data"
    }
   ],
   "source": [
    "\n",
    "results = pd.DataFrame(search_lr.cv_results_)\n",
    "results.plot(\"param_smote__k_neighbors\", [\"mean_test_score\", \"mean_train_score\"])"
   ]
  },
  {
   "cell_type": "markdown",
   "metadata": {},
   "source": [
    "(Logistic Regression Model) the best test score happens with 9 neighbors for SMOTE"
   ]
  },
  {
   "cell_type": "code",
   "execution_count": 662,
   "metadata": {
    "collapsed": false
   },
   "outputs": [
    {
     "data": {
      "text/plain": [
       "GridSearchCV(cv=10, error_score='raise',\n",
       "       estimator=Pipeline(steps=[('smote', SMOTE(k=None, k_neighbors=5, kind='regular', m=None, m_neighbors=10, n_jobs=1,\n",
       "   out_step=0.5, random_state=None, ratio='auto', svm_estimator=None)), ('randomforestclassifier', RandomForestClassifier(bootstrap=True, class_weight=None, criterion='gini',\n",
       "            max_depth=None, m...mators=150, n_jobs=1, oob_score=False, random_state=None,\n",
       "            verbose=0, warm_start=False))]),\n",
       "       fit_params={}, iid=True, n_jobs=1,\n",
       "       param_grid={'smote__k_neighbors': [3, 5, 7, 9, 11, 15, 31]},\n",
       "       pre_dispatch='2*n_jobs', refit=True, return_train_score=True,\n",
       "       scoring='roc_auc', verbose=0)"
      ]
     },
     "execution_count": 662,
     "metadata": {},
     "output_type": "execute_result"
    }
   ],
   "source": [
    "param_grid = {'smote__k_neighbors': [3, 5, 7, 9, 11, 15, 31]}\n",
    "search_rf = GridSearchCV(smote_pipe_rf, param_grid, cv=10, scoring=\"roc_auc\")\n",
    "search_rf.fit(X_train, y_train)"
   ]
  },
  {
   "cell_type": "code",
   "execution_count": 663,
   "metadata": {
    "collapsed": false
   },
   "outputs": [
    {
     "data": {
      "text/plain": [
       "<matplotlib.axes._subplots.AxesSubplot at 0x117e70b00>"
      ]
     },
     "execution_count": 663,
     "metadata": {},
     "output_type": "execute_result"
    },
    {
     "data": {
      "image/png": "iVBORw0KGgoAAAANSUhEUgAAAXcAAAEQCAYAAABLMTQcAAAABHNCSVQICAgIfAhkiAAAAAlwSFlz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\nliCHu5lZghzuZmYJ+m/8Ey8/MsIu8AAAAABJRU5ErkJggg==\n",
      "text/plain": [
       "<matplotlib.figure.Figure at 0x10da22898>"
      ]
     },
     "metadata": {},
     "output_type": "display_data"
    }
   ],
   "source": [
    "results_rf = pd.DataFrame(search_rf.cv_results_)\n",
    "results_rf.plot(\"param_smote__k_neighbors\", [\"mean_test_score\", \"mean_train_score\"])"
   ]
  },
  {
   "cell_type": "code",
   "execution_count": 664,
   "metadata": {
    "collapsed": false
   },
   "outputs": [
    {
     "name": "stdout",
     "output_type": "stream",
     "text": [
      "0.771563195711\n"
     ]
    }
   ],
   "source": [
    "print (search_rf.best_score_)"
   ]
  },
  {
   "cell_type": "markdown",
   "metadata": {},
   "source": [
    "(Random Forest Model) the best test score happens with 7 neighbors for SMOTE (0.771 auc)"
   ]
  },
  {
   "cell_type": "markdown",
   "metadata": {},
   "source": [
    "# Travis "
   ]
  },
  {
   "cell_type": "code",
   "execution_count": 79,
   "metadata": {
    "collapsed": false
   },
   "outputs": [],
   "source": [
    "#write code below, you can make multiple cells\n",
    "from sklearn.linear_model import LogisticRegression\n",
    "lr = LogisticRegression(C=1)\n",
    "final_score = roc_auc_score(y_val, lr.fit(X_trainval, y_trainval).predict_proba(X_val)[:,1])\n",
    "assert final_score > 0.75"
   ]
  }
 ],
 "metadata": {
  "anaconda-cloud": {},
  "kernelspec": {
   "display_name": "Python 3",
   "language": "python",
   "name": "python3"
  },
  "language_info": {
   "codemirror_mode": {
    "name": "ipython",
    "version": 3
   },
   "file_extension": ".py",
   "mimetype": "text/x-python",
   "name": "python",
   "nbconvert_exporter": "python",
   "pygments_lexer": "ipython3",
   "version": "3.5.1"
  }
 },
 "nbformat": 4,
 "nbformat_minor": 2
}
